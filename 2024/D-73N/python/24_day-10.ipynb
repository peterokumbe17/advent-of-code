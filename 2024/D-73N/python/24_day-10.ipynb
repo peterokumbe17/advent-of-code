{
 "cells": [
  {
   "cell_type": "markdown",
   "metadata": {},
   "source": [
    "# Day 10: Hoof It"
   ]
  },
  {
   "cell_type": "markdown",
   "metadata": {},
   "source": [
    "## Import libraries"
   ]
  },
  {
   "cell_type": "code",
   "execution_count": 1,
   "metadata": {},
   "outputs": [],
   "source": [
    "import copy"
   ]
  },
  {
   "cell_type": "markdown",
   "metadata": {},
   "source": [
    "## Import data"
   ]
  },
  {
   "cell_type": "code",
   "execution_count": null,
   "metadata": {},
   "outputs": [],
   "source": [
    "# *** [IMPORT DATA] ***\n",
    "# NOTE: In the given puzzle input:\n",
    "# - Input represents a topographical map of a surrounding area.\n",
    "# - The TM indicates the height at EACH position, using a scale from 0 (lowest) -> 9 (highest).\n",
    "# =====================================================================================================================\n",
    "# ! Open the file for reading mode (= default mode if the mode is not specified)\n",
    "file = open(\"../data/24_day-10_input-test.txt\", \"r\") \n",
    "\n",
    "# Read all the data in the file\n",
    "file_data = file.read().strip()\n",
    "\n",
    "print(file_data)\n",
    "# ===================================================================================================================="
   ]
  },
  {
   "cell_type": "markdown",
   "metadata": {},
   "source": [
    "## Helper functions"
   ]
  },
  {
   "cell_type": "code",
   "execution_count": 32,
   "metadata": {},
   "outputs": [],
   "source": []
  },
  {
   "cell_type": "markdown",
   "metadata": {},
   "source": [
    "## Part 1"
   ]
  },
  {
   "cell_type": "code",
   "execution_count": null,
   "metadata": {},
   "outputs": [],
   "source": [
    "# *** [PART 1] ***\n",
    "# ! PROBLEM: The reindeer is holding a book titled \"Lava Island Hiking Guide\". However, when you open the book, you discover that most of it seems to have been scorched by lava! As you're about to ask how you can help, the reindeer brings you a blank topographic map of the surrounding area (your puzzle input) and looks up at you excitedly. Perhaps you can help fill in the missing hiking trails?# - Based on un-scorched scraps of the book, you determine that a good hiking trail is *as long as possible* and has an *even, gradual, uphill slope.\n",
    "# - A hiking trail STARTS at height = 0; ENDS at height = 9; ALWAYS increases by a height of 1 at EACH step.\n",
    "# - Hiking trails NEVER include diagonal steps - ONLY U-D-L-R movements.\n",
    "# TODO: Calculate the sum total of the scores of ALL trailheads on the topographical map.\n",
    "# - A trailhead is any position that STARTS one or more hiking trails => these positions will ALWAYS have height = 0.\n",
    "# - A trailhead's score = the total number of reachable trails that end at height 9 (starting from the trailhead position, where height = 0).\n",
    "# ====================================================================================================================\n",
    "# ! Create a deep (independent) copy of the data, such that changes made to the copy do not affect the original data to still test/re-run Part 1/2 with the correct INITIAL (and not modified) data\n",
    "# - NOTE: Not using a deep copy will modify the original data after running Part 1/2, therefore no correct output will be calculated anymore.\n",
    "top_map = copy.deepcopy(file_data)\n",
    "\n",
    "\n",
    "\n",
    "def find_paths(grid):\n",
    "    # Convert the grid string into a 2D list\n",
    "    grid = [list(row) for row in grid.split('\\n') if row]\n",
    "    rows = len(grid)\n",
    "    cols = len(grid[0]) if rows > 0 else 0\n",
    "\n",
    "    # Directions for moving up, down, left, right\n",
    "    directions = [(-1, 0), (1, 0), (0, -1), (0, 1)]\n",
    "\n",
    "    # Function to perform DFS\n",
    "    def dfs(x, y, current_char, path_count):\n",
    "        if current_char == '9':\n",
    "            return 1\n",
    "        total = 0\n",
    "        for dx, dy in directions:\n",
    "            nx, ny = x + dx, y + dy\n",
    "            if 0 <= nx < rows and 0 <= ny < cols:\n",
    "                next_char = grid[nx][ny]\n",
    "                if next_char == str(int(current_char) + 1):\n",
    "                    total += dfs(nx, ny, next_char, path_count)\n",
    "        return total\n",
    "\n",
    "    # Find all '0's and calculate paths\n",
    "    zero_positions = []\n",
    "    for i in range(rows):\n",
    "        for j in range(cols):\n",
    "            if grid[i][j] == '0':\n",
    "                zero_positions.append((i, j))\n",
    "\n",
    "    # Store the number of paths for each '0'\n",
    "    path_counts = {}\n",
    "    for pos in zero_positions:\n",
    "        x, y = pos\n",
    "        path_counts[pos] = dfs(x, y, '0', 0)\n",
    "\n",
    "    return path_counts\n",
    "\n",
    "# Example grid\n",
    "grid = \"\"\"89010123\n",
    "78121874\n",
    "87430965\n",
    "96549874\n",
    "45678903\n",
    "32019012\n",
    "01329801\n",
    "10456732\"\"\"\n",
    "\n",
    "# Find and print the number of paths for each '0'\n",
    "path_counts = find_paths(grid)\n",
    "for pos, count in path_counts.items():\n",
    "    print(f\"Position {pos} has {count} valid paths to '9'.\")\n",
    "\n",
    "\n",
    "\n",
    "\n",
    "\n",
    "\n",
    "\n",
    "# ===================================================================================================================="
   ]
  },
  {
   "cell_type": "markdown",
   "metadata": {},
   "source": [
    "## Part 2"
   ]
  },
  {
   "cell_type": "code",
   "execution_count": null,
   "metadata": {},
   "outputs": [],
   "source": [
    "# *** [PART 2] ***\n",
    "# ! PROBLEM: xxx\n",
    "#====================================================================================================================\n",
    "\n"
   ]
  },
  {
   "cell_type": "code",
   "execution_count": null,
   "metadata": {},
   "outputs": [],
   "source": []
  }
 ],
 "metadata": {
  "kernelspec": {
   "display_name": "base",
   "language": "python",
   "name": "python3"
  },
  "language_info": {
   "codemirror_mode": {
    "name": "ipython",
    "version": 3
   },
   "file_extension": ".py",
   "mimetype": "text/x-python",
   "name": "python",
   "nbconvert_exporter": "python",
   "pygments_lexer": "ipython3",
   "version": "3.9.7"
  }
 },
 "nbformat": 4,
 "nbformat_minor": 2
}
