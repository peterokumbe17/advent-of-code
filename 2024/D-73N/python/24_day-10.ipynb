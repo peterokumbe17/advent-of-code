{
 "cells": [
  {
   "cell_type": "markdown",
   "metadata": {},
   "source": [
    "# Day 10: Hoof It"
   ]
  },
  {
   "cell_type": "markdown",
   "metadata": {},
   "source": [
    "## Import libraries"
   ]
  },
  {
   "cell_type": "code",
   "execution_count": 15,
   "metadata": {},
   "outputs": [],
   "source": [
    "import copy"
   ]
  },
  {
   "cell_type": "markdown",
   "metadata": {},
   "source": [
    "## Import data"
   ]
  },
  {
   "cell_type": "code",
   "execution_count": 36,
   "metadata": {},
   "outputs": [
    {
     "name": "stdout",
     "output_type": "stream",
     "text": [
      "034988701278987676012129801065432105421103432103454096565\n",
      "125679872367010982101036782196501234910012501012763187434\n",
      "787610765456123673412345693887321045823459621029872236121\n",
      "898525601595434534781076784989430896701968739438901549030\n",
      "323434532786365105698985895676501765432879548567123678745\n",
      "011012345645678234387654326967892123446785697621034505656\n",
      "432903678932109323476763017856743014565494784543217614567\n",
      "589814565021012310565892107012656019872343203894108723878\n",
      "676745654108985459876901098763254321781254112765439012969\n",
      "565656783212976367805419343454169430690167089678321023456\n",
      "854309892107801210912378332169078944512358974389412013210\n",
      "985212343056543498901263211078927653403445665278501894321\n",
      "676501456545212567632154901012012102176532787165430765410\n",
      "125034567430101676545013876328703291081001096012321456701\n",
      "034129878921018987436980785439654387892654012965434389898\n",
      "101212982982789832127821897654303476763787123878001298187\n",
      "832003471073654101038936778985212565654692104569122347098\n",
      "943126562364543234897645012105432894304543243321031056127\n",
      "874298401459659145686541023256301783213432102458947898036\n",
      "965387523458778096675632894367012654500123211067656012145\n",
      "810456014560127687501701765458983523545655428985443083434\n",
      "723012329875034573432892601249874012338764569876322196510\n",
      "654322345676542102343789894332465621429853278701012387623\n",
      "456401234987789011498778765011321290510343189652212899854\n",
      "367321243453276320345662104320210987653212090343103769763\n",
      "218930652454105431221323478910345898710103221202114658892\n",
      "006945781367898987630014568921456787610154101213095147081\n",
      "145876590201456894545679697832125456543267818344786036120\n",
      "236710185102361003879788786545001445567858989655687125431\n",
      "569825676509872112968795670122112344431945878743296234565\n",
      "654334587412103021257654565431034498120930189650123109872\n",
      "789245698343894540343403676892345567011821065211034898901\n",
      "432176501256765696012512589743496578762762174300165437432\n",
      "310089433212678787810103430652787789643453789421676326523\n",
      "421632124501549896981254921301296545556304789034589212010\n",
      "530789038678432765432367873234123403469215672105890103141\n",
      "045690129879321054101234980105038912378987683216721911032\n",
      "132101434564567893250125678676107667877876594569637832145\n",
      "201234989433218982345614989789234554960345487678546543256\n",
      "334345676521101671898703065690965433451206543287667898969\n",
      "455210897010010560789782154321876522543215670196546327878\n",
      "966580768954323457632692212430789011694504389231435416547\n",
      "877891251067810198541521003521545600789611223410121005436\n",
      "012019342301967801430435654677632780678700014521032389305\n",
      "329828765432858912301646710788901891521812325672123458216\n",
      "456734210876543205218769881291010132430923278989834567567\n",
      "012985309987434104329454898301125673876014167575765765498\n",
      "943476478932122345010343987432034984981985095434389894323\n",
      "859874567841031656789252156547875675670876787625678987010\n",
      "768561265434670712395161067656965787651451012510895672100\n",
      "655410872354589803234078458945434590142360343422743543261\n",
      "012328961043489954165439143289323212239871256321652145652\n",
      "785499876672128765076721012170212103456756765410598056743\n",
      "896780745589056787689831089061106787034347898507882349899\n",
      "763271234432345996547642174352005498125432984678971001878\n",
      "454189432521001876038983465243214323676901765489160010967\n",
      "565076521010122345127654564101233010987810894321054323456\n"
     ]
    }
   ],
   "source": [
    "# *** [IMPORT DATA] ***\n",
    "# NOTE: In the given puzzle input:\n",
    "# - Input represents a topographical map of a surrounding area.\n",
    "# - The TM indicates the height at EACH position, using a scale from 0 (lowest) -> 9 (highest).\n",
    "# =====================================================================================================================\n",
    "# ! Open the file for reading mode (= default mode if the mode is not specified)\n",
    "file = open(\"../data/24_day-10_input.txt\", \"r\") \n",
    "\n",
    "# Read all the data in the file\n",
    "file_data = file.read().strip()\n",
    "\n",
    "# file_data = file_data.split(\"\\n\")\n",
    "\n",
    "print(file_data)\n",
    "# ===================================================================================================================="
   ]
  },
  {
   "cell_type": "markdown",
   "metadata": {},
   "source": [
    "## Helper functions"
   ]
  },
  {
   "cell_type": "code",
   "execution_count": 30,
   "metadata": {},
   "outputs": [],
   "source": [
    "def find_paths(grid, trailheadPos):\n",
    "    \"\"\"\n",
    "    Find all *distinct* successful paths from a given trailhead (0) position in the grid.\n",
    "    NOTE: This function will return distinct paths that can reach all reachable 9s.\n",
    "    - Grid positions can be revisited in different paths, as long as each path has at least 1 different grid position in the path than other found paths\n",
    "    - This function does NOT return a list of the *first* distinct paths that can reach all reachable 9s. It returns ALL distinct paths that can reach all reachable 9s.\n",
    "    - E.g. If a path 'path_1' reaches '9_1' and another distinct 'path_2' also reaches the same '9_1', then this function will return both 'path_1' and 'path_2' as distinct paths. BUT for the purpose of this challenge, we only need to count the *first* path that can reach a specific '9'.\n",
    "\n",
    "    Args:\n",
    "    - grid (list of lists): A 2D grid of integers.\n",
    "    - trailheadPos (tuple): The row and column indices of the trailhead.\n",
    "\n",
    "    Returns:\n",
    "    - list of lists: A list of successful paths, where each path is a list of tuples representing the row and column indices of the path.\n",
    "    \"\"\"\n",
    "    rows, cols = len(grid), len(grid[0])\n",
    "    directions = [(0, 1), (0, -1), (1, 0), (-1, 0)]  # right, left, down, up\n",
    "    visited = set()\n",
    "\n",
    "    # Depth-first search\n",
    "    def dfs(row, col, path):\n",
    "        if (row, col) in visited:\n",
    "            return\n",
    "        \n",
    "        visited.add((row, col))\n",
    "        path.append((row, col))\n",
    "\n",
    "        if grid[row][col] == 9:\n",
    "            paths.append(path[:])\n",
    "        else:\n",
    "            for dr, dc in directions:\n",
    "                nr, nc = row + dr, col + dc\n",
    "\n",
    "                if (0 <= nr < rows) and (0 <= nc < cols) and (grid[nr][nc] == grid[row][col] + 1):\n",
    "                    dfs(nr, nc, path)\n",
    "                    \n",
    "        visited.remove((row, col))\n",
    "        path.pop()\n",
    "\n",
    "    paths = []\n",
    "    \n",
    "    dfs(trailheadPos[0], trailheadPos[1], [])\n",
    "    \n",
    "    return paths\n",
    "# ===================================================================================================================="
   ]
  },
  {
   "cell_type": "code",
   "execution_count": 34,
   "metadata": {},
   "outputs": [],
   "source": [
    "def print_paths(paths, grid):\n",
    "    \"\"\"\n",
    "    Print the successful paths in a readable format.\n",
    "\n",
    "    Args:\n",
    "    - paths (list of lists): A list of successful paths, where each path is a list of tuples representing the row and column indices of the path.\n",
    "    - grid (list of lists): A 2D grid of integers.\n",
    "    \"\"\"\n",
    "    for i, path in enumerate(paths):\n",
    "        print(f\"Path {i+1}:\")\n",
    "\n",
    "        for row, col in path:\n",
    "            print(f\"({row}, {col}) = {grid[row][col]}\", end=\" -> \")\n",
    "        \n",
    "        print()"
   ]
  },
  {
   "cell_type": "markdown",
   "metadata": {},
   "source": [
    "## Part 1"
   ]
  },
  {
   "cell_type": "code",
   "execution_count": 39,
   "metadata": {},
   "outputs": [
    {
     "name": "stdout",
     "output_type": "stream",
     "text": [
      "Total sum scores of all trailheads (PART 1): 794\n"
     ]
    }
   ],
   "source": [
    "# *** [PART 1] ***\n",
    "# ! PROBLEM: The reindeer is holding a book titled \"Lava Island Hiking Guide\". However, when you open the book, you discover that most of it seems to have been scorched by lava! As you're about to ask how you can help, the reindeer brings you a blank topographic map of the surrounding area (your puzzle input) and looks up at you excitedly. Perhaps you can help fill in the missing hiking trails?# - Based on un-scorched scraps of the book, you determine that a good hiking trail is *as long as possible* and has an *even, gradual, uphill slope.\n",
    "# - A hiking trail STARTS at height = 0; ENDS at height = 9; ALWAYS increases by a height of 1 at EACH step.\n",
    "# - Hiking trails NEVER include diagonal steps - ONLY U-D-L-R movements.\n",
    "# ! TODO: Calculate the sum total of the scores of ALL trailheads on the topographical map.\n",
    "# - A trailhead is any position that STARTS one or more hiking trails => these positions will ALWAYS have height = 0.\n",
    "# - A trailhead's score = the total number of reachable trails that end at height 9 (starting from the trailhead position, where height = 0).\n",
    "# ====================================================================================================================\n",
    "# ! Create a deep (independent) copy of the data, such that changes made to the copy do not affect the original data to still test/re-run Part 1/2 with the correct INITIAL (and not modified) data\n",
    "# - NOTE: Not using a deep copy will modify the original data after running Part 1/2, therefore no correct output will be calculated anymore.\n",
    "top_map = copy.deepcopy(file_data)\n",
    "top_map = [list(row) for row in top_map.split('\\n') if row]\n",
    "numRows = len(top_map)\n",
    "numCols = len(top_map[0]) if numRows > 0 else 0\n",
    "sumScores = 0\n",
    "\n",
    "# Convert grid values from strings to integers\n",
    "# - NOTE: This is because func 'find_paths' handles grid values as integers, not as strings\n",
    "for i in range(numRows):\n",
    "    for j in range(numCols):\n",
    "        top_map[i][j] = int(top_map[i][j])\n",
    "\n",
    "# # Example usage\n",
    "# grid = [\n",
    "#     [8, 9, 0, 1, 0, 1, 2, 3],\n",
    "#     [7, 8, 1, 2, 1, 8, 7, 4],\n",
    "#     [8, 7, 4, 3, 0, 9, 6, 5],\n",
    "#     [9, 6, 5, 4, 9, 8, 7, 4],\n",
    "#     [4, 5, 6, 7, 8, 9, 0, 3],\n",
    "#     [3, 2, 0, 1, 9, 0, 1, 2],\n",
    "#     [0, 1, 3, 2, 9, 8, 0, 1],\n",
    "#     [1, 0, 4, 5, 6, 7, 3, 2]\n",
    "# ]\n",
    "\n",
    "# tHeadPos = (0, 2)\n",
    "# distinctPaths = find_paths(grid, tHeadPos)\n",
    "# print_paths(distinctPaths, grid)\n",
    "# reachablePaths = {}\n",
    "\n",
    "# for path in distinctPaths:\n",
    "#     if path:  # Ensure the list is not empty\n",
    "#         last_value = path[-1]  # Get position of endtrail (9) in current path = the last element of the list\n",
    "#         # If the key (last_value) is NOT already in the dictionary, add the list to the dictionary.\n",
    "#         if last_value not in reachablePaths:\n",
    "#             reachablePaths[last_value] = path\n",
    "\n",
    "# reachablePaths = list(reachablePaths.values())\n",
    "\n",
    "# # Calculate the score of the trailhead\n",
    "# sumScore = len(reachablePaths)\n",
    "\n",
    "#print(sumScore)\n",
    "\n",
    "\"\"\"Calculate & sum scores of EACH trailhead found in the grid\"\"\"\n",
    "for i in range(numRows):\n",
    "    for j in range(numCols):\n",
    "        if top_map[i][j] == 0: # Current position value = a trailhead\n",
    "            tHeadPos = (i, j)\n",
    "            # print(tHeadPos)\n",
    "            distinctPaths = find_paths(top_map, tHeadPos)\n",
    "            reachablePaths = {}\n",
    "\n",
    "            for path in distinctPaths:\n",
    "                if path:  # Ensure the list is not empty\n",
    "                    last_value = path[-1]  # Get position of endtrail (9) in current path = the last element of the list\n",
    "                    \n",
    "                    # If the key (last_value) is NOT already in the dictionary, add the list to the dictionary.\n",
    "                    if last_value not in reachablePaths:\n",
    "                        reachablePaths[last_value] = path\n",
    "\n",
    "            reachablePaths = list(reachablePaths.values())\n",
    "            \n",
    "            # Calculate the score of the trailhead\n",
    "            sumScores += len(reachablePaths)\n",
    "\n",
    "print(\"Total sum scores of all trailheads (PART 1):\", sumScores)\n",
    "# ===================================================================================================================="
   ]
  },
  {
   "cell_type": "markdown",
   "metadata": {},
   "source": [
    "## Part 2"
   ]
  },
  {
   "cell_type": "code",
   "execution_count": 40,
   "metadata": {},
   "outputs": [
    {
     "name": "stdout",
     "output_type": "stream",
     "text": [
      "Total sum ratings of all trailheads (PART 2): 1706\n"
     ]
    }
   ],
   "source": [
    "# *** [PART 2] ***\n",
    "# ! PROBLEM: The reindeer spends a few minutes reviewing your hiking trail map before realizing something, disappearing for a few minutes, and finally returning with yet another slightly-charred piece of paper. The paper describes a second way to measure a trailhead called its *rating*.\n",
    "# - NOTE: A trailhead's rating is the number of *distinct hiking trails* which *begin at that trailhead*.\n",
    "# ! TODO: Calculate the SUM of the *ratings* of ALL trailheads* in the grid.\n",
    "#====================================================================================================================\n",
    "top_map2 = copy.deepcopy(file_data)\n",
    "top_map2 = [list(row) for row in top_map2.split('\\n') if row]\n",
    "numRows = len(top_map2)\n",
    "numCols = len(top_map2[0]) if numRows > 0 else 0\n",
    "sumRatings = 0\n",
    "\n",
    "# # Example usage\n",
    "# grid = [\n",
    "#     [8, 9, 0, 1, 0, 1, 2, 3],\n",
    "#     [7, 8, 1, 2, 1, 8, 7, 4],\n",
    "#     [8, 7, 4, 3, 0, 9, 6, 5],\n",
    "#     [9, 6, 5, 4, 9, 8, 7, 4],\n",
    "#     [4, 5, 6, 7, 8, 9, 0, 3],\n",
    "#     [3, 2, 0, 1, 9, 0, 1, 2],\n",
    "#     [0, 1, 3, 2, 9, 8, 0, 1],\n",
    "#     [1, 0, 4, 5, 6, 7, 3, 2]\n",
    "# ]\n",
    "\n",
    "# tHeadPos = (0, 4)\n",
    "# distinctPaths = find_paths(grid, tHeadPos)\n",
    "# reachablePaths = {}\n",
    "\n",
    "# print_paths(distinctPaths, grid)\n",
    "\n",
    "# Convert grid values from strings to integer\n",
    "# - NOTE: This is because func 'find_paths' handles grid values as integers, not as strings\n",
    "for i in range(numRows):\n",
    "    for j in range(numCols):\n",
    "        top_map2[i][j] = int(top_map2[i][j])\n",
    "\n",
    "\"\"\"Calculate & sum ratings of EACH trailhead found in the grid\"\"\"\n",
    "for i in range(numRows):\n",
    "    for j in range(numCols):\n",
    "        if top_map2[i][j] == 0: # Current position value = a trailhead\n",
    "            tHeadPos = (i, j)\n",
    "            # print(tHeadPos)\n",
    "            distinctPaths = find_paths(top_map2, tHeadPos)\n",
    "            \n",
    "            # Calculate the score of the trailhead\n",
    "            sumRatings += len(distinctPaths)\n",
    "\n",
    "print(\"Total sum ratings of all trailheads (PART 2):\", sumRatings)"
   ]
  },
  {
   "cell_type": "code",
   "execution_count": null,
   "metadata": {},
   "outputs": [],
   "source": []
  }
 ],
 "metadata": {
  "kernelspec": {
   "display_name": "Python 3",
   "language": "python",
   "name": "python3"
  },
  "language_info": {
   "codemirror_mode": {
    "name": "ipython",
    "version": 3
   },
   "file_extension": ".py",
   "mimetype": "text/x-python",
   "name": "python",
   "nbconvert_exporter": "python",
   "pygments_lexer": "ipython3",
   "version": "3.12.4"
  }
 },
 "nbformat": 4,
 "nbformat_minor": 2
}
