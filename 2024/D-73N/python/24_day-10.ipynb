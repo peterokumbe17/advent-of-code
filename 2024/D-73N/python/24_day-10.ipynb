{
 "cells": [
  {
   "cell_type": "markdown",
   "metadata": {},
   "source": [
    "# Day 10: Hoof It"
   ]
  },
  {
   "cell_type": "markdown",
   "metadata": {},
   "source": [
    "## Import libraries"
   ]
  },
  {
   "cell_type": "code",
   "execution_count": 1,
   "metadata": {},
   "outputs": [],
   "source": [
    "import copy"
   ]
  },
  {
   "cell_type": "markdown",
   "metadata": {},
   "source": [
    "## Import data"
   ]
  },
  {
   "cell_type": "code",
   "execution_count": 6,
   "metadata": {},
   "outputs": [
    {
     "name": "stdout",
     "output_type": "stream",
     "text": [
      "89010123\n",
      "78121874\n",
      "87430965\n",
      "96549874\n",
      "45678903\n",
      "32019012\n",
      "01329801\n",
      "10456732\n"
     ]
    }
   ],
   "source": [
    "# *** [IMPORT DATA] ***\n",
    "# NOTE: In the given puzzle input:\n",
    "# - Input represents a topographical map of a surrounding area.\n",
    "# - The TM indicates the height at EACH position, using a scale from 0 (lowest) -> 9 (highest).\n",
    "# =====================================================================================================================\n",
    "# ! Open the file for reading mode (= default mode if the mode is not specified)\n",
    "file = open(\"../data/24_day-10_input-test.txt\", \"r\") \n",
    "\n",
    "# Read all the data in the file\n",
    "file_data = file.read().strip()\n",
    "\n",
    "# file_data = file_data.split(\"\\n\")\n",
    "\n",
    "print(file_data)\n",
    "# ===================================================================================================================="
   ]
  },
  {
   "cell_type": "markdown",
   "metadata": {},
   "source": [
    "## Helper functions"
   ]
  },
  {
   "cell_type": "code",
   "execution_count": 32,
   "metadata": {},
   "outputs": [],
   "source": [
    "def swap_dot_with_digits(input_string): # INCORRECT - NEEDS TO BE FIXED\n",
    "    # Convert the string into a list for easy manipulation\n",
    "    input_list = list(input_string)\n",
    "\n",
    "    # Left pointer for the dots\n",
    "    left_pointer = 0\n",
    "    while left_pointer < len(input_list) and input_list[left_pointer] != '.':\n",
    "        left_pointer += 1\n",
    "\n",
    "    # Continue swapping until no more valid swaps can be made\n",
    "    while left_pointer < len(input_list):\n",
    "        # Count the number of dots\n",
    "        dot_start = left_pointer\n",
    "        while left_pointer < len(input_list) and input_list[left_pointer] == '.':\n",
    "            left_pointer += 1\n",
    "        dot_length = left_pointer - dot_start\n",
    "\n",
    "        # Find the first sequence of same digits from the right\n",
    "        right_pointer = len(input_list) - 1\n",
    "        while right_pointer > dot_start:\n",
    "            digit_start = right_pointer\n",
    "            while digit_start > dot_start and input_list[digit_start] == input_list[right_pointer]:\n",
    "                digit_start -= 1\n",
    "            digit_length = right_pointer - digit_start\n",
    "\n",
    "            # Check if the digit sequence can fit into the dot sequence\n",
    "            if dot_length >= digit_length:\n",
    "                # Perform the swap\n",
    "                for i in range(digit_length):\n",
    "                    input_list[dot_start + i] = input_list[right_pointer - digit_length + 1 + i]\n",
    "                for i in range(digit_length):\n",
    "                    input_list[right_pointer - digit_length + 1 + i] = '.'\n",
    "                break\n",
    "            else:\n",
    "                # Move to the next sequence of digits on the right\n",
    "                right_pointer = digit_start\n",
    "\n",
    "        # Move the left pointer to the next dot sequence\n",
    "        while left_pointer < len(input_list) and input_list[left_pointer] != '.':\n",
    "            left_pointer += 1\n",
    "\n",
    "    # Convert the list back into a string\n",
    "    return ''.join(input_list)"
   ]
  },
  {
   "cell_type": "markdown",
   "metadata": {},
   "source": [
    "## Part 1"
   ]
  },
  {
   "cell_type": "code",
   "execution_count": 17,
   "metadata": {},
   "outputs": [
    {
     "name": "stdout",
     "output_type": "stream",
     "text": [
      "Output: 0099.111...2...333.44.5555.6666.777.8888..\n",
      "Matches expected output: False\n"
     ]
    }
   ],
   "source": [
    "# *** [PART 1] ***\n",
    "# ! PROBLEM: The reindeer is holding a book titled \"Lava Island Hiking Guide\". However, when you open the book, you discover that most of it seems to have been scorched by lava! As you're about to ask how you can help, the reindeer brings you a blank topographic map of the surrounding area (your puzzle input) and looks up at you excitedly. Perhaps you can help fill in the missing hiking trails?# - Based on un-scorched scraps of the book, you determine that a good hiking trail is *as long as possible* and has an *even, gradual, uphill slope.\n",
    "# - A hiking trail STARTS at height = 0; ENDS at height = 9; ALWAYS increases by a height of 1 at EACH step.\n",
    "# - Hiking trails NEVER include diagonal steps - ONLY U-D-L-R movements.\n",
    "# TODO: Calculate the sum total of the scores of ALL trailheads on the topographical map.\n",
    "# - A trailhead is any position that STARTS one or more hiking trails => these positions will ALWAYS have height = 0.\n",
    "# - A trailhead's score = the total number of reachable trails that end at height 9 (starting from the trailhead position, where height = 0).\n",
    "# ====================================================================================================================\n",
    "# ! Create a deep (independent) copy of the data, such that changes made to the copy do not affect the original data to still test/re-run Part 1/2 with the correct INITIAL (and not modified) data\n",
    "# - NOTE: Not using a deep copy will modify the original data after running Part 1/2, therefore no correct output will be calculated anymore.\n",
    "# top_map = copy.deepcopy(file_data)\n",
    "# top_map = [list(row) for row in top_map.split('\\n') if row]\n",
    "# rows = len(top_map)\n",
    "# cols = len(top_map[0]) if rows > 0 else 0\n",
    "\n",
    "# NOTE: See excalidraw file for idea on how to tackle code for the problem\n",
    "\n",
    "\n",
    "\n",
    "\n",
    "# # Test the function\n",
    "# input_string = '00...111...2...333.44.5555.6666.777.888899'\n",
    "# expected_output = '00992111777.44.333....5555.6666.....8888..'\n",
    "\n",
    "# output = swap_dot_with_digits(input_string)\n",
    "# print(\"Output:\", output)\n",
    "# print(\"Matches expected output:\", output == expected_output)\n",
    "\n",
    "\n",
    "\n",
    "\n",
    "\n",
    "# ===================================================================================================================="
   ]
  },
  {
   "cell_type": "markdown",
   "metadata": {},
   "source": [
    "## Part 2"
   ]
  },
  {
   "cell_type": "code",
   "execution_count": null,
   "metadata": {},
   "outputs": [],
   "source": [
    "# *** [PART 2] ***\n",
    "# ! PROBLEM: xxx\n",
    "#====================================================================================================================\n",
    "\n"
   ]
  },
  {
   "cell_type": "code",
   "execution_count": null,
   "metadata": {},
   "outputs": [],
   "source": []
  }
 ],
 "metadata": {
  "kernelspec": {
   "display_name": "base",
   "language": "python",
   "name": "python3"
  },
  "language_info": {
   "codemirror_mode": {
    "name": "ipython",
    "version": 3
   },
   "file_extension": ".py",
   "mimetype": "text/x-python",
   "name": "python",
   "nbconvert_exporter": "python",
   "pygments_lexer": "ipython3",
   "version": "3.9.7"
  }
 },
 "nbformat": 4,
 "nbformat_minor": 2
}
