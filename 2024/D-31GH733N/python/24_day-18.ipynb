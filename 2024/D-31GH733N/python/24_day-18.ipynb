{
 "cells": [
  {
   "cell_type": "markdown",
   "metadata": {},
   "source": [
    "# Day 18: RAM Run"
   ]
  },
  {
   "cell_type": "markdown",
   "metadata": {},
   "source": [
    "## Import libraries"
   ]
  },
  {
   "cell_type": "code",
   "execution_count": 1,
   "metadata": {},
   "outputs": [],
   "source": [
    "import copy\n",
    "# from functools import lru_cache"
   ]
  },
  {
   "cell_type": "markdown",
   "metadata": {},
   "source": [
    "## Import data"
   ]
  },
  {
   "cell_type": "code",
   "execution_count": null,
   "metadata": {},
   "outputs": [],
   "source": [
    "# *** [IMPORT DATA] ***\n",
    "# NOTE: In the given puzzle input:\n",
    "# - EACH line = byte grid positions (x,y).\n",
    "# ====================================================================================================================\n",
    "# ! Open the file for reading mode (= default mode if the mode is not specified)\n",
    "file = open(\"../data/24_day-18_input-test.txt\", \"r\") \n",
    "\n",
    "# Read all the data in the file\n",
    "file_data = file.read().strip()\n",
    "\n",
    "# Split by claw machines\n",
    "file_data = file_data.split(\"\\n\")\n",
    "\n",
    "print(file_data)\n",
    "# ===================================================================================================================="
   ]
  },
  {
   "cell_type": "markdown",
   "metadata": {},
   "source": [
    "## Helper functions"
   ]
  },
  {
   "cell_type": "code",
   "execution_count": 20,
   "metadata": {},
   "outputs": [],
   "source": []
  },
  {
   "cell_type": "code",
   "execution_count": 32,
   "metadata": {},
   "outputs": [],
   "source": [
    "# ===================================================================================================================="
   ]
  },
  {
   "cell_type": "markdown",
   "metadata": {},
   "source": [
    "## Part 1"
   ]
  },
  {
   "cell_type": "code",
   "execution_count": null,
   "metadata": {},
   "outputs": [],
   "source": [
    "# *** [PART 1] ***\n",
    "# ! PROBLEM: The algorithm is fast - it's going to cause a byte to fall into your memory space once every nanosecond! Fortunately, you're faster, and by quickly scanning the algorithm, you create a list of which bytes will fall (your puzzle input) in the order they'll land in your memory space. Your memory space is a 2D grid with coordinates that range from [0 to 70] both horizontally and vertically.\n",
    "# - Each byte position is given as an X,Y coordinate.\n",
    "# - NOTE: Example grid space = co-ordinates that range from [0 - 6] both horizontally and vertically.\n",
    "# ! TODO: You and The Historians are currently in the top left corner of the memory space (at 0,0) and need to reach the exit in the bottom right corner (at 70,70 in your memory space, but at 6,6 in the example). You'll need to simulate the falling bytes to plan out where it will be safe to run. Calculate the minimum (shortest path) number of steps needed to reach the exit.\n",
    "# - As bytes fall into your memory space, they make that coordinate corrupted ('.' = safe; '#' = corrupted).\n",
    "# - You can take steps UDLR.\n",
    "# - You also cannot leave the boundaries of the memory space; your only hope is to reach the exit.\n",
    "# ====================================================================================================================\n",
    "# ! Create a deep (independent) copy of the data, such that changes made to the copy do not affect the original data to still test/re-run in Part 1/2 with the correct INITIAL (and not modified) data\n",
    "# - NOTE: Not using a deep copy will modify the original data after running Part 1/2, therefore incorrect output will be calculated.\n",
    "var = copy.deepcopy(file_data)\n",
    "\n",
    "# ===================================================================================================================="
   ]
  },
  {
   "cell_type": "markdown",
   "metadata": {},
   "source": [
    "## Part 2"
   ]
  },
  {
   "cell_type": "code",
   "execution_count": null,
   "metadata": {},
   "outputs": [],
   "source": [
    "# *** [PART 2] ***\n",
    "# ! PROBLEM: xxx\n",
    "# ! TODO: xxx\n",
    "#====================================================================================================================\n",
    "# ! Create a deep (independent) copy of the data, such that changes made to the copy do not affect the original data to still test/re-run Part in 1/2 with the correct INITIAL (and not modified) data\n",
    "# - NOTE: Not using a deep copy will modify the original data after running Part 1/2, therefore incorrect output will be calculated.\n",
    "var = copy.deepcopy(file_data)\n",
    "\n"
   ]
  },
  {
   "cell_type": "code",
   "execution_count": null,
   "metadata": {},
   "outputs": [],
   "source": []
  }
 ],
 "metadata": {
  "kernelspec": {
   "display_name": "base",
   "language": "python",
   "name": "python3"
  },
  "language_info": {
   "codemirror_mode": {
    "name": "ipython",
    "version": 3
   },
   "file_extension": ".py",
   "mimetype": "text/x-python",
   "name": "python",
   "nbconvert_exporter": "python",
   "pygments_lexer": "ipython3",
   "version": "3.9.7"
  }
 },
 "nbformat": 4,
 "nbformat_minor": 2
}
