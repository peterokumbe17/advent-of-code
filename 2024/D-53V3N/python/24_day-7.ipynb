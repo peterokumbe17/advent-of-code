{
 "cells": [
  {
   "cell_type": "markdown",
   "metadata": {},
   "source": [
    "# Day 7: Bridge Repair"
   ]
  },
  {
   "cell_type": "markdown",
   "metadata": {},
   "source": [
    "## Import libraries"
   ]
  },
  {
   "cell_type": "code",
   "execution_count": 13,
   "metadata": {},
   "outputs": [],
   "source": [
    "import copy\n",
    "from itertools import product"
   ]
  },
  {
   "cell_type": "markdown",
   "metadata": {},
   "source": [
    "## Import data"
   ]
  },
  {
   "cell_type": "code",
   "execution_count": 32,
   "metadata": {},
   "outputs": [
    {
     "name": "stdout",
     "output_type": "stream",
     "text": [
      "[['190', ['10', '19']], ['3267', ['81', '40', '27']], ['83', ['17', '5']], ['156', ['15', '6']], ['7290', ['6', '8', '6', '15']], ['161011', ['16', '10', '13']], ['192', ['17', '8', '14']], ['21037', ['9', '7', '18', '13']], ['292', ['11', '6', '16', '20']]]\n"
     ]
    }
   ],
   "source": [
    "# *** [IMPORT DATA] ***\n",
    "# NOTE: In the given puzzle input:\n",
    "# - EACH line represents a SINGLE equation.\n",
    "# - Test values appear BEFORE the colon on EACH line.\n",
    "# =====================================================================================================================\n",
    "# ! Open the file for reading mode (= default mode if the mode is not specified)\n",
    "file = open(\"../data/24_day-7_input-test.txt\", \"r\") \n",
    "\n",
    "# Read all the data in the file\n",
    "file_data = file.read()\n",
    "\n",
    "# Separate data line by line\n",
    "file_data = file_data.split(\"\\n\")\n",
    "\n",
    "# For EACH line, separate test values from equations\n",
    "# - E.g. '190: 10 19' => ['190', '10 19']\n",
    "for i in range(len(file_data)):\n",
    "    file_data[i] = file_data[i].split(\":\")\n",
    "\n",
    "# For EACH line, separate equation numbers\n",
    "for i in range(len(file_data)):\n",
    "    file_data[i][1] = file_data[i][1].strip().split(\" \")\n",
    "\n",
    "print(file_data)\n",
    "# ===================================================================================================================="
   ]
  },
  {
   "cell_type": "markdown",
   "metadata": {},
   "source": [
    "## Helper functions"
   ]
  },
  {
   "cell_type": "code",
   "execution_count": 33,
   "metadata": {},
   "outputs": [],
   "source": [
    "def evaluate_expression(numbers, operators):\n",
    "    \"\"\"Evaluate the expression with the given numbers and operators.\"\"\"\n",
    "    result = numbers[0] # First number in list of equation numbers\n",
    "\n",
    "    for i in range(len(operators)): # E.g. operators = ['+','*','+']\n",
    "        if operators[i] == \"+\":\n",
    "            result += numbers[i + 1]\n",
    "        elif operators[i] == \"*\":\n",
    "            result *= numbers[i + 1]\n",
    "\n",
    "    return result"
   ]
  },
  {
   "cell_type": "markdown",
   "metadata": {},
   "source": [
    "## Part 1"
   ]
  },
  {
   "cell_type": "code",
   "execution_count": 34,
   "metadata": {},
   "outputs": [
    {
     "name": "stdout",
     "output_type": "stream",
     "text": [
      "Total calibration result (PART 1): 3749\n"
     ]
    }
   ],
   "source": [
    "# *** [PART 1] ***\n",
    "# ! PROBLEM: Some young elephants were playing nearby and stole all the operators from their calibration equations!\n",
    "# - TODO: Determine which set of remaining numbers (RHS of colon) can be combined with operators to produce the test value (LHS of colon) and then calculate the total calibration result (sum of test values) of the valid equations.\n",
    "# - Operators are always evaluated *left-to-right*, NOTE according to *precedence rules*.\n",
    "# - Numbers in the equations cannot be rearranged.\n",
    "# - NOTE: Only 2 different types of operators can be used ('+' and/or '*').\n",
    "# - E.g. '190: 10 19' = True IF '*' is inserted between 10 and 19 to produce 190.\n",
    "# - E.g. '21037: 9 7 18 13' != True for any combination of inserting '+' or '*' inbetween the numbers.\n",
    "#  --====================================================================================================================\n",
    "# ! Create a deep (independent) copy of the data, such that changes made to the copy do not affect the original data to still test/re-run Part 1 with the correct INITIAL (and not modified) data\n",
    "# - NOTE: Not using a deep copy will modify the original data after running Part 1, therefore no correct output will be calculated anymore\n",
    "equations = copy.deepcopy(file_data)\n",
    "arrValidTargets = []\n",
    "\n",
    "\"\"\"Find and print the equations that match the target value.\"\"\"\n",
    "for equation in equations:\n",
    "    # Generate all operator combinations\n",
    "    target = int(equation[0])\n",
    "    numbers = equation[1]\n",
    "\n",
    "    for i in range(len(numbers)):\n",
    "        numbers[i] = int(numbers[i])\n",
    "\n",
    "    num_operators = len(numbers) - 1\n",
    "    operator_combinations = product(\"+-*\", repeat=num_operators)\n",
    "\n",
    "    # Check each operator combination\n",
    "    for operators in operator_combinations:\n",
    "        if evaluate_expression(numbers, operators) == target:\n",
    "            if target not in arrValidTargets:\n",
    "                arrValidTargets.append(target)\n",
    "\n",
    "totalCalibrationValue = sum(arrValidTargets)\n",
    "\n",
    "print(\"Total calibration result (PART 1):\", totalCalibrationValue)\n",
    "# ===================================================================================================================="
   ]
  },
  {
   "cell_type": "markdown",
   "metadata": {},
   "source": [
    "## Part 2"
   ]
  },
  {
   "cell_type": "code",
   "execution_count": null,
   "metadata": {},
   "outputs": [],
   "source": [
    "# *** [PART 2] ***\n",
    "# ! PROBLEM: xxx\n",
    "# - TODO: xxx\n",
    "#====================================================================================================================\n"
   ]
  },
  {
   "cell_type": "code",
   "execution_count": null,
   "metadata": {},
   "outputs": [],
   "source": []
  },
  {
   "cell_type": "code",
   "execution_count": null,
   "metadata": {},
   "outputs": [],
   "source": []
  }
 ],
 "metadata": {
  "kernelspec": {
   "display_name": "base",
   "language": "python",
   "name": "python3"
  },
  "language_info": {
   "codemirror_mode": {
    "name": "ipython",
    "version": 3
   },
   "file_extension": ".py",
   "mimetype": "text/x-python",
   "name": "python",
   "nbconvert_exporter": "python",
   "pygments_lexer": "ipython3",
   "version": "3.9.7"
  }
 },
 "nbformat": 4,
 "nbformat_minor": 2
}
