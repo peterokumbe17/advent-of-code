{
 "cells": [
  {
   "cell_type": "markdown",
   "metadata": {},
   "source": [
    "# Day 25: Code Chronicle"
   ]
  },
  {
   "cell_type": "markdown",
   "metadata": {},
   "source": [
    "## Import libraries"
   ]
  },
  {
   "cell_type": "code",
   "execution_count": 4,
   "metadata": {},
   "outputs": [],
   "source": [
    "import copy"
   ]
  },
  {
   "cell_type": "markdown",
   "metadata": {},
   "source": [
    "## Import data"
   ]
  },
  {
   "cell_type": "code",
   "execution_count": 3,
   "metadata": {},
   "outputs": [
    {
     "name": "stdout",
     "output_type": "stream",
     "text": [
      "['#####\\n.####\\n.####\\n.####\\n.#.#.\\n.#...\\n.....', '#####\\n##.##\\n.#.##\\n...##\\n...#.\\n...#.\\n.....', '.....\\n#....\\n#....\\n#...#\\n#.#.#\\n#.###\\n#####', '.....\\n.....\\n#.#..\\n###..\\n###.#\\n###.#\\n#####', '.....\\n.....\\n.....\\n#....\\n#.#..\\n#.#.#\\n#####']\n"
     ]
    }
   ],
   "source": [
    "# *** [IMPORT DATA] ***\n",
    "# NOTE: In the given puzzle input:\n",
    "# - Represents grid maps of schematics, separated by empty lines.\n",
    "# - Locks: Schematics that have the top row filled with '#' and the bottom row filled with '.'.\n",
    "# - Keys: Schematics that have the top row filled with '.' and the bottom row filled with '#'.\n",
    "# - NOTE: EACH schematic = a set of columns of various heights, either extending DOWNWARD from the TOP (for locks) or UPWARD from the BOTTOM (for keys).\n",
    "# ====================================================================================================================\n",
    "# ! Open the file for reading mode (= default mode if the mode is not specified)\n",
    "file = open(\"../data/24_day-25_input-test.txt\", \"r\") \n",
    "\n",
    "# Read all the data in the file\n",
    "file_data = file.read().strip()\n",
    "\n",
    "# Split by empty space\n",
    "file_data = file_data.split(\"\\n\\n\")\n",
    "\n",
    "print(file_data)\n",
    "# ===================================================================================================================="
   ]
  },
  {
   "cell_type": "markdown",
   "metadata": {},
   "source": [
    "## Helper functions"
   ]
  },
  {
   "cell_type": "code",
   "execution_count": 6,
   "metadata": {},
   "outputs": [
    {
     "name": "stdout",
     "output_type": "stream",
     "text": [
      "0\n"
     ]
    }
   ],
   "source": [
    "def count_fitting_pairs(lock_schematics, key_schematics):\n",
    "    \"\"\"\n",
    "    Count the number of unique lock/key pairs that fit together without overlapping in any column. ...definetly not the day to code - no energy\n",
    "\n",
    "    Args:\n",
    "    - lock_schematics (list): A list of lock schematics, where each schematic is a string of '#' and '.' characters.\n",
    "    - key_schematics (list): A list of key schematics, where each schematic is a string of '#' and '.' characters.\n",
    "\n",
    "    Returns:\n",
    "    - int: The number of unique lock/key pairs that fit together without overlapping in any column.\n",
    "    \"\"\"\n",
    "\n",
    "    # Convert lock schematics to pin heights\n",
    "    lock_heights = []\n",
    "\n",
    "    for lock in lock_schematics:\n",
    "        height = []\n",
    "        for col in zip(*lock.split('\\n')):\n",
    "            height.append(len(col) - col.count('.'))\n",
    "        lock_heights.append(height)\n",
    "\n",
    "    # Convert key schematics to heights\n",
    "    key_heights = []\n",
    "\n",
    "    for key in key_schematics:\n",
    "        height = []\n",
    "        for col in zip(*key.split('\\n')):\n",
    "            height.append(len(col) - col.count('#'))\n",
    "        key_heights.append(height)\n",
    "\n",
    "    # Count the number of fitting pairs\n",
    "    fitting_pairs = 0\n",
    "    \n",
    "    for lock in lock_heights:\n",
    "        for key in key_heights:\n",
    "            if all(l + k <= len(lock) for l, k in zip(lock, key)):\n",
    "                fitting_pairs += 1\n",
    "\n",
    "    return fitting_pairs\n",
    "\n",
    "\n",
    "# Example usage:\n",
    "lock_schematics = [\n",
    "    \"#####\\n.####\\n.####\\n.####\\n.#.#.\\n.#...\\n.....\",\n",
    "    \"#####\\n##.##\\n.#.##\\n...##\\n...#.\\n...#.\\n.....\",\n",
    "]\n",
    "\n",
    "key_schematics = [\n",
    "    \".....\\n#....\\n#....\\n#...#\\n#.#.#\\n#.###\\n#####\",\n",
    "    \".....\\n....\\n#.#..\\n###..\\n###.#\\n###.#\\n#####\",\n",
    "    \".....\\n....\\n....\\n#....\\n#.#..\\n#.#.#\\n#####\",\n",
    "]\n",
    "\n",
    "print(count_fitting_pairs(lock_schematics, key_schematics))  # Output: 3"
   ]
  },
  {
   "cell_type": "code",
   "execution_count": 103,
   "metadata": {},
   "outputs": [],
   "source": [
    "\n",
    "# ===================================================================================================================="
   ]
  },
  {
   "cell_type": "markdown",
   "metadata": {},
   "source": [
    "## Part 1"
   ]
  },
  {
   "cell_type": "code",
   "execution_count": null,
   "metadata": {},
   "outputs": [],
   "source": [
    "# *** [PART 1] ***\n",
    "# ! PROBLEM: Unfortunately, they've lost track of which locks are installed and which keys go with them, so the best they can do is send over schematics of every lock and every key for the floor you're on (your puzzle input).\n",
    "# ! TODO: Analyze your lock and key schematics. How many unique lock/key pairs fit together without overlapping in any column?\n",
    "# - NOTE: Lock pin height = The number of '#' in EACH lock scheematic column from the TOP-DOWNWARDS - 1.\n",
    "# - NOTE: Key pin height = The number of '#' in EACH key schematic column from the BOTTOM-UPWARDS - 1.\n",
    "# - NOTE: The column combination of locks & keys should NOT overlap the LENGTH size of the schematics grid map. (E.g. L = '0,5,3,4,3'; K = '5,0,2,1,3' => Overlap in the last column = 3{+1} + 3{+1} = 8 > 7)\n",
    "# - NOTE: Fopr EACH lock & key column: (lock_height{+1} + key_height{+1}) MUST BE < length_grid_space.\n",
    "# ====================================================================================================================\n",
    "# ! Create a deep (independent) copy of the data, such that changes made to the copy do not affect the original data to still test/re-run in Part 1/2 with the correct INITIAL (and not modified) data\n",
    "# - NOTE: Not using a deep copy will modify the original data after running Part 1/2, therefore incorrect output will be calculated.\n",
    "var = copy.deepcopy(file_data)\n",
    "\n",
    "\n",
    "# ===================================================================================================================="
   ]
  },
  {
   "cell_type": "markdown",
   "metadata": {},
   "source": [
    "## Part 2"
   ]
  },
  {
   "cell_type": "code",
   "execution_count": null,
   "metadata": {},
   "outputs": [],
   "source": [
    "# *** [PART 2] ***\n",
    "# ! PROBLEM: xxx\n",
    "# ! TODO: xxx\n",
    "#====================================================================================================================\n",
    "# ! Create a deep (independent) copy of the data, such that changes made to the copy do not affect the original data to still test/re-run Part in 1/2 with the correct INITIAL (and not modified) data\n",
    "# - NOTE: Not using a deep copy will modify the original data after running Part 1/2, therefore incorrect output will be calculated.\n",
    "var = copy.deepcopy(file_data)\n",
    "\n"
   ]
  },
  {
   "cell_type": "code",
   "execution_count": null,
   "metadata": {},
   "outputs": [],
   "source": []
  }
 ],
 "metadata": {
  "kernelspec": {
   "display_name": "base",
   "language": "python",
   "name": "python3"
  },
  "language_info": {
   "codemirror_mode": {
    "name": "ipython",
    "version": 3
   },
   "file_extension": ".py",
   "mimetype": "text/x-python",
   "name": "python",
   "nbconvert_exporter": "python",
   "pygments_lexer": "ipython3",
   "version": "3.9.7"
  }
 },
 "nbformat": 4,
 "nbformat_minor": 2
}
