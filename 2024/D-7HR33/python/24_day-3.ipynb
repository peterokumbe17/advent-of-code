{
 "cells": [
  {
   "cell_type": "markdown",
   "metadata": {},
   "source": [
    "# Day 3: Mull It Over"
   ]
  },
  {
   "cell_type": "markdown",
   "metadata": {},
   "source": [
    "## Import data"
   ]
  },
  {
   "cell_type": "code",
   "execution_count": 13,
   "metadata": {},
   "outputs": [],
   "source": [
    "# *** [IMPORT DATA] ***\n",
    "# =====================================================================================================================\n",
    "# ! Open the file for reading mode (= default mode if the mode is not specified)\n",
    "file = open(\"../data/24_day-3_input.txt\", \"r\")\n",
    "\n",
    "# Read all the data in the file\n",
    "arrFileData = file.read()\n",
    "\n",
    "# Split the data read from the file by every new line encountered and store in an array list\n",
    "arrFileData = arrFileData.split('\\n')\n",
    "\n",
    "# print(arrFileData)\n",
    "# ===================================================================================================================="
   ]
  },
  {
   "cell_type": "markdown",
   "metadata": {},
   "source": [
    "## Helper functions"
   ]
  },
  {
   "cell_type": "code",
   "execution_count": 14,
   "metadata": {},
   "outputs": [],
   "source": [
    "def mul(X,Y):\n",
    "    return X * Y \n",
    "# ===================================================================================================================="
   ]
  },
  {
   "cell_type": "markdown",
   "metadata": {},
   "source": [
    "## Part 1"
   ]
  },
  {
   "cell_type": "code",
   "execution_count": 15,
   "metadata": {},
   "outputs": [
    {
     "name": "stdout",
     "output_type": "stream",
     "text": [
      "Multiplication result: 175015740\n"
     ]
    }
   ],
   "source": [
    "# *** [PART 1] ***\n",
    "# ! PROBLEM: The computer appears to be trying to run a program, but its memory (your puzzle input) is corrupted. All of the instructions have been jumbled up!\n",
    "# - Goal of the program = to multiply some numbers. It does this with instructions like 'mul(X,Y)', where 'X' and 'Y' are each *1-3 digit numbers*. \n",
    "# - E.g. 'mul(44,46)' multiplies 44 by 46 to get a result of 2024. Similarly, 'mul(123,4)' would multiply 123 by 4 = 492.\n",
    "# - TODO: Scan the corrupted memory for uncorrupted mul instructions.\n",
    "#   - What do you get if you add up all of the results of the multiplications?\n",
    "# ---------------------------------------------------------------------------------------------------------------------\n",
    "import re\n",
    "\n",
    "# Regular expression to match 'mul(X,Y)'\n",
    "#regex = r\"mul\\(\\d{1,3},\\d{1,3}\\)\"  # Matches 'mul(' > followed by 1-3 digits > ',' > and 1-3 digits > then ')'\n",
    "regex = r\"mul\\((\\d{1,3}),(\\d{1,3})\\)\"  # Captures X and Y as groups - E.g. '(X, Y)'\n",
    "sumResults = 0\n",
    "\n",
    "# Find all matches in the string in each line\n",
    "for line in arrFileData:\n",
    "    arrMatches = re.findall(regex, line)\n",
    "\n",
    "    # Call func 'mul(X,Y)' for each match and store the results\n",
    "    arrResults = [mul(int(x), int(y)) for x, y in arrMatches]\n",
    "\n",
    "    sumResults += sum(arrResults)\n",
    "\n",
    "# print(arrMatches)\n",
    "print(\"Multiplication result:\", sumResults)\n",
    "\n",
    "# ===================================================================================================================="
   ]
  },
  {
   "cell_type": "markdown",
   "metadata": {},
   "source": [
    "## Part 2"
   ]
  },
  {
   "cell_type": "code",
   "execution_count": null,
   "metadata": {},
   "outputs": [],
   "source": [
    "# *** [PART 2] ***\n",
    "# ! PROBLEM: As you scan through the corrupted memory, you notice that some of the conditional statements are also still intact. If you handle some of the uncorrupted conditional statements in the program, you might be able to get an even more accurate result.\n",
    "# - \n",
    "# - TODO: There are two new instructions you'll need to handle:\n",
    "#   - 'do()': Enables future 'mul()' instructions.\n",
    "#   - 'don't()': Disables future 'mul()' instructions.\n",
    "#   - NOTE: Only the most recent 'do()' or 'don't()' instruction applies. At the beginning of the program, all valid 'mul()' instructions are enabled.\n",
    "# ---------------------------------------------------------------------------------------------------------------------\n",
    "# vars here"
   ]
  }
 ],
 "metadata": {
  "kernelspec": {
   "display_name": "base",
   "language": "python",
   "name": "python3"
  },
  "language_info": {
   "codemirror_mode": {
    "name": "ipython",
    "version": 3
   },
   "file_extension": ".py",
   "mimetype": "text/x-python",
   "name": "python",
   "nbconvert_exporter": "python",
   "pygments_lexer": "ipython3",
   "version": "3.9.7"
  }
 },
 "nbformat": 4,
 "nbformat_minor": 2
}
