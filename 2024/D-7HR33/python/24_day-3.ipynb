{
 "cells": [
  {
   "cell_type": "markdown",
   "metadata": {},
   "source": [
    "# Day 3: Mull It Over"
   ]
  },
  {
   "cell_type": "markdown",
   "metadata": {},
   "source": [
    "## Import data"
   ]
  },
  {
   "cell_type": "code",
   "execution_count": 58,
   "metadata": {},
   "outputs": [],
   "source": [
    "# *** [IMPORT DATA] ***\n",
    "# =====================================================================================================================\n",
    "import re # regex\n",
    "\n",
    "# ! Open the file for reading mode (= default mode if the mode is not specified)\n",
    "file = open(\"../data/24_day-3_input.txt\", \"r\")\n",
    "\n",
    "# Read all the data in the file\n",
    "file_data = file.read()\n",
    "\n",
    "#print(file_data)\n",
    "# ===================================================================================================================="
   ]
  },
  {
   "cell_type": "markdown",
   "metadata": {},
   "source": [
    "## Helper functions"
   ]
  },
  {
   "cell_type": "code",
   "execution_count": 59,
   "metadata": {},
   "outputs": [],
   "source": [
    "def mul(X,Y):\n",
    "    return X * Y \n",
    "# ===================================================================================================================="
   ]
  },
  {
   "cell_type": "markdown",
   "metadata": {},
   "source": [
    "## Part 1"
   ]
  },
  {
   "cell_type": "code",
   "execution_count": null,
   "metadata": {},
   "outputs": [],
   "source": [
    "# *** [PART 1] ***\n",
    "# ! PROBLEM: The computer appears to be trying to run a program, but its memory (your puzzle input) is corrupted. All of the instructions have been jumbled up!\n",
    "# - Goal of the program = to multiply some numbers. It does this with instructions like 'mul(X,Y)', where 'X' and 'Y' are each *1-3 digit numbers*. \n",
    "# - E.g. 'mul(44,46)' multiplies 44 by 46 to get a result of 2024. Similarly, 'mul(123,4)' would multiply 123 by 4 = 492.\n",
    "# - TODO: Scan the corrupted memory for uncorrupted mul instructions.\n",
    "#   - What do you get if you add up all of the results of the multiplications?\n",
    "# ---------------------------------------------------------------------------------------------------------------------\n",
    "# Regular expression to match 'mul(X,Y)'\n",
    "#regex_mul = r\"mul\\(\\d{1,3},\\d{1,3}\\)\"  # Matches 'mul(' > followed by 1-3 digits > ',' > and 1-3 digits > then ')'\n",
    "regex_mul = r\"mul\\((\\d{1,3}),(\\d{1,3})\\)\"  # Captures X and Y in 'mul(X,Y)' as groups: E.g. '(X, Y)'\n",
    "\n",
    "# Find all matches in the string\n",
    "arrMatches = re.findall(regex_mul, file_data)\n",
    "\n",
    "# Call func 'mul(X,Y)' for each match and store the results\n",
    "arrResults = [mul(int(x), int(y)) for x, y in arrMatches]\n",
    "\n",
    "sumResults = sum(arrResults)\n",
    "\n",
    "print(\"Multiplication result (PART 1):\", sumResults)\n",
    "# ===================================================================================================================="
   ]
  },
  {
   "cell_type": "markdown",
   "metadata": {},
   "source": [
    "## Part 2"
   ]
  },
  {
   "cell_type": "code",
   "execution_count": null,
   "metadata": {},
   "outputs": [],
   "source": [
    "# *** [PART 2] ***\n",
    "# ! PROBLEM: As you scan through the corrupted memory, you notice that some of the conditional statements are also still intact.\n",
    "# - If you handle some of the uncorrupted conditional statements in the program, you might be able to get an even more accurate result.\n",
    "# - TODO: There are two new instructions you'll need to handle:\n",
    "#   - 'do()': Enables future 'mul()' instructions.\n",
    "#   - 'don't()': Disables future 'mul()' instructions.\n",
    "#   - NOTE: Only the most recent 'do()' or 'don't()' instruction applies. At the beginning of the program, all valid 'mul()' instructions are enabled.\n",
    "# ---------------------------------------------------------------------------------------------------------------------\n",
    "# Regular expression to match occurrences of ALL 'mul(X,Y)' in a string\n",
    "regex_mul = r\"mul\\(\\d{1,3},\\d{1,3}\\)\"  # Matches 'mul(' > followed by 1-3 digits > ',' > and 1-3 digits > then ')'\n",
    "regex_xy_group = r\"mul\\((\\d{1,3}),(\\d{1,3})\\)\"  # Captures X and Y as groups: E.g. '(X, Y)'\n",
    "regex_controls = r\"don't\\(\\)|do\\(\\)\"  # Matches \"don't()\" or \"do()\"\n",
    "flag = True\n",
    "pos = 0 # int var to store the index position of the current character of the string\n",
    "arrMatches = [] # string array var to store all valid captured 'mul(X,Y)' occurrences\n",
    "\n",
    "# ! Find all matches in the string\n",
    "# While the end of the string has NOT been reached\n",
    "while pos < len(file_data):\n",
    "    # Search for the next occurrence of \"don't()\", \"do()\", or 'mul(X,Y)'\n",
    "    match = re.search(f\"{regex_controls}|{regex_mul}\", file_data[pos:])\n",
    "    \n",
    "    # IF no matches found, then exit the loop\n",
    "    if not match:\n",
    "        break  \n",
    "\n",
    "    # Get the matched text and its position\n",
    "    matchedText = match.group()\n",
    "    # Move the position to after the current match\n",
    "    pos += match.end() \n",
    "\n",
    "    # Update flag based on control patterns\n",
    "    if matchedText == \"don't()\":\n",
    "        flag = False\n",
    "    elif matchedText == \"do()\":\n",
    "        flag = True\n",
    "    elif (flag == True) and (re.match(regex_mul, matchedText)):\n",
    "        # Capture 'mul(X,Y)' IFF flag == True\n",
    "        arrMatches.append(matchedText)\n",
    "\n",
    "print(arrMatches)\n",
    "arrMatches = [re.findall(regex_xy_group, item) for item in arrMatches]\n",
    "\n",
    "# Call func 'mul(X,Y)' for each match and store the results\n",
    "arrResults = [mul(int(x), int(y)) for [(x, y)] in arrMatches]\n",
    "\n",
    "sumResults = sum(arrResults)\n",
    "\n",
    "print(\"Multiplication result (PART 2):\", sumResults)"
   ]
  },
  {
   "cell_type": "code",
   "execution_count": null,
   "metadata": {},
   "outputs": [],
   "source": []
  }
 ],
 "metadata": {
  "kernelspec": {
   "display_name": "base",
   "language": "python",
   "name": "python3"
  },
  "language_info": {
   "codemirror_mode": {
    "name": "ipython",
    "version": 3
   },
   "file_extension": ".py",
   "mimetype": "text/x-python",
   "name": "python",
   "nbconvert_exporter": "python",
   "pygments_lexer": "ipython3",
   "version": "3.9.7"
  }
 },
 "nbformat": 4,
 "nbformat_minor": 2
}
