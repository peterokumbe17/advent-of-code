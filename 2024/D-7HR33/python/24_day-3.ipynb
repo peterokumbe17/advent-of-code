{
 "cells": [
  {
   "cell_type": "markdown",
   "metadata": {},
   "source": [
    "# Day 3: Mull It Over"
   ]
  },
  {
   "cell_type": "markdown",
   "metadata": {},
   "source": [
    "## Import data"
   ]
  },
  {
   "cell_type": "code",
   "execution_count": 59,
   "metadata": {},
   "outputs": [],
   "source": [
    "# *** [IMPORT DATA] ***\n",
    "# =====================================================================================================================\n",
    "import re\n",
    "\n",
    "# ! Open the file for reading mode (= default mode if the mode is not specified)\n",
    "file = open(\"../data/24_day-3_input.txt\", \"r\")\n",
    "\n",
    "# Read all the data in the file\n",
    "arrFileData = file.read()\n",
    "\n",
    "# Split the data read from the file by every new line encountered and store in an array list\n",
    "arrFileData = arrFileData.split('\\n')\n",
    "\n",
    "# print(arrFileData)\n",
    "# ===================================================================================================================="
   ]
  },
  {
   "cell_type": "markdown",
   "metadata": {},
   "source": [
    "## Helper functions"
   ]
  },
  {
   "cell_type": "code",
   "execution_count": 21,
   "metadata": {},
   "outputs": [],
   "source": [
    "def mul(X,Y):\n",
    "    return X * Y \n",
    "# ===================================================================================================================="
   ]
  },
  {
   "cell_type": "code",
   "execution_count": 42,
   "metadata": {},
   "outputs": [],
   "source": [
    "def find_after_all_markers(marker, text):\n",
    "    regex_all = r\"mul\\(\\d{1,3},\\d{1,3}\\)\"  # Matches 'mul(' > followed by 1-3 digits > ',' > and 1-3 digits > then ')'\n",
    "    marker_pattern = re.escape(marker)\n",
    "    results = []\n",
    "    \n",
    "    # Use re.finditer to find all positions of the marker\n",
    "    for match in re.finditer(marker_pattern, text):\n",
    "        start_pos = match.end()  # Start searching after the marker\n",
    "        text_after_marker = text[start_pos:]\n",
    "        # Find all valid 'mul(X,Y)' occurrences in the sliced text\n",
    "        results.extend(re.findall(regex_all, text_after_marker))\n",
    "    \n",
    "    return results"
   ]
  },
  {
   "cell_type": "markdown",
   "metadata": {},
   "source": [
    "## Part 1"
   ]
  },
  {
   "cell_type": "code",
   "execution_count": 62,
   "metadata": {},
   "outputs": [
    {
     "name": "stdout",
     "output_type": "stream",
     "text": [
      "Multiplication result: 175015740\n"
     ]
    }
   ],
   "source": [
    "# *** [PART 1] ***\n",
    "# ! PROBLEM: The computer appears to be trying to run a program, but its memory (your puzzle input) is corrupted. All of the instructions have been jumbled up!\n",
    "# - Goal of the program = to multiply some numbers. It does this with instructions like 'mul(X,Y)', where 'X' and 'Y' are each *1-3 digit numbers*. \n",
    "# - E.g. 'mul(44,46)' multiplies 44 by 46 to get a result of 2024. Similarly, 'mul(123,4)' would multiply 123 by 4 = 492.\n",
    "# - TODO: Scan the corrupted memory for uncorrupted mul instructions.\n",
    "#   - What do you get if you add up all of the results of the multiplications?\n",
    "# ---------------------------------------------------------------------------------------------------------------------\n",
    "# Regular expression to match 'mul(X,Y)'\n",
    "#regex = r\"mul\\(\\d{1,3},\\d{1,3}\\)\"  # Matches 'mul(' > followed by 1-3 digits > ',' > and 1-3 digits > then ')'\n",
    "regex = r\"mul\\((\\d{1,3}),(\\d{1,3})\\)\"  # Captures X and Y in 'mul(X,Y)' as groups: E.g. '(X, Y)'\n",
    "sumResults = 0\n",
    "\n",
    "# Find all matches in the string in each line\n",
    "for line in arrFileData:\n",
    "    arrMatches = re.findall(regex, line)\n",
    "\n",
    "    # Call func 'mul(X,Y)' for each match and store the results\n",
    "    arrResults = [mul(int(x), int(y)) for x, y in arrMatches]\n",
    "\n",
    "    sumResults += sum(arrResults)\n",
    "\n",
    "# print(arrMatches)\n",
    "print(\"Multiplication result:\", sumResults)\n",
    "\n",
    "# ===================================================================================================================="
   ]
  },
  {
   "cell_type": "markdown",
   "metadata": {},
   "source": [
    "## Part 2"
   ]
  },
  {
   "cell_type": "code",
   "execution_count": 63,
   "metadata": {},
   "outputs": [
    {
     "name": "stdout",
     "output_type": "stream",
     "text": [
      "502375783\n"
     ]
    }
   ],
   "source": [
    "# *** [PART 2] ***\n",
    "# ! PROBLEM: As you scan through the corrupted memory, you notice that some of the conditional statements are also still intact.\n",
    "# - If you handle some of the uncorrupted conditional statements in the program, you might be able to get an even more accurate result.\n",
    "# - TODO: There are two new instructions you'll need to handle:\n",
    "#   - 'do()': Enables future 'mul()' instructions.\n",
    "#   - 'don't()': Disables future 'mul()' instructions.\n",
    "#   - NOTE: Only the most recent 'do()' or 'don't()' instruction applies. At the beginning of the program, all valid 'mul()' instructions are enabled.\n",
    "# ---------------------------------------------------------------------------------------------------------------------\n",
    "# Regular expression to match occurrences of ALL 'mul(X,Y)' in a string\n",
    "regex_all = r\"mul\\(\\d{1,3},\\d{1,3}\\)\"  # Matches 'mul(' > followed by 1-3 digits > ',' > and 1-3 digits > then ')'\n",
    "regex_xy_group = r\"mul\\((\\d{1,3}),(\\d{1,3})\\)\"  # Captures X and Y as groups: E.g. '(X, Y)'\n",
    "sumResults = 0\n",
    "\n",
    "# Find all matches in the string in each line\n",
    "for line in arrFileData:\n",
    "    # Find ALL occurrences of 'mul(X,Y)'\n",
    "    arrMatches = re.findall(regex_all, line)\n",
    "    # Find ALL occurrences of 'mul(X,Y)' that appear AFTER occurrences of 'do()'\n",
    "    arrDo = find_after_all_markers(\"do()\", line)\n",
    "    # Find ALL occurrences of 'mul(X,Y)' that appear AFTER occurrences of \"don't()\"\n",
    "    arrDont = find_after_all_markers(\"don't()\", line)\n",
    "\n",
    "    # Remove occurrences of DONT 'mul(X,Y)' from original list\n",
    "    arrDont = set(arrDont) # Convert to 'set' to increase speed of processing larger lists\n",
    "    arrMatches = [item for item in arrMatches if item not in arrDont]\n",
    "\n",
    "    # Add occurrences of DO 'mul(X,Y)' to original list\n",
    "    # - Occurrences of 'mul(X,Y)' that appear after an occurrence of 'do()' that appears AFTER an occurrence of \"don't()\" are RE-ACTIVED\n",
    "    arrDont = set(arrDo) # Convert to 'set' to increase speed of processing larger lists\n",
    "    arrMatches += [item for item in arrDo if item not in arrMatches]\n",
    "\n",
    "    # print(arrMatches)\n",
    "    # print(arrDo)\n",
    "    # print(arrDont)\n",
    "\n",
    "    arrMatches = [re.findall(regex_xy_group, item) for item in arrMatches]\n",
    "    #print(arrMatches)\n",
    "\n",
    "    # Call func 'mul(X,Y)' for each match and store the results\n",
    "    arrResults = [mul(int(x), int(y)) for [(x, y)] in arrMatches]\n",
    "    #print(arrResults)\n",
    "\n",
    "    sumResults += sum(arrResults)\n",
    "\n",
    "print(sumResults)"
   ]
  },
  {
   "cell_type": "code",
   "execution_count": null,
   "metadata": {},
   "outputs": [],
   "source": []
  }
 ],
 "metadata": {
  "kernelspec": {
   "display_name": "base",
   "language": "python",
   "name": "python3"
  },
  "language_info": {
   "codemirror_mode": {
    "name": "ipython",
    "version": 3
   },
   "file_extension": ".py",
   "mimetype": "text/x-python",
   "name": "python",
   "nbconvert_exporter": "python",
   "pygments_lexer": "ipython3",
   "version": "3.9.7"
  }
 },
 "nbformat": 4,
 "nbformat_minor": 2
}
