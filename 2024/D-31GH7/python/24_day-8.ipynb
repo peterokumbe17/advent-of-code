{
 "cells": [
  {
   "cell_type": "markdown",
   "metadata": {},
   "source": [
    "# Day 8: Resonant Collinearity"
   ]
  },
  {
   "cell_type": "markdown",
   "metadata": {},
   "source": [
    "## Import libraries"
   ]
  },
  {
   "cell_type": "code",
   "execution_count": 6,
   "metadata": {},
   "outputs": [],
   "source": [
    "import copy\n",
    "from collections import defaultdict\n"
   ]
  },
  {
   "cell_type": "markdown",
   "metadata": {},
   "source": [
    "## Import data"
   ]
  },
  {
   "cell_type": "code",
   "execution_count": 13,
   "metadata": {},
   "outputs": [
    {
     "name": "stdout",
     "output_type": "stream",
     "text": [
      "[['.', '.', '.', '.', '.', '.', '.', '.', '.', '.', '.', '.'], ['.', '.', '.', '.', '.', '.', '.', '.', '0', '.', '.', '.'], ['.', '.', '.', '.', '.', '0', '.', '.', '.', '.', '.', '.'], ['.', '.', '.', '.', '.', '.', '.', '0', '.', '.', '.', '.'], ['.', '.', '.', '.', '0', '.', '.', '.', '.', '.', '.', '.'], ['.', '.', '.', '.', '.', '.', 'A', '.', '.', '.', '.', '.'], ['.', '.', '.', '.', '.', '.', '.', '.', '.', '.', '.', '.'], ['.', '.', '.', '.', '.', '.', '.', '.', '.', '.', '.', '.'], ['.', '.', '.', '.', '.', '.', '.', '.', 'A', '.', '.', '.'], ['.', '.', '.', '.', '.', '.', '.', '.', '.', 'A', '.', '.'], ['.', '.', '.', '.', '.', '.', '.', '.', '.', '.', '.', '.'], ['.', '.', '.', '.', '.', '.', '.', '.', '.', '.', '.', '.']]\n"
     ]
    }
   ],
   "source": [
    "# *** [IMPORT DATA] ***\n",
    "# NOTE: In the given puzzle input:\n",
    "# - The grid map represents antennas.\n",
    "# - EACH antenna is represented by a *letter* or *digit*.\n",
    "# - The FREQUENCY of EACH antenna is different, based on whether the antenna is a: lowercase letter, uppercase letter or digit.\n",
    "# - '#': Represents an antinode. \n",
    "# =====================================================================================================================\n",
    "# ! Open the file for reading mode (= default mode if the mode is not specified)\n",
    "file = open(\"../data/24_day-8_input-test.txt\", \"r\") \n",
    "\n",
    "# Read all the data in the file\n",
    "file_data = file.read().strip()\n",
    "\n",
    "# Separate data by line to create rows for grid\n",
    "grid = file_data.split(\"\\n\")\n",
    "\n",
    "# Separate data in EACH row to represent EACH column\n",
    "for i in range(len(grid)):\n",
    "    grid[i] = list(grid[i])\n",
    "\n",
    "print(grid)\n",
    "# ===================================================================================================================="
   ]
  },
  {
   "cell_type": "markdown",
   "metadata": {},
   "source": [
    "## Helper functions"
   ]
  },
  {
   "cell_type": "code",
   "execution_count": 14,
   "metadata": {},
   "outputs": [
    {
     "name": "stdout",
     "output_type": "stream",
     "text": [
      "Total unique locations containing an antinode: 0\n"
     ]
    }
   ],
   "source": []
  },
  {
   "cell_type": "markdown",
   "metadata": {},
   "source": [
    "## Part 1"
   ]
  },
  {
   "cell_type": "code",
   "execution_count": 15,
   "metadata": {},
   "outputs": [
    {
     "name": "stdout",
     "output_type": "stream",
     "text": [
      "8\n"
     ]
    }
   ],
   "source": [
    "# *** [PART 1] ***\n",
    "# ! PROBLEM: The signal only applies its nefarious effect at specific antinodes based on the resonant frequencies of the antennas.\n",
    "# - In particular, an *antinode* occurs at *any point* that is perfectly *in line* with TWO antennas of the SAME frequency - but ONLY when ONE of the antennas is TWICE as far away as the other. This means that for any PAIR of antennas with the SAME frequency, there are TWO antinodes, one on EITHER side of them.\n",
    "# - Antennas with DIFFERENT frequencies DO NOT create antinodes; however, antinodes CAN occur at the SAME locations that CONTAIN antennas.\n",
    "# - TODO: Calculate the impact of the signal. How many unique locations within the bounds of the map contain an antinode?\n",
    "# ====================================================================================================================\n",
    "# ! Create a deep (independent) copy of the grid data, such that changes made to the copy do not affect the original grid to still test/re-run Part 1 with the correct INITIAL (and not modified) grid\n",
    "# - NOTE: Not using a deep copy will modify the original grid after running Part 1, therefore no correct output will be calculated anymore\n",
    "part1_grid = copy.deepcopy(grid)\n",
    "antennas = []\n",
    "numRows = len(grid)\n",
    "numCols = len(grid[0])\n",
    "antinodes = set()\n",
    "freq_map = defaultdict(list)\n",
    "\n",
    "# Store antennas & their respective locations\n",
    "for x in range(numRows):\n",
    "    for y in range(numCols):\n",
    "        if grid[x][y] != '.':\n",
    "            antennas.append((grid[x][y], x, y)) # ('A', 4, 2)\n",
    "\n",
    "\"\"\" Calculate the positions of antinodes \"\"\"\n",
    "# Group antennas by frequency\n",
    "for ant_freq, x, y in antennas:\n",
    "    freq_map[ant_freq].append((x, y))\n",
    "\n",
    "# Calculate antinodes for each frequency\n",
    "for ant_freq, positions in freq_map.items():\n",
    "    for i in range(len(positions)):\n",
    "        for j in range(i + 1, len(positions)): # Compare every single antenna against every other antenna of the same frequency\n",
    "            x1, y1 = positions[i]\n",
    "            x2, y2 = positions[j]\n",
    "            \n",
    "            # Calculate the midpoint between the 2 antenna points\n",
    "            mid_x = (x1 + x2) / 2\n",
    "            mid_y = (y1 + y2) / 2\n",
    "            \n",
    "            # Check if one antenna is twice as far as the other\n",
    "            # - Calculate the distance between antenna point #1 & point #2\n",
    "            # - IF both points = the samem then know that those 2 antennas are twice as far away from one another \n",
    "            dx = x2 - x1\n",
    "            dy = y2 - y1\n",
    "\n",
    "            if dx == 0:\n",
    "                if abs(y2 - y1) == 2 * abs(y1 - mid_y):\n",
    "                    antinodes.add((int(mid_x), int(mid_y)))\n",
    "            elif dy == 0:\n",
    "                if abs(x2 - x1) == 2 * abs(x1 - mid_x):\n",
    "                    antinodes.add((int(mid_x), int(mid_y)))\n",
    "            else:\n",
    "                if abs(x2 - x1) == 2 * abs(x1 - mid_x) and abs(y2 - y1) == 2 * abs(y1 - mid_y):\n",
    "                    antinodes.add((int(mid_x), int(mid_y)))\n",
    "\n",
    "print(len(antinodes))\n",
    "# ===================================================================================================================="
   ]
  },
  {
   "cell_type": "markdown",
   "metadata": {},
   "source": [
    "## Part 2"
   ]
  },
  {
   "cell_type": "code",
   "execution_count": null,
   "metadata": {},
   "outputs": [],
   "source": [
    "# *** [PART 2] ***\n",
    "# ! PROBLEM: xxx\n",
    "# - TODO: xxx\n",
    "#====================================================================================================================\n",
    "# ! Create a deep (independent) copy of the grid data, such that changes made to the copy do not affect the original grid to still test/re-run Part 1 with the correct INITIAL (and not modified) grid\n",
    "# - NOTE: Not using a deep copy will modify the original grid after running Part 1, therefore no correct output will be calculated anymore\n",
    "part2_grid = copy.deepcopy(grid)\n"
   ]
  },
  {
   "cell_type": "code",
   "execution_count": null,
   "metadata": {},
   "outputs": [],
   "source": []
  }
 ],
 "metadata": {
  "kernelspec": {
   "display_name": "Python 3",
   "language": "python",
   "name": "python3"
  },
  "language_info": {
   "codemirror_mode": {
    "name": "ipython",
    "version": 3
   },
   "file_extension": ".py",
   "mimetype": "text/x-python",
   "name": "python",
   "nbconvert_exporter": "python",
   "pygments_lexer": "ipython3",
   "version": "3.12.4"
  }
 },
 "nbformat": 4,
 "nbformat_minor": 2
}
