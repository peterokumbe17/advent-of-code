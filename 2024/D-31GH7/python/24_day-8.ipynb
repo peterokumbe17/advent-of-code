{
 "cells": [
  {
   "cell_type": "markdown",
   "metadata": {},
   "source": [
    "# Day 8: Resonant Collinearity"
   ]
  },
  {
   "cell_type": "markdown",
   "metadata": {},
   "source": [
    "## Import libraries"
   ]
  },
  {
   "cell_type": "code",
   "execution_count": 1,
   "metadata": {},
   "outputs": [],
   "source": [
    "import copy\n",
    "import itertools\n",
    "from collections import defaultdict"
   ]
  },
  {
   "cell_type": "markdown",
   "metadata": {},
   "source": [
    "## Import data"
   ]
  },
  {
   "cell_type": "code",
   "execution_count": 2,
   "metadata": {},
   "outputs": [
    {
     "name": "stdout",
     "output_type": "stream",
     "text": [
      "[['.', '.', '.', '.', '.', '.', '.', '.', '.', '.', '.', '.'], ['.', '.', '.', '.', '.', '.', '.', '.', '0', '.', '.', '.'], ['.', '.', '.', '.', '.', '0', '.', '.', '.', '.', '.', '.'], ['.', '.', '.', '.', '.', '.', '.', '0', '.', '.', '.', '.'], ['.', '.', '.', '.', '0', '.', '.', '.', '.', '.', '.', '.'], ['.', '.', '.', '.', '.', '.', 'A', '.', '.', '.', '.', '.'], ['.', '.', '.', '.', '.', '.', '.', '.', '.', '.', '.', '.'], ['.', '.', '.', '.', '.', '.', '.', '.', '.', '.', '.', '.'], ['.', '.', '.', '.', '.', '.', '.', '.', 'A', '.', '.', '.'], ['.', '.', '.', '.', '.', '.', '.', '.', '.', 'A', '.', '.'], ['.', '.', '.', '.', '.', '.', '.', '.', '.', '.', '.', '.'], ['.', '.', '.', '.', '.', '.', '.', '.', '.', '.', '.', '.']]\n"
     ]
    }
   ],
   "source": [
    "# *** [IMPORT DATA] ***\n",
    "# NOTE: In the given puzzle input:\n",
    "# - The grid map represents antennas.\n",
    "# - EACH antenna is represented by a *letter* or *digit*.\n",
    "# - The FREQUENCY of EACH antenna is different, based on whether the antenna is a: lowercase letter, uppercase letter or digit.\n",
    "# - '#': Represents an antinode. \n",
    "# =====================================================================================================================\n",
    "# ! Open the file for reading mode (= default mode if the mode is not specified)\n",
    "file = open(\"../data/24_day-8_input-test.txt\", \"r\")\n",
    "\n",
    "# Read all the data in the file\n",
    "file_data = file.read().strip()\n",
    "\n",
    "# Separate data by line to create rows for grid\n",
    "grid = file_data.split(\"\\n\")\n",
    "\n",
    "# Separate data in EACH row to represent EACH column\n",
    "for i in range(len(grid)):\n",
    "    grid[i] = list(grid[i])\n",
    "\n",
    "print(grid)\n",
    "# ===================================================================================================================="
   ]
  },
  {
   "cell_type": "markdown",
   "metadata": {},
   "source": [
    "## Helper functions"
   ]
  },
  {
   "cell_type": "code",
   "execution_count": 20,
   "metadata": {},
   "outputs": [],
   "source": [
    "def get_antinodes(_grid):\n",
    "    antennas = []\n",
    "    numRows = len(_grid)\n",
    "    numCols = len(_grid[0])\n",
    "    #antinodes = set()\n",
    "    antinodes_map = defaultdict(list)\n",
    "    freq_map = defaultdict(list)\n",
    "\n",
    "    # Store antennas & their respective locations\n",
    "    for x in range(numRows):\n",
    "        for y in range(numCols):\n",
    "            if _grid[x][y] != '.': # If the grid block is NOT empty\n",
    "                antennas.append((_grid[x][y], x, y)) # E.g. ('A', 4, 2)\n",
    "\n",
    "    \"\"\" Calculate the positions of antinodes \"\"\"\n",
    "    # Group antennas by frequency\n",
    "    for ant_freq, x, y in antennas:\n",
    "        freq_map[ant_freq].append((x, y)) # E.g. '('A', [(0,1), (2,3), ...])'\n",
    "\n",
    "    # Calculate antinodes for EACH frequency\n",
    "    for ant_freq, positions in freq_map.items():\n",
    "        #print(ant_freq)\n",
    "        for i in range(len(positions)):\n",
    "        #while i < len(positions):\n",
    "            for j in range(i + 1, len(positions)): # Compare every single antenna (i) against every other antenna of the same frequency (j)\n",
    "            #whilte j < len(positions):\n",
    "                x1, y1 = positions[i]\n",
    "                x2, y2 = positions[j]\n",
    "                print(\"Point #1:\", (x1, y1))\n",
    "                print(\"Point #2:\", (x2, y2))\n",
    "                \n",
    "                # Calculate the DISTANCE between antenna point #2 & #1 (same freq.)\n",
    "                # - NOTE: Removed 'abs' so that distances between 2 or more points in a straight line can be calculated and matched based on line slopes because antinodes can only exist above and/or below antennas on the SAME line from L to R or R to L\n",
    "                dx = x2 - x1 # minus order is IMPORTANT\n",
    "                dy = y2 - y1\n",
    "                #print(\"Distance:\", (dx, dy))\n",
    "\n",
    "                # Traverse through EACH non-empty point in the grid to check if it is an antinode of any 1 of the current 2 antennas with same freq.\n",
    "                for xn in range(numRows):\n",
    "                    for yn in range(numCols):\n",
    "                        # NOTE: Follow the SAME minus order of calculating the SAME difference in distance (+/-x; +/-y) between different points in a line\n",
    "                        # - E.g. For a striaght diagonal line going upwards from L to R with 4 points (2 antennas & 2 potential antinodes): xn - x2; x2 - x1; x1 - xn\n",
    "                        # Distance between antenna #1 (top) and current block\n",
    "                        dx1 = x1 - xn # minus order is IMPORTANT\n",
    "                        dy1 = y1 - yn\n",
    "                        # ----------------\n",
    "                        # Distance between current block and antenna #2 (bottom)\n",
    "                        dx2 = xn - x2 # minus order is IMPORTANT\n",
    "                        dy2 = yn - y2\n",
    "                        \n",
    "                        # IFF the distance between the current point & either of the 2 antennas = the distance between the current 2 antennas (dx1/2 == dx && dy1/2 == dy), then ADD the current non-empty point to the list of antinodes\n",
    "                        if (dx1 == dx and dy1 == dy):\n",
    "                            #print(\"Matched distance #1:\", (dx1, dy1))\n",
    "                            #print(\"Matched position #1:\", (xn, yn))\n",
    "                            antinodes_map[ant_freq].append((xn, yn))\n",
    "\n",
    "                        if (dx2 == dx and dy2 == dy):\n",
    "                            #print(\"Matched distance #2:\", (dx2, dy2))\n",
    "                            #print(\"Matched position #2:\", (xn, yn))\n",
    "                            antinodes_map[ant_freq].append((xn, yn))\n",
    "\n",
    "    # Flatten the dictionary values into a single list\n",
    "    antinodes = list(itertools.chain(*antinodes_map.values()))\n",
    "\n",
    "    # Remove duplicate values from the list\n",
    "    antinodes_no_duplicates = list(set(antinodes))\n",
    "\n",
    "    return antinodes_no_duplicates"
   ]
  },
  {
   "cell_type": "code",
   "execution_count": null,
   "metadata": {},
   "outputs": [],
   "source": [
    "def get_antinodes_p2(_grid): # Need to finish this code by TOMORROW !!!\n",
    "    antennas = []\n",
    "    numRows = len(_grid)\n",
    "    numCols = len(_grid[0])\n",
    "    #antinodes = set()\n",
    "    antinodes_map = defaultdict(list)\n",
    "    freq_map = defaultdict(list)\n",
    "\n",
    "    # Store antennas & their respective locations\n",
    "    for x in range(numRows):\n",
    "        for y in range(numCols):\n",
    "            if _grid[x][y] != '.': # If the grid block is NOT empty\n",
    "                antennas.append((_grid[x][y], x, y)) # E.g. ('A', 4, 2)\n",
    "\n",
    "    \"\"\" Calculate the positions of antinodes \"\"\"\n",
    "    # Group antennas by frequency\n",
    "    for ant_freq, x, y in antennas:\n",
    "        freq_map[ant_freq].append((x, y)) # E.g. '('A', [(0,1), (2,3), ...])'\n",
    "\n",
    "    # Calculate antinodes for EACH frequency\n",
    "    for ant_freq, positions in freq_map.items():\n",
    "        print(ant_freq)\n",
    "        i = 0\n",
    "        #numPositions = len(positions)\n",
    "        \n",
    "        #for i in range(len(positions)):\n",
    "        while i < len(positions):\n",
    "            j = i + 1\n",
    "\n",
    "            #for j in range(i + 1, len(positions)): # Compare every single antenna (i) against every other antenna of the same frequency (j)\n",
    "            while j < len(positions):\n",
    "                x1, y1 = positions[i]\n",
    "                x2, y2 = positions[j]\n",
    "                #print(\"Point #1:\", (x1, y1))\n",
    "                #print(\"Point #2:\", (x2, y2))\n",
    "                \n",
    "                # Calculate the DISTANCE between antenna point #2 & #1 (same freq.)\n",
    "                # - NOTE: Removed 'abs' so that distances between 2 or more points in a straight line can be calculated and matched based on line slopes because antinodes can only exist above and/or below antennas on the SAME line from L to R or R to L\n",
    "                dx = x2 - x1 # minus order is IMPORTANT\n",
    "                dy = y2 - y1\n",
    "                #print(\"Distance:\", (dx, dy))\n",
    "\n",
    "                # Traverse through EACH non-empty point in the grid to check if it is an antinode of any 1 of the current 2 antennas with same freq.\n",
    "                for xn in range(numRows):\n",
    "                    for yn in range(numCols):\n",
    "                        # NOTE: Follow the SAME minus order of calculating the SAME difference in distance (+/-x; +/-y) between different points in a line\n",
    "                        # - E.g. For a striaght diagonal line going upwards from L to R with 4 points (2 antennas & 2 potential antinodes): xn - x2; x2 - x1; x1 - xn\n",
    "                        # Distance between antenna #1 (top) and current block\n",
    "                        dx1 = x1 - xn # minus order is IMPORTANT\n",
    "                        dy1 = y1 - yn\n",
    "                        # ----------------\n",
    "                        # Distance between current block and antenna #2 (bottom)\n",
    "                        dx2 = xn - x2 # minus order is IMPORTANT\n",
    "                        dy2 = yn - y2\n",
    "                        \n",
    "                        # IFF the distance between the current point & either of the 2 antennas = the distance between the current 2 antennas (dx1/2 == dx && dy1/2 == dy), then ADD the current non-empty point to the list of antinodes\n",
    "                        if (dx1 == dx and dy1 == dy and ant_freq == '0'):\n",
    "                            #print(\"Matched distance #1:\", (dx1, dy1))\n",
    "                            #print(\"Matched position #1:\", (xn, yn))\n",
    "\n",
    "                            # CHANGE grid block to ant_freq symbol (E.g. 'A') to mark it as an antenna now\n",
    "                            if grid[xn][yn] != '0':\n",
    "                                _grid[xn][yn] = '#' # E.g. '.' becomes '#'\n",
    "                            #print(\"Before:\", positions)\n",
    "\n",
    "                            if (xn, yn) not in positions: # CHECK if this new position has NOT been added in ANY of the ant_freq positions !!!\n",
    "                                positions.append((xn, yn)) # E.g. '('A', [(0,1), (2,3), ...])'\n",
    "                                #print(\"After:\", positions)\n",
    "                                #numPositions = numPositions + 1 # Inc num of 'ant_freq' grid blocks to traverse through\n",
    "                            #antinodes_map[ant_freq].append((xn, yn))\n",
    "\n",
    "                        if (dx2 == dx and dy2 == dy and ant_freq == '0'):\n",
    "                            #print(\"Matched distance #2:\", (dx2, dy2))\n",
    "                            #print(\"Matched position #2:\", (xn, yn))\n",
    "\n",
    "                            # CHANGE grid block to ant_freq symbol (E.g. 'A') to mark it as an antenna now\n",
    "                            if grid[xn][yn] != '0':\n",
    "                                _grid[xn][yn] = '#' # E.g. '.' becomes '#'\n",
    "\n",
    "                            if (xn, yn) not in positions:\n",
    "                                positions.append((xn, yn)) # E.g. '('A', [(0,1), (2,3), ...])'\n",
    "                                #numPositions = numPositions + 1 # Inc num of 'ant_freq' grid blocks to traverse through\n",
    "                            #antinodes_map[ant_freq].append((xn, yn))\n",
    "\n",
    "                j = j + 1 # END_WHILE(j)\n",
    "            i = i + 1 # END_WHILE(i)\n",
    "        \n",
    "        print(positions)\n",
    "\n",
    "    # Flatten the dictionary values into a single list\n",
    "    #antinodes = list(itertools.chain(*antinodes_map.values()))\n",
    "    frequencies = list(itertools.chain(*freq_map.values()))\n",
    "\n",
    "    # Remove duplicate values from the list\n",
    "    #antinodes_no_duplicates = list(set(antinodes))\n",
    "    freq_no_duplicates = list(set(frequencies))\n",
    "\n",
    "    #return freq_no_duplicates"
   ]
  },
  {
   "cell_type": "markdown",
   "metadata": {},
   "source": [
    "## Part 1"
   ]
  },
  {
   "cell_type": "code",
   "execution_count": 21,
   "metadata": {},
   "outputs": [
    {
     "name": "stdout",
     "output_type": "stream",
     "text": [
      "Point #1: (1, 8)\n",
      "Point #2: (2, 5)\n",
      "Point #1: (1, 8)\n",
      "Point #2: (3, 7)\n",
      "Point #1: (1, 8)\n",
      "Point #2: (4, 4)\n",
      "Point #1: (2, 5)\n",
      "Point #2: (3, 7)\n",
      "Point #1: (2, 5)\n",
      "Point #2: (4, 4)\n",
      "Point #1: (3, 7)\n",
      "Point #2: (4, 4)\n",
      "Point #1: (5, 6)\n",
      "Point #2: (8, 8)\n",
      "Point #1: (5, 6)\n",
      "Point #2: (9, 9)\n",
      "Point #1: (8, 8)\n",
      "Point #2: (9, 9)\n",
      "Number of unique locations within grid with antinodes (PART 1): 14\n"
     ]
    }
   ],
   "source": [
    "# *** [PART 1] ***\n",
    "# ! PROBLEM: The signal only applies its nefarious effect at specific antinodes based on the resonant frequencies of the antennas.\n",
    "# - In particular, an *antinode* occurs at *any point* that is perfectly *in line* with TWO antennas of the SAME frequency - but ONLY when ONE of the antennas is TWICE as far away as the other. This means that for any PAIR of antennas with the SAME frequency, there are TWO antinodes, one on EITHER side of them.\n",
    "# - Antennas with DIFFERENT frequencies DO NOT create antinodes; however, antinodes CAN occur at the SAME locations that CONTAIN antennas.\n",
    "# - TODO: Calculate the impact of the signal. How many unique locations within the bounds of the map contain an antinode?\n",
    "# ====================================================================================================================\n",
    "# ! Create a deep (independent) copy of the grid data, such that changes made to the copy do not affect the original grid to still test/re-run Part 1 with the correct INITIAL (and not modified) grid\n",
    "# - NOTE: Not using a deep copy will modify the original grid after running Part 1, therefore no correct output will be calculated anymore\n",
    "part1_grid = copy.deepcopy(grid)\n",
    "\n",
    "numAntinodes = len(get_antinodes(part1_grid))\n",
    "\n",
    "print(\"Number of unique locations within grid with antinodes (PART 1):\", numAntinodes)\n",
    "# ===================================================================================================================="
   ]
  },
  {
   "cell_type": "markdown",
   "metadata": {},
   "source": [
    "## Part 2"
   ]
  },
  {
   "cell_type": "code",
   "execution_count": null,
   "metadata": {},
   "outputs": [
    {
     "name": "stdout",
     "output_type": "stream",
     "text": [
      "............\n",
      "........0...\n",
      ".....0......\n",
      ".......0....\n",
      "....0.......\n",
      "......A.....\n",
      "............\n",
      "............\n",
      "........A...\n",
      ".........A..\n",
      "............\n",
      "............\n",
      "\n",
      "\n",
      "0\n",
      "[(1, 8), (2, 5), (3, 7), (4, 4), (0, 11), (3, 2), (5, 6), (7, 0), (9, 4), (1, 3), (4, 9), (0, 6), (6, 3), (8, 7), (0, 1), (10, 1), (2, 10), (5, 1), (7, 5), (5, 11), (6, 8), (11, 3), (9, 9), (2, 0), (8, 2), (10, 6), (10, 11), (7, 10), (11, 8)]\n",
      "A\n",
      "[(5, 6), (8, 8), (9, 9)]\n",
      ".#....#....#\n",
      "...#....0...\n",
      "#....0....#.\n",
      "..#....0....\n",
      "....0....#..\n",
      ".#....#....#\n",
      "...#....#...\n",
      "#....#....#.\n",
      "..#....#A...\n",
      "....#....#..\n",
      ".#....#....#\n",
      "...#....#...\n"
     ]
    }
   ],
   "source": [
    "# *** [PART 2] ***\n",
    "# ! PROBLEM: After updating your model, it turns out that an antinode occurs at any grid position exactly in line with at least two antennas of the same frequency, regardless of distance. This means that some of the new antinodes will occur at the position of each antenna (unless that antenna is the only one of its frequency).\n",
    "# - TODO: Calculate the impact of the signal using this updated model. How many unique locations within the bounds of the map contain an antinode?\n",
    "#====================================================================================================================\n",
    "# ! Create a deep (independent) copy of the grid data, such that changes made to the copy do not affect the original grid to still test/re-run Part 1 with the correct INITIAL (and not modified) grid\n",
    "# - NOTE: Not using a deep copy will modify the original grid after running Part 1, therefore no correct output will be calculated anymore\n",
    "part2_grid = copy.deepcopy(grid)\n",
    "\n",
    "for row in part2_grid:\n",
    "    print(\"\".join(row))\n",
    "\n",
    "print(\"\\n\")\n",
    "\n",
    "# Calculate distances between points in same straight line slope\n",
    "# - Q: How to do this in code?? transform for loops to while loops and manipulate code\n",
    "get_antinodes_p2(part2_grid)\n",
    "\n",
    "for row in part2_grid:\n",
    "    print(\"\".join(row))\n",
    "    \n",
    "#numAntinodes = len(get_antinodes_p2(part2_grid))\n",
    "\n",
    "#print(\"Number of unique locations within grid with antinodes (PART 2):\", numAntinodes)"
   ]
  },
  {
   "cell_type": "markdown",
   "metadata": {},
   "source": [
    "# Testing"
   ]
  },
  {
   "cell_type": "code",
   "execution_count": 11,
   "metadata": {},
   "outputs": [
    {
     "name": "stdout",
     "output_type": "stream",
     "text": [
      "apple\n",
      "banana\n",
      "apple\n",
      "orange\n",
      "banana\n",
      "banana\n",
      "['apple', 'apple', 'banana', 'banana', 'banana', 'orange']\n",
      "=================\n",
      "apple: ['apple', 'apple', 'new']\n",
      "banana: ['banana', 'banana', 'banana', 'new']\n",
      "orange: ['orange', 'new']\n",
      "=================\n",
      "['apple', 'apple', 'new', 'banana', 'banana', 'banana', 'new', 'orange', 'new']\n",
      "apple: ['apple', 'apple', 'new']\n",
      "3\n",
      "-------\n",
      "banana: ['banana', 'banana', 'banana', 'new']\n",
      "4\n",
      "-------\n",
      "orange: ['orange', 'new']\n",
      "2\n",
      "-------\n"
     ]
    }
   ],
   "source": [
    "from collections import defaultdict\n",
    "\n",
    "word_freq = defaultdict(list)\n",
    "\n",
    "text = \"apple banana apple orange banana banana\"\n",
    "\n",
    "for word in text.split():\n",
    "    print(word)\n",
    "    word_freq[word].append(word)\n",
    "\n",
    "flat_list = list(itertools.chain(*word_freq.values()))\n",
    "print(flat_list)\n",
    "\n",
    "print(\"=================\")\n",
    "\n",
    "for word, freq in word_freq.items():\n",
    "    num = len(freq)\n",
    "    #print(len(freq))\n",
    "    freq.append(\"new\")\n",
    "    print(f\"{word}: {freq}\")\n",
    "    #print(len(freq))\n",
    "    \n",
    "print(\"=================\")\n",
    "\n",
    "flat_list = list(itertools.chain(*word_freq.values()))\n",
    "print(flat_list)\n",
    "\n",
    "for word, freq in word_freq.items():\n",
    "    print(f\"{word}: {freq}\")\n",
    "    print(len(freq))\n",
    "    #for i in range(num):\n",
    "    # while num > 0:\n",
    "    #     print(\"yes\")\n",
    "    #     word_freq[word].append(\"new\")\n",
    "        \n",
    "    #     num = num - 1\n",
    "    \n",
    "    print(\"-------\")"
   ]
  },
  {
   "cell_type": "code",
   "execution_count": 18,
   "metadata": {},
   "outputs": [
    {
     "name": "stdout",
     "output_type": "stream",
     "text": [
      "[(0, 1), (1, 2), (2, 3)]\n"
     ]
    }
   ],
   "source": [
    "a = [(0, 1), (1, 2), (2, 3)]\n",
    "\n",
    "if (0, 1) not in a:\n",
    "    a.append((99, 99))\n",
    "\n",
    "print(a)"
   ]
  },
  {
   "cell_type": "code",
   "execution_count": null,
   "metadata": {},
   "outputs": [],
   "source": []
  }
 ],
 "metadata": {
  "kernelspec": {
   "display_name": "Python 3",
   "language": "python",
   "name": "python3"
  },
  "language_info": {
   "codemirror_mode": {
    "name": "ipython",
    "version": 3
   },
   "file_extension": ".py",
   "mimetype": "text/x-python",
   "name": "python",
   "nbconvert_exporter": "python",
   "pygments_lexer": "ipython3",
   "version": "3.12.4"
  }
 },
 "nbformat": 4,
 "nbformat_minor": 2
}
