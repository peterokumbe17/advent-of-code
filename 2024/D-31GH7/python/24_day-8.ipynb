{
 "cells": [
  {
   "cell_type": "markdown",
   "metadata": {},
   "source": [
    "# Day 8: Resonant Collinearity"
   ]
  },
  {
   "cell_type": "markdown",
   "metadata": {},
   "source": [
    "## Import libraries"
   ]
  },
  {
   "cell_type": "code",
   "execution_count": 2,
   "metadata": {},
   "outputs": [],
   "source": [
    "import copy\n",
    "from collections import defaultdict"
   ]
  },
  {
   "cell_type": "markdown",
   "metadata": {},
   "source": [
    "## Import data"
   ]
  },
  {
   "cell_type": "code",
   "execution_count": 3,
   "metadata": {},
   "outputs": [
    {
     "name": "stdout",
     "output_type": "stream",
     "text": [
      "[['.', '.', '.', '.', '.', '.', '.', '.', '.', '.', '.', '.'], ['.', '.', '.', '.', '.', '.', '.', '.', '0', '.', '.', '.'], ['.', '.', '.', '.', '.', '0', '.', '.', '.', '.', '.', '.'], ['.', '.', '.', '.', '.', '.', '.', '0', '.', '.', '.', '.'], ['.', '.', '.', '.', '0', '.', '.', '.', '.', '.', '.', '.'], ['.', '.', '.', '.', '.', '.', 'A', '.', '.', '.', '.', '.'], ['.', '.', '.', '.', '.', '.', '.', '.', '.', '.', '.', '.'], ['.', '.', '.', '.', '.', '.', '.', '.', '.', '.', '.', '.'], ['.', '.', '.', '.', '.', '.', '.', '.', 'A', '.', '.', '.'], ['.', '.', '.', '.', '.', '.', '.', '.', '.', 'A', '.', '.'], ['.', '.', '.', '.', '.', '.', '.', '.', '.', '.', '.', '.'], ['.', '.', '.', '.', '.', '.', '.', '.', '.', '.', '.', '.']]\n"
     ]
    }
   ],
   "source": [
    "# *** [IMPORT DATA] ***\n",
    "# NOTE: In the given puzzle input:\n",
    "# - The grid map represents antennas.\n",
    "# - EACH antenna is represented by a *letter* or *digit*.\n",
    "# - The FREQUENCY of EACH antenna is different, based on whether the antenna is a: lowercase letter, uppercase letter or digit.\n",
    "# - '#': Represents an antinode. \n",
    "# =====================================================================================================================\n",
    "# ! Open the file for reading mode (= default mode if the mode is not specified)\n",
    "file = open(\"../data/24_day-8_input-test.txt\", \"r\") \n",
    "\n",
    "# Read all the data in the file\n",
    "file_data = file.read().strip()\n",
    "\n",
    "# Separate data by line to create rows for grid\n",
    "grid = file_data.split(\"\\n\")\n",
    "\n",
    "# Separate data in EACH row to represent EACH column\n",
    "for i in range(len(grid)):\n",
    "    grid[i] = list(grid[i])\n",
    "\n",
    "print(grid)\n",
    "# ===================================================================================================================="
   ]
  },
  {
   "cell_type": "markdown",
   "metadata": {},
   "source": [
    "## Helper functions"
   ]
  },
  {
   "cell_type": "code",
   "execution_count": 22,
   "metadata": {},
   "outputs": [],
   "source": [
    "def get_antinodes(_grid):\n",
    "    antennas = []\n",
    "    numRows = len(_grid)\n",
    "    numCols = len(_grid[0])\n",
    "    #antinodes = set()\n",
    "    antinodes_map = defaultdict(list)\n",
    "    freq_map = defaultdict(list)\n",
    "\n",
    "    # Store antennas & their respective locations\n",
    "    for x in range(numRows):\n",
    "        for y in range(numCols):\n",
    "            if _grid[x][y] != '.': # If the grid block is NOT empty\n",
    "                antennas.append((_grid[x][y], x, y)) # E.g. ('A', 4, 2)\n",
    "\n",
    "    \"\"\" Calculate the positions of antinodes \"\"\"\n",
    "    # Group antennas by frequency\n",
    "    for ant_freq, x, y in antennas:\n",
    "        freq_map[ant_freq].append((x, y)) # E.g. '('A', [(0,1), (2,3), ...])'\n",
    "\n",
    "    # Calculate antinodes for EACH frequency\n",
    "    for ant_freq, positions in freq_map.items():\n",
    "        print(ant_freq)\n",
    "        for i in range(len(positions)):\n",
    "            for j in range(i + 1, len(positions)): # Compare every single antenna against every other antenna of the same frequency\n",
    "                x1, y1 = positions[i]\n",
    "                x2, y2 = positions[j]\n",
    "                print(\"Point #1:\", (x1, y1))\n",
    "                print(\"Point #2:\", (x2, y2))\n",
    "                \n",
    "                # # Calculate the midpoint between the 2 antenna points\n",
    "                # mid_x = (x1 + x2) / 2\n",
    "                # mid_y = (y1 + y2) / 2\n",
    "                \n",
    "                # Calculate the DISTANCE between antenna point #2 & #1 (same freq.)\n",
    "                # - NOTE: Removed 'abs' so that distances between 2 or more points in a straight line can be calculated and matched based on line slopes because antinodes can only exist for antennas on the SAME line from L to R or R to L\n",
    "                dx = x2 - x1 # minus order is IMPORTANT\n",
    "                dy = y2 - y1\n",
    "                print(\"Distance:\", (dx, dy))\n",
    "\n",
    "                # Traverse through EACH non-empty point in the grid to check if it is an antinode of any 1 of the current 2 antennas with same freq.\n",
    "                for xn in range(numRows):\n",
    "                    for yn in range(numCols):\n",
    "                        #if _grid[xn][yn] != '.': # If the grid block is NOT empty -> can't check this because ALL non-freq blocks are ALL empty in initial grid\n",
    "                        # NOTE: Follow the SAME minus order of calculating the SAME difference in distance (+/-x; +/-y) between different points in a line\n",
    "                        # - E.g. For a striaght diagonal line going upwards from L to R with 4 points (2 antennas & 2 potential antinodes): xn - x2; x2 - x1; x1 - xn\n",
    "                        # Distance between antenna #1 (top) and current block\n",
    "                        dx1 = x1 - xn # minus order is IMPORTANT\n",
    "                        dy1 = y1 - yn\n",
    "                        # ----------------\n",
    "                        # Distance between current block and antenna #2 (bottom)\n",
    "                        dx2 = xn - x2 # minus order is IMPORTANT\n",
    "                        dy2 = yn - y2\n",
    "                        \n",
    "                        # IFF the distance between the current point & either of the 2 antennas = the distance between the current 2 antennas (dx1/2 == dx && dy1/2 == dy), then ADD the current non-empty point to the list of antinodes\n",
    "                        if (dx1 == dx and dy1 == dy): # AND if CURRENT position is NOT == CURRENT ant_freq position !!! ADD CHECK HERE !!!\n",
    "                            print(\"Matched distance #1:\", (dx1, dy1))\n",
    "                            print(\"Matched position #1:\", (xn, yn))\n",
    "                            antinodes_map[ant_freq].append((xn, yn))\n",
    "\n",
    "                        if (dx2 == dx and dy2 == dy): # AND if CURRENT position is NOT == CURRENT ant_freq position !!! ADD CHECK HERE !!!\n",
    "                            print(\"Matched distance #2:\", (dx2, dy2))\n",
    "                            print(\"Matched position #2:\", (xn, yn))\n",
    "                            antinodes_map[ant_freq].append((xn, yn))\n",
    "\n",
    "                        \n",
    "\n",
    "\n",
    "                # if dx == 0:\n",
    "                #     if abs(y2 - y1) == 2 * abs(y1 - mid_y):\n",
    "                #         antinodes.add((int(mid_x), int(mid_y)))\n",
    "                # elif dy == 0:\n",
    "                #     if abs(x2 - x1) == 2 * abs(x1 - mid_x):\n",
    "                #         antinodes.add((int(mid_x), int(mid_y)))\n",
    "                # else:\n",
    "                #     if abs(x2 - x1) == 2 * abs(x1 - mid_x) and abs(y2 - y1) == 2 * abs(y1 - mid_y):\n",
    "                #         antinodes.add((int(mid_x), int(mid_y)))\n",
    "\n",
    "    return antinodes_map"
   ]
  },
  {
   "cell_type": "markdown",
   "metadata": {},
   "source": [
    "## Part 1"
   ]
  },
  {
   "cell_type": "code",
   "execution_count": 23,
   "metadata": {},
   "outputs": [
    {
     "name": "stdout",
     "output_type": "stream",
     "text": [
      "0\n",
      "Point #1: (1, 8)\n",
      "Point #2: (2, 5)\n",
      "Distance: (1, -3)\n",
      "Matched distance #1: (1, -3)\n",
      "Matched position #1: (0, 11)\n",
      "Matched distance #2: (1, -3)\n",
      "Matched position #2: (3, 2)\n",
      "Point #1: (1, 8)\n",
      "Point #2: (3, 7)\n",
      "Distance: (2, -1)\n",
      "Matched distance #2: (2, -1)\n",
      "Matched position #2: (5, 6)\n",
      "Point #1: (1, 8)\n",
      "Point #2: (4, 4)\n",
      "Distance: (3, -4)\n",
      "Matched distance #2: (3, -4)\n",
      "Matched position #2: (7, 0)\n",
      "Point #1: (2, 5)\n",
      "Point #2: (3, 7)\n",
      "Distance: (1, 2)\n",
      "Matched distance #1: (1, 2)\n",
      "Matched position #1: (1, 3)\n",
      "Matched distance #2: (1, 2)\n",
      "Matched position #2: (4, 9)\n",
      "Point #1: (2, 5)\n",
      "Point #2: (4, 4)\n",
      "Distance: (2, -1)\n",
      "Matched distance #1: (2, -1)\n",
      "Matched position #1: (0, 6)\n",
      "Matched distance #2: (2, -1)\n",
      "Matched position #2: (6, 3)\n",
      "Point #1: (3, 7)\n",
      "Point #2: (4, 4)\n",
      "Distance: (1, -3)\n",
      "Matched distance #1: (1, -3)\n",
      "Matched position #1: (2, 10)\n",
      "Matched distance #2: (1, -3)\n",
      "Matched position #2: (5, 1)\n",
      "A\n",
      "Point #1: (5, 6)\n",
      "Point #2: (8, 8)\n",
      "Distance: (3, 2)\n",
      "Matched distance #1: (3, 2)\n",
      "Matched position #1: (2, 4)\n",
      "Matched distance #2: (3, 2)\n",
      "Matched position #2: (11, 10)\n",
      "Point #1: (5, 6)\n",
      "Point #2: (9, 9)\n",
      "Distance: (4, 3)\n",
      "Matched distance #1: (4, 3)\n",
      "Matched position #1: (1, 3)\n",
      "Point #1: (8, 8)\n",
      "Point #2: (9, 9)\n",
      "Distance: (1, 1)\n",
      "Matched distance #1: (1, 1)\n",
      "Matched position #1: (7, 7)\n",
      "Matched distance #2: (1, 1)\n",
      "Matched position #2: (10, 10)\n",
      "defaultdict(<class 'list'>, {'0': [(0, 11), (3, 2), (5, 6), (7, 0), (1, 3), (4, 9), (0, 6), (6, 3), (2, 10), (5, 1)], 'A': [(2, 4), (11, 10), (1, 3), (7, 7), (10, 10)]})\n"
     ]
    }
   ],
   "source": [
    "# *** [PART 1] ***\n",
    "# ! PROBLEM: The signal only applies its nefarious effect at specific antinodes based on the resonant frequencies of the antennas.\n",
    "# - In particular, an *antinode* occurs at *any point* that is perfectly *in line* with TWO antennas of the SAME frequency - but ONLY when ONE of the antennas is TWICE as far away as the other. This means that for any PAIR of antennas with the SAME frequency, there are TWO antinodes, one on EITHER side of them.\n",
    "# - Antennas with DIFFERENT frequencies DO NOT create antinodes; however, antinodes CAN occur at the SAME locations that CONTAIN antennas.\n",
    "# - TODO: Calculate the impact of the signal. How many unique locations within the bounds of the map contain an antinode?\n",
    "# ====================================================================================================================\n",
    "# ! Create a deep (independent) copy of the grid data, such that changes made to the copy do not affect the original grid to still test/re-run Part 1 with the correct INITIAL (and not modified) grid\n",
    "# - NOTE: Not using a deep copy will modify the original grid after running Part 1, therefore no correct output will be calculated anymore\n",
    "part1_grid = copy.deepcopy(grid)\n",
    "\n",
    "print(get_antinodes(part1_grid))\n",
    "\n",
    "# ===================================================================================================================="
   ]
  },
  {
   "cell_type": "markdown",
   "metadata": {},
   "source": [
    "## Part 2"
   ]
  },
  {
   "cell_type": "code",
   "execution_count": null,
   "metadata": {},
   "outputs": [],
   "source": [
    "# *** [PART 2] ***\n",
    "# ! PROBLEM: xxx\n",
    "# - TODO: xxx\n",
    "#====================================================================================================================\n",
    "# ! Create a deep (independent) copy of the grid data, such that changes made to the copy do not affect the original grid to still test/re-run Part 1 with the correct INITIAL (and not modified) grid\n",
    "# - NOTE: Not using a deep copy will modify the original grid after running Part 1, therefore no correct output will be calculated anymore\n",
    "part2_grid = copy.deepcopy(grid)\n"
   ]
  },
  {
   "cell_type": "code",
   "execution_count": 14,
   "metadata": {},
   "outputs": [
    {
     "name": "stdout",
     "output_type": "stream",
     "text": [
      "apple\n",
      "banana\n",
      "apple\n",
      "orange\n",
      "banana\n",
      "banana\n",
      "dict_items([('apple', ['apple', 'apple']), ('banana', ['banana', 'banana', 'banana']), ('orange', ['orange'])])\n",
      "apple: 2\n",
      "banana: 3\n",
      "orange: 1\n"
     ]
    }
   ],
   "source": [
    "from collections import defaultdict\n",
    "\n",
    "word_freq = defaultdict(list)\n",
    "\n",
    "text = \"apple banana apple orange banana banana\"\n",
    "\n",
    "for word in text.split():\n",
    "    print(word)\n",
    "    word_freq[word].append(word)\n",
    "\n",
    "print(word_freq.items())\n",
    "\n",
    "for word, freq in word_freq.items():\n",
    "    print(f\"{word}: {len(freq)}\")"
   ]
  },
  {
   "cell_type": "code",
   "execution_count": null,
   "metadata": {},
   "outputs": [],
   "source": []
  }
 ],
 "metadata": {
  "kernelspec": {
   "display_name": "Python 3",
   "language": "python",
   "name": "python3"
  },
  "language_info": {
   "codemirror_mode": {
    "name": "ipython",
    "version": 3
   },
   "file_extension": ".py",
   "mimetype": "text/x-python",
   "name": "python",
   "nbconvert_exporter": "python",
   "pygments_lexer": "ipython3",
   "version": "3.12.4"
  }
 },
 "nbformat": 4,
 "nbformat_minor": 2
}
