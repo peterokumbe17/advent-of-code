{
 "cells": [
  {
   "cell_type": "markdown",
   "metadata": {},
   "source": [
    "# Day 2: Red-Nosed Reports"
   ]
  },
  {
   "cell_type": "markdown",
   "metadata": {},
   "source": [
    "## Import data"
   ]
  },
  {
   "cell_type": "code",
   "execution_count": null,
   "metadata": {},
   "outputs": [],
   "source": [
    "# *** [IMPORT DATA] ***\n",
    "# =====================================================================================================================\n",
    "# ! Open the file for reading mode (= default mode if the mode is not specified)\n",
    "file = open(\"../data/24_day-2_input.txt\", \"r\")\n",
    "\n",
    "# Read all the data in the file\n",
    "arrFileData = file.read()\n",
    "\n",
    "# Split the data read from the file by every new line encountered and store in an array list\n",
    "arrFileData = arrFileData.split('\\n')\n",
    "\n",
    "# print(arrFileData)\n",
    "# ===================================================================================================================="
   ]
  },
  {
   "cell_type": "markdown",
   "metadata": {},
   "source": [
    "## Helper functions"
   ]
  },
  {
   "cell_type": "code",
   "execution_count": 3,
   "metadata": {},
   "outputs": [],
   "source": [
    "def checkSafeReport(arrLevels):\n",
    "    # Check if current report == safe\n",
    "    # func 'all':\n",
    "    # - Returns a boolean\n",
    "    # - Checks if the given param condition holds for all adjacent pairs in an array list\n",
    "\n",
    "    # Check if the list of level numbers are strictly INCREASING with a difference of at least 1 and at most 3\n",
    "    validIncrease = all(arrLevels[i] < arrLevels[i + 1] and (1 <= (arrLevels[i + 1] - arrLevels[i]) <= 3) for i in range(len(arrLevels) - 1))\n",
    "    # Check if the list of level numbers are strictly DECREASING with a difference of at least 1 and at most 3\n",
    "    validDecrease = all(arrLevels[i] > arrLevels[i + 1] and (1 <= (arrLevels[i] - arrLevels[i + 1]) <= 3) for i in range(len(arrLevels) - 1))\n",
    "\n",
    "    # Safe report = all level numbers either strictly increasing OR decreasing\n",
    "    # - Should return 'True': True OR False; False OR True; True OR True\n",
    "    return validIncrease or validDecrease"
   ]
  },
  {
   "cell_type": "code",
   "execution_count": 4,
   "metadata": {},
   "outputs": [],
   "source": [
    "def problemDampener(arrLevels):\n",
    "    # Check IF the current report = safe IF it's array list of number levels passes the safe check conditions IFF any 1 number is removed from the list\n",
    "    for i in range(len(arrLevels)):\n",
    "        # Remove the i-th element in the array list\n",
    "        # - '[:x]': Returns a new list of the original list excluding everything AFTER the xth element\n",
    "        # - '[x:]': Returns a new list of the original list excluding everything BEFORE the xth element\n",
    "        modifiedArrLevels = arrLevels[:i] + arrLevels[i + 1:]  # Remove the i-th element in the array list\n",
    "        \n",
    "        if checkSafeReport(modifiedArrLevels) == True:\n",
    "            return True\n",
    "    \n",
    "    return False\n",
    "# ===================================================================================================================="
   ]
  },
  {
   "cell_type": "markdown",
   "metadata": {},
   "source": [
    "## Part 1"
   ]
  },
  {
   "cell_type": "code",
   "execution_count": null,
   "metadata": {},
   "outputs": [],
   "source": [
    "# *** [PART 1] ***\n",
    "# ! PROBLEM: The unusual data (your puzzle input) consists of many reports with levels. The engineers are trying to figure out which reports are safe.\n",
    "# - EACH line represents a report. \n",
    "# - EACH report contains a list of numbers called *levels* that are separated by spaces.\n",
    "# - The Red-Nosed reactor safety systems can only tolerate levels that are either gradually increasing or gradually decreasing.\n",
    "# - TODO: Count how many reports are considered safe.\n",
    "#   - A report only counts as safe IFF:\n",
    "#     - The levels (column numbers) in the report (row) are ALL either increasing or decreasing.\n",
    "#     - Any 2 adjacent levels (column numbers) differ by at least 1 (NOT = 0) and at most 3 (NOT > 3). \n",
    "# ---------------------------------------------------------------------------------------------------------------------\n",
    "totalSafeReports = 0\n",
    "arrSafeReportsCheck = []\n",
    "\n",
    "for report in arrFileData:\n",
    "    # Split the report string line of numbers (levels) into a string array list of numbers (levels)\n",
    "    arrLevels = report.split()\n",
    "    # Convert each string value in the array into an integer\n",
    "    arrLevels = [int(num) for num in arrLevels]\n",
    "\n",
    "    # Check if current report == safe\n",
    "    isSafeReport = checkSafeReport(arrLevels)\n",
    "\n",
    "    if isSafeReport == True:\n",
    "        arrSafeReportsCheck.append(True)\n",
    "    else:\n",
    "        arrSafeReportsCheck.append(False)\n",
    "\n",
    "totalSafeReports = arrSafeReportsCheck.count(True)\n",
    "\n",
    "print(\"Total safe reports (PART 1):\", totalSafeReports)\n",
    "# ===================================================================================================================="
   ]
  },
  {
   "cell_type": "markdown",
   "metadata": {},
   "source": [
    "## Part 2"
   ]
  },
  {
   "cell_type": "code",
   "execution_count": null,
   "metadata": {},
   "outputs": [],
   "source": [
    "# *** [PART 2] ***\n",
    "# ! PROBLEM: The engineers are surprised by the low number of safe reports until they realize they forgot to tell you about the *Problem Dampener*.\n",
    "# - The Problem Dampener is a reactor-mounted module that lets the reactor safety systems *tolerate a single bad level* in what would otherwise be a safe report.\n",
    "# - TODO: The same rules apply as before, except if *removing a single level* from an UNSAFE report would make it SAFE, then the report would now count as SAFE.\n",
    "# ---------------------------------------------------------------------------------------------------------------------\n",
    "totalSafeReports = 0\n",
    "arrSafeReportsCheck = []\n",
    "\n",
    "for report in arrFileData:\n",
    "    # Split the report string line of numbers (levels) into a string array list of numbers (levels)\n",
    "    arrLevels = report.split()\n",
    "    # Convert each string value in the array into an integer\n",
    "    arrLevels = [int(num) for num in arrLevels]\n",
    "\n",
    "    # Check if current report == safe after applying the *Problem Dampener*\n",
    "    isSafeReport = problemDampener(arrLevels)\n",
    "\n",
    "    if isSafeReport == True:\n",
    "        arrSafeReportsCheck.append(True)\n",
    "    else:\n",
    "        arrSafeReportsCheck.append(False)\n",
    "\n",
    "totalSafeReports = arrSafeReportsCheck.count(True)\n",
    "\n",
    "print(\"Total safe reports (PART 2):\", totalSafeReports)"
   ]
  }
 ],
 "metadata": {
  "kernelspec": {
   "display_name": "base",
   "language": "python",
   "name": "python3"
  },
  "language_info": {
   "codemirror_mode": {
    "name": "ipython",
    "version": 3
   },
   "file_extension": ".py",
   "mimetype": "text/x-python",
   "name": "python",
   "nbconvert_exporter": "python",
   "pygments_lexer": "ipython3",
   "version": "3.9.7"
  }
 },
 "nbformat": 4,
 "nbformat_minor": 2
}
