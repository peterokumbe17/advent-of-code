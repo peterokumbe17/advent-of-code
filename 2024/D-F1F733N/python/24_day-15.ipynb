{
 "cells": [
  {
   "cell_type": "markdown",
   "metadata": {},
   "source": [
    "# Day 15: Warehouse Woes"
   ]
  },
  {
   "cell_type": "markdown",
   "metadata": {},
   "source": [
    "## Import libraries"
   ]
  },
  {
   "cell_type": "code",
   "execution_count": 11,
   "metadata": {},
   "outputs": [],
   "source": [
    "import copy\n",
    "# from functools import lru_cache"
   ]
  },
  {
   "cell_type": "markdown",
   "metadata": {},
   "source": [
    "## Import data"
   ]
  },
  {
   "cell_type": "code",
   "execution_count": 6,
   "metadata": {},
   "outputs": [
    {
     "name": "stdout",
     "output_type": "stream",
     "text": [
      "########\n",
      "#..O.O.#\n",
      "##@.O..#\n",
      "#...O..#\n",
      "#.#.O..#\n",
      "#...O..#\n",
      "#......#\n",
      "########\n",
      "\n",
      "<^^>>>vv<v>>v<<\n"
     ]
    }
   ],
   "source": [
    "# *** [IMPORT DATA] ***\n",
    "# NOTE: In the given puzzle input:\n",
    "# - Grid represents a warehouse map.\n",
    "# - '@' represents the robot making moves in the warehouse.\n",
    "# - 'O' represents boxes in the warehouse.\n",
    "# - '#' represents walls in the warehouse.\n",
    "# - The rest of the document describes the moves (in order) that the robot will attempt to make traversing around the warehouse.\n",
    "#   - '^': Up.\n",
    "#   - 'v': Down.\n",
    "#   - '<': Left.\n",
    "#   - '>': Right.\n",
    "# =====================================================================================================================\n",
    "# ! Open the file for reading mode (= default mode if the mode is not specified)\n",
    "file = open(\"../data/24_day-15_input-test.txt\", \"r\") \n",
    "\n",
    "# Read all the data in the file\n",
    "file_data = file.read().strip()\n",
    "\n",
    "# Split by claw machines\n",
    "file_data = file_data.split(\"\\n\")\n",
    "\n",
    "print(file_data)\n",
    "# ===================================================================================================================="
   ]
  },
  {
   "cell_type": "markdown",
   "metadata": {},
   "source": [
    "## Helper functions"
   ]
  },
  {
   "cell_type": "code",
   "execution_count": 4,
   "metadata": {},
   "outputs": [
    {
     "name": "stdout",
     "output_type": "stream",
     "text": [
      "1116\n"
     ]
    }
   ],
   "source": [
    "def simulate_robot_moves(map_str, moves_str):\n",
    "    # Parse the map\n",
    "    map_lines = map_str.strip().split('\\n')\n",
    "    grid = [list(line) for line in map_lines]\n",
    "    \n",
    "    # Find the initial position of the robot and the boxes\n",
    "    robot_pos = None\n",
    "    boxes = set()\n",
    "    for i in range(len(grid)):\n",
    "        for j in range(len(grid[i])):\n",
    "            if grid[i][j] == '@':\n",
    "                robot_pos = (i, j)\n",
    "            elif grid[i][j] == 'O':\n",
    "                boxes.add((i, j))\n",
    "    \n",
    "    # Define movement directions\n",
    "    directions = {\n",
    "        '^': (-1, 0),\n",
    "        'v': (1, 0),\n",
    "        '<': (0, -1),\n",
    "        '>': (0, 1)\n",
    "    }\n",
    "    \n",
    "    # Simulate the moves\n",
    "    for move in moves_str.strip():\n",
    "        if move not in directions:\n",
    "            continue  # Ignore invalid moves\n",
    "        \n",
    "        di, dj = directions[move]\n",
    "        new_i, new_j = robot_pos[0] + di, robot_pos[1] + dj\n",
    "        \n",
    "        # Check if the new position is within the grid and not a wall\n",
    "        if 0 <= new_i < len(grid) and 0 <= new_j < len(grid[0]) and grid[new_i][new_j] != '#':\n",
    "            if (new_i, new_j) in boxes:\n",
    "                # Push the box\n",
    "                box_new_i, box_new_j = new_i + di, new_j + dj\n",
    "                if 0 <= box_new_i < len(grid) and 0 <= box_new_j < len(grid[0]) and grid[box_new_i][box_new_j] != '#':\n",
    "                    # Move the box\n",
    "                    boxes.remove((new_i, new_j))\n",
    "                    boxes.add((box_new_i, box_new_j))\n",
    "                    # Move the robot\n",
    "                    robot_pos = (new_i, new_j)\n",
    "            else:\n",
    "                # Move the robot\n",
    "                robot_pos = (new_i, new_j)\n",
    "    \n",
    "    # Calculate the sum of GPS coordinates\n",
    "    gps_sum = 0\n",
    "    for (i, j) in boxes:\n",
    "        gps_sum += (100 * i) + j\n",
    "    \n",
    "    return gps_sum\n",
    "\n",
    "# Example usage\n",
    "map_str = \"\"\"\n",
    "########\n",
    "#..O.O.#\n",
    "##@.O..#\n",
    "#...O..#\n",
    "#.#.O..#\n",
    "#...O..#\n",
    "#......#\n",
    "########\n",
    "\"\"\"\n",
    "\n",
    "moves_str = \"<^^>>>vv<v>>v<<\"\n",
    "\n",
    "result = simulate_robot_moves(map_str, moves_str)\n",
    "print(result)  # Output: 2028"
   ]
  },
  {
   "cell_type": "code",
   "execution_count": 32,
   "metadata": {},
   "outputs": [],
   "source": [
    "# ===================================================================================================================="
   ]
  },
  {
   "cell_type": "markdown",
   "metadata": {},
   "source": [
    "## Part 1"
   ]
  },
  {
   "cell_type": "code",
   "execution_count": null,
   "metadata": {},
   "outputs": [],
   "source": [
    "# *** [PART 1] ***\n",
    "# ! PROBLEM: Right now, none of the lanternfish are brave enough to swim up to an unpredictable robot so they could shut it off. However, if you could anticipate the robot's movements, maybe they could find a safe option. The lanternfish already have a map of the warehouse and a *list of movements the robot will attempt to make* (your puzzle input). The problem is that the movements will sometimes fail as boxes are shifted around, making the actual movements of the robot difficult to predict.\n",
    "# - NOTE: As the robot moves:\n",
    "#   - It pushes any boxes ('O') that are in its way.\n",
    "#   - If the robot OR a box moves into a wall ('#'), then nothing moves (for the movement).\n",
    "# ! TODO: Predict the motion of the robot and boxes in the warehouse. After the robot is finished moving, calculate the sum of all boxes' GPS coordinates after the robot finishes moving.\n",
    "# - NOTE: The GPS coordinate of a box = 100 * (the box's distance from the TOP edge of the map + the box's distance from the LEFT edge of the map) -> see examples in website.\n",
    "# ====================================================================================================================\n",
    "# ! Create a deep (independent) copy of the data, such that changes made to the copy do not affect the original data to still test/re-run in Part 1/2 with the correct INITIAL (and not modified) data\n",
    "# - NOTE: Not using a deep copy will modify the original data after running Part 1/2, therefore incorrect output will be calculated.\n",
    "var = copy.deepcopy(file_data)\n",
    "\n",
    "# ===================================================================================================================="
   ]
  },
  {
   "cell_type": "markdown",
   "metadata": {},
   "source": [
    "## Part 2"
   ]
  },
  {
   "cell_type": "code",
   "execution_count": null,
   "metadata": {},
   "outputs": [],
   "source": [
    "# *** [PART 2] ***\n",
    "# ! PROBLEM: xxx\n",
    "# ! TODO: xxx\n",
    "#====================================================================================================================\n",
    "# ! Create a deep (independent) copy of the data, such that changes made to the copy do not affect the original data to still test/re-run Part in 1/2 with the correct INITIAL (and not modified) data\n",
    "# - NOTE: Not using a deep copy will modify the original data after running Part 1/2, therefore incorrect output will be calculated.\n",
    "var = copy.deepcopy(file_data)\n",
    "\n"
   ]
  },
  {
   "cell_type": "code",
   "execution_count": null,
   "metadata": {},
   "outputs": [],
   "source": []
  }
 ],
 "metadata": {
  "kernelspec": {
   "display_name": "base",
   "language": "python",
   "name": "python3"
  },
  "language_info": {
   "codemirror_mode": {
    "name": "ipython",
    "version": 3
   },
   "file_extension": ".py",
   "mimetype": "text/x-python",
   "name": "python",
   "nbconvert_exporter": "python",
   "pygments_lexer": "ipython3",
   "version": "3.9.7"
  }
 },
 "nbformat": 4,
 "nbformat_minor": 2
}
