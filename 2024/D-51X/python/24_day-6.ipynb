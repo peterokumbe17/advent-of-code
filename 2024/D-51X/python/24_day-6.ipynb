{
 "cells": [
  {
   "cell_type": "markdown",
   "metadata": {},
   "source": [
    "# Day 6: Guard Gallivant"
   ]
  },
  {
   "cell_type": "markdown",
   "metadata": {},
   "source": [
    "## Import libraries"
   ]
  },
  {
   "cell_type": "code",
   "execution_count": 26,
   "metadata": {},
   "outputs": [],
   "source": []
  },
  {
   "cell_type": "markdown",
   "metadata": {},
   "source": [
    "## Import data"
   ]
  },
  {
   "cell_type": "code",
   "execution_count": 9,
   "metadata": {},
   "outputs": [
    {
     "name": "stdout",
     "output_type": "stream",
     "text": [
      "['....#.....', '.........#', '..........', '..#.......', '.......#..', '..........', '.#..^.....', '........#.', '#.........', '......#...']\n"
     ]
    }
   ],
   "source": [
    "# *** [IMPORT DATA] ***\n",
    "# NOTE: In the given puzzle input:\n",
    "# - The whole puzzle input represents a lab (grid map) patrolled by a guard.\n",
    "# - '^': Represents the guard facing upwards.\n",
    "# - '#': Represents any obstructions (crates, desks, etc.). \n",
    "# =====================================================================================================================\n",
    "# ! Open the file for reading mode (= default mode if the mode is not specified)\n",
    "file = open(\"../data/24_day-6_input-test.txt\", \"r\") \n",
    "\n",
    "# Read all the data in the file\n",
    "file_data = file.read().strip()\n",
    "\n",
    "# Separate data by line to create rows for grid\n",
    "grid = file_data.split(\"\\n\")\n",
    "\n",
    "print(grid)\n",
    "# ===================================================================================================================="
   ]
  },
  {
   "cell_type": "markdown",
   "metadata": {},
   "source": [
    "## Helper functions"
   ]
  },
  {
   "cell_type": "code",
   "execution_count": 18,
   "metadata": {},
   "outputs": [],
   "source": [
    "def next_pos_is_obstacle(_grid, _direction, _guardCurrentRow, _guardCurrentCol):\n",
    "    if _direction == 'up':\n",
    "        # Check if the next position *upwards* is an obstacle\n",
    "        #print(_grid[_guardCurrentRow - 1][_guardCurrentCol])\n",
    "        if _grid[_guardCurrentRow - 1][_guardCurrentCol] == '#': return True\n",
    "\n",
    "    if _direction == 'down':\n",
    "        if _grid[_guardCurrentRow + 1][_guardCurrentCol] == '#': return True\n",
    "\n",
    "    if _direction == 'left':\n",
    "        if _grid[_guardCurrentRow][_guardCurrentCol - 1] == '#': return True\n",
    "\n",
    "    if _direction == 'right':\n",
    "        if _grid[_guardCurrentRow][_guardCurrentCol + 1] == '#': return True\n",
    "\n",
    "    return False"
   ]
  },
  {
   "cell_type": "markdown",
   "metadata": {},
   "source": [
    "## Part 1"
   ]
  },
  {
   "cell_type": "code",
   "execution_count": 19,
   "metadata": {},
   "outputs": [
    {
     "ename": "TypeError",
     "evalue": "unsupported operand type(s) for -: 'str' and 'int'",
     "output_type": "error",
     "traceback": [
      "\u001b[1;31m---------------------------------------------------------------------------\u001b[0m",
      "\u001b[1;31mTypeError\u001b[0m                                 Traceback (most recent call last)",
      "\u001b[1;32mC:\\Users\\PETERO~1\\AppData\\Local\\Temp/ipykernel_17100/682082404.py\u001b[0m in \u001b[0;36m<module>\u001b[1;34m\u001b[0m\n\u001b[0;32m     24\u001b[0m \u001b[1;31m# While the guard has NOT reached the END of any 1 of the 4 sides of the lab (grid)\u001b[0m\u001b[1;33m\u001b[0m\u001b[1;33m\u001b[0m\u001b[0m\n\u001b[0;32m     25\u001b[0m \u001b[1;32mwhile\u001b[0m \u001b[0mguardCurrentRow\u001b[0m \u001b[1;33m!=\u001b[0m \u001b[1;36m0\u001b[0m \u001b[1;32mor\u001b[0m \u001b[0mguardCurrentRow\u001b[0m \u001b[1;33m!=\u001b[0m \u001b[0mnRows\u001b[0m \u001b[1;32mor\u001b[0m \u001b[0mguardCurrentCol\u001b[0m \u001b[1;33m!=\u001b[0m \u001b[1;36m0\u001b[0m \u001b[1;32mor\u001b[0m \u001b[0mguardCurrentCol\u001b[0m \u001b[1;33m!=\u001b[0m \u001b[0mnCols\u001b[0m\u001b[1;33m:\u001b[0m\u001b[1;33m\u001b[0m\u001b[1;33m\u001b[0m\u001b[0m\n\u001b[1;32m---> 26\u001b[1;33m     \u001b[0mhitObstacle\u001b[0m \u001b[1;33m=\u001b[0m \u001b[0mnext_pos_is_obstacle\u001b[0m\u001b[1;33m(\u001b[0m\u001b[0mgrid\u001b[0m\u001b[1;33m,\u001b[0m \u001b[0mdirection\u001b[0m\u001b[1;33m,\u001b[0m \u001b[0mguardCurrentRow\u001b[0m\u001b[1;33m,\u001b[0m \u001b[0mguardCurrentCol\u001b[0m\u001b[1;33m)\u001b[0m\u001b[1;33m\u001b[0m\u001b[1;33m\u001b[0m\u001b[0m\n\u001b[0m\u001b[0;32m     27\u001b[0m \u001b[1;33m\u001b[0m\u001b[0m\n\u001b[0;32m     28\u001b[0m     \u001b[1;32mif\u001b[0m \u001b[0mhitObstacle\u001b[0m \u001b[1;33m==\u001b[0m \u001b[1;32mFalse\u001b[0m\u001b[1;33m:\u001b[0m\u001b[1;33m\u001b[0m\u001b[1;33m\u001b[0m\u001b[0m\n",
      "\u001b[1;32mC:\\Users\\PETERO~1\\AppData\\Local\\Temp/ipykernel_17100/1963780734.py\u001b[0m in \u001b[0;36mnext_pos_is_obstacle\u001b[1;34m(_grid, _direction, _guardCurrentRow, _guardCurrentCol)\u001b[0m\n\u001b[0;32m      3\u001b[0m         \u001b[1;31m# Check if the next position *upwards* is an obstacle\u001b[0m\u001b[1;33m\u001b[0m\u001b[1;33m\u001b[0m\u001b[0m\n\u001b[0;32m      4\u001b[0m         \u001b[1;31m#print(_grid[_guardCurrentRow - 1][_guardCurrentCol])\u001b[0m\u001b[1;33m\u001b[0m\u001b[1;33m\u001b[0m\u001b[0m\n\u001b[1;32m----> 5\u001b[1;33m         \u001b[1;32mif\u001b[0m \u001b[0m_grid\u001b[0m\u001b[1;33m[\u001b[0m\u001b[0m_guardCurrentRow\u001b[0m \u001b[1;33m-\u001b[0m \u001b[1;36m1\u001b[0m\u001b[1;33m]\u001b[0m\u001b[1;33m[\u001b[0m\u001b[0m_guardCurrentCol\u001b[0m\u001b[1;33m]\u001b[0m \u001b[1;33m==\u001b[0m \u001b[1;34m'#'\u001b[0m\u001b[1;33m:\u001b[0m \u001b[1;32mreturn\u001b[0m \u001b[1;32mTrue\u001b[0m\u001b[1;33m\u001b[0m\u001b[1;33m\u001b[0m\u001b[0m\n\u001b[0m\u001b[0;32m      6\u001b[0m \u001b[1;33m\u001b[0m\u001b[0m\n\u001b[0;32m      7\u001b[0m     \u001b[1;32mif\u001b[0m \u001b[0m_direction\u001b[0m \u001b[1;33m==\u001b[0m \u001b[1;34m'down'\u001b[0m\u001b[1;33m:\u001b[0m\u001b[1;33m\u001b[0m\u001b[1;33m\u001b[0m\u001b[0m\n",
      "\u001b[1;31mTypeError\u001b[0m: unsupported operand type(s) for -: 'str' and 'int'"
     ]
    }
   ],
   "source": [
    "# *** [PART 1] ***\n",
    "# ! PROBLEM: Lab guards in 1518 follow a very strict patrol protocol which involves repeatedly following these steps:\n",
    "# - If there is something (e.g. an obstacle = '#') directly in front of a guard, turn right 90 degrees.\n",
    "# - Otherwise, take a step forward.\n",
    "# - TODO: Determine which specific positions in the lab (grid map) will be in the patrol path by predicting the guard's route. \n",
    "# - NOTE: The positions (including the guard's starting position) visited by the guard before leaving the area are marked with an 'X':\n",
    "# - NOTE: A guard leaves the lab (grid map) after reaching the end of any of the 4 sides of the grid map. \n",
    "# ====================================================================================================================\n",
    "nRows = len(grid)\n",
    "nCols = len(grid[0])\n",
    "guardCurrentRow = 0; guardCurrentCol = 0\n",
    "direction = '' # string var to store the name of the current direction of the guard\n",
    "steps = 0 # int var to store the total number of steps the guard takes in her patrol path.\n",
    "\n",
    "# Determine initial position of guard\n",
    "for row in grid:\n",
    "    for col in row:\n",
    "        if col == '^':\n",
    "            # Set guard's initial position\n",
    "            guardCurrentRow = row\n",
    "            guardCurrentCol = col\n",
    "            direction = 'up'\n",
    "\n",
    "# While the guard has NOT reached the END of any 1 of the 4 sides of the lab (grid)\n",
    "while guardCurrentRow != 0 or guardCurrentRow != nRows or guardCurrentCol != 0 or guardCurrentCol != nCols:\n",
    "    hitObstacle = next_pos_is_obstacle(grid, direction, guardCurrentRow, guardCurrentCol)\n",
    "\n",
    "    if hitObstacle == False:\n",
    "        grid[guardCurrentRow][guardCurrentCol] = 'X' # Mark current position as visited\n",
    "\n",
    "    if direction == 'up':\n",
    "        # Check if next position is an obstacle\n",
    "        if hitObstacle == False:\n",
    "            guardCurrentRow -= 1 # Move guard 1 position upwards\n",
    "            steps += 1 # Increase steps taken by guard\n",
    "        elif hitObstacle == True:\n",
    "            # Turn guard right 90 degrees\n",
    "            direction = 'right'\n",
    "            grid[guardCurrentRow][guardCurrentCol] = '>'\n",
    "\n",
    "    if direction == 'down':\n",
    "        # Check if next position is an obstacle\n",
    "        if hitObstacle == False:\n",
    "            guardCurrentRow += 1 # Move guard 1 position downwards\n",
    "            steps += 1 # Increase steps taken by guard\n",
    "        elif hitObstacle == True:\n",
    "            # Turn guard right 90 degrees\n",
    "            direction = 'left'\n",
    "            grid[guardCurrentRow][guardCurrentCol] = '<'\n",
    "\n",
    "    if direction == 'left':\n",
    "        # Check if next position is an obstacle\n",
    "        if hitObstacle == False:\n",
    "            guardCurrentCol -= 1 # Move guard 1 position left\n",
    "            steps += 1 # Increase steps taken by guard\n",
    "        elif hitObstacle == True:\n",
    "            # Turn guard right 90 degrees\n",
    "            direction = 'up'\n",
    "            grid[guardCurrentRow][guardCurrentCol] = '^'\n",
    "\n",
    "    if direction == 'right':\n",
    "        # Check if next position is an obstacle\n",
    "        if hitObstacle == False:\n",
    "            guardCurrentCol += 1 # Move guard 1 position right\n",
    "            steps += 1 # Increase steps taken by guard\n",
    "        elif hitObstacle == True:\n",
    "            # Turn guard right 90 degrees\n",
    "            direction = 'down'\n",
    "            grid[guardCurrentRow][guardCurrentCol] = 'v'\n",
    "\n",
    "print(steps)\n",
    "# ===================================================================================================================="
   ]
  },
  {
   "cell_type": "markdown",
   "metadata": {},
   "source": [
    "## Part 2"
   ]
  },
  {
   "cell_type": "code",
   "execution_count": null,
   "metadata": {},
   "outputs": [],
   "source": [
    "# *** [PART 2] ***\n",
    "# ! PROBLEM: xxx\n",
    "# - TODO: xxx\n",
    "#====================================================================================================================\n"
   ]
  },
  {
   "cell_type": "code",
   "execution_count": null,
   "metadata": {},
   "outputs": [],
   "source": []
  },
  {
   "cell_type": "code",
   "execution_count": null,
   "metadata": {},
   "outputs": [],
   "source": []
  }
 ],
 "metadata": {
  "kernelspec": {
   "display_name": "base",
   "language": "python",
   "name": "python3"
  },
  "language_info": {
   "codemirror_mode": {
    "name": "ipython",
    "version": 3
   },
   "file_extension": ".py",
   "mimetype": "text/x-python",
   "name": "python",
   "nbconvert_exporter": "python",
   "pygments_lexer": "ipython3",
   "version": "3.9.7"
  }
 },
 "nbformat": 4,
 "nbformat_minor": 2
}
