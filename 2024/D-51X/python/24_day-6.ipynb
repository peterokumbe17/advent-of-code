{
 "cells": [
  {
   "cell_type": "markdown",
   "metadata": {},
   "source": [
    "# Day 6: Guard Gallivant"
   ]
  },
  {
   "cell_type": "markdown",
   "metadata": {},
   "source": [
    "## Import libraries"
   ]
  },
  {
   "cell_type": "code",
   "execution_count": 26,
   "metadata": {},
   "outputs": [],
   "source": []
  },
  {
   "cell_type": "markdown",
   "metadata": {},
   "source": [
    "## Import data"
   ]
  },
  {
   "cell_type": "code",
   "execution_count": null,
   "metadata": {},
   "outputs": [],
   "source": [
    "# *** [IMPORT DATA] ***\n",
    "# NOTE: In the given puzzle input:\n",
    "# - The whole puzzle input represents a lab (grid map) patrolled by a guard.\n",
    "# - '^': Represents the guard facing upwards.\n",
    "# - '#': Represents any obstructions (crates, desks, etc.). \n",
    "# =====================================================================================================================\n",
    "# ! Open the file for reading mode (= default mode if the mode is not specified)\n",
    "file = open(\"../data/24_day-6_input-test.txt\", \"r\") \n",
    "\n",
    "# Read all the data in the file\n",
    "file_data = file.read().strip()\n",
    "\n",
    "# ===================================================================================================================="
   ]
  },
  {
   "cell_type": "markdown",
   "metadata": {},
   "source": [
    "## Helper functions"
   ]
  },
  {
   "cell_type": "code",
   "execution_count": null,
   "metadata": {},
   "outputs": [],
   "source": []
  },
  {
   "cell_type": "markdown",
   "metadata": {},
   "source": [
    "## Part 1"
   ]
  },
  {
   "cell_type": "code",
   "execution_count": null,
   "metadata": {},
   "outputs": [],
   "source": [
    "# *** [PART 1] ***\n",
    "# ! PROBLEM: Lab guards in 1518 follow a very strict patrol protocol which involves repeatedly following these steps:\n",
    "# - If there is something (e.g. an obstacle = '#') directly in front of a guard, turn right 90 degrees.\n",
    "# - Otherwise, take a step forward.\n",
    "# - TODO: Determine which specific positions in the lab (grid map) will be in the patrol path by predicting the guard's route. \n",
    "# - NOTE: The positions (including the guard's starting position) visited by the guard before leaving the area are marked with an 'X':\n",
    "# - NOTE: A guard leaves the lab (grid map) after reaching the end of any of the 4 sides of the grid map. \n",
    "# ====================================================================================================================\n",
    "\n",
    "\n",
    "\n",
    "\n",
    "\n",
    "\n",
    "\n",
    "\n",
    "\n",
    "\n",
    "\n",
    "\n",
    "\n",
    "\n",
    "# ===================================================================================================================="
   ]
  },
  {
   "cell_type": "markdown",
   "metadata": {},
   "source": [
    "## Part 2"
   ]
  },
  {
   "cell_type": "code",
   "execution_count": null,
   "metadata": {},
   "outputs": [],
   "source": [
    "# *** [PART 2] ***\n",
    "# ! PROBLEM: xxx\n",
    "# - TODO: xxx\n",
    "#====================================================================================================================\n"
   ]
  },
  {
   "cell_type": "code",
   "execution_count": null,
   "metadata": {},
   "outputs": [],
   "source": []
  }
 ],
 "metadata": {
  "kernelspec": {
   "display_name": "base",
   "language": "python",
   "name": "python3"
  },
  "language_info": {
   "codemirror_mode": {
    "name": "ipython",
    "version": 3
   },
   "file_extension": ".py",
   "mimetype": "text/x-python",
   "name": "python",
   "nbconvert_exporter": "python",
   "pygments_lexer": "ipython3",
   "version": "3.9.7"
  }
 },
 "nbformat": 4,
 "nbformat_minor": 2
}
