{
 "cells": [
  {
   "cell_type": "markdown",
   "metadata": {},
   "source": [
    "# Day 20: Race Condition"
   ]
  },
  {
   "cell_type": "markdown",
   "metadata": {},
   "source": [
    "## Import libraries"
   ]
  },
  {
   "cell_type": "code",
   "execution_count": 4,
   "metadata": {},
   "outputs": [],
   "source": [
    "import copy\n",
    "# from functools import lru_cache"
   ]
  },
  {
   "cell_type": "markdown",
   "metadata": {},
   "source": [
    "## Import data"
   ]
  },
  {
   "cell_type": "code",
   "execution_count": 2,
   "metadata": {},
   "outputs": [
    {
     "name": "stdout",
     "output_type": "stream",
     "text": [
      "['###############', '#...#...#.....#', '#.#.#.#.#.###.#', '#S#...#.#.#...#', '#######.#.#.###', '#######.#.#...#', '#######.#.###.#', '###..E#...#...#', '###.#######.###', '#...###...#...#', '#.#####.#.###.#', '#.#...#.#.#...#', '#.#.#.#.#.#.###', '#...#...#...###', '###############']\n"
     ]
    }
   ],
   "source": [
    "# *** [IMPORT DATA] ***\n",
    "# NOTE: In the given puzzle input:\n",
    "# - Represents a racetrack grip map.\n",
    "# - 'S' = Starting position.\n",
    "# - 'E' = End position.\n",
    "# - '.' = Normal track path.\n",
    "# - '#' = Obstacle (wall).\n",
    "# ====================================================================================================================\n",
    "# ! Open the file for reading mode (= default mode if the mode is not specified)\n",
    "file = open(\"../data/24_day-20_input-test.txt\", \"r\") \n",
    "\n",
    "# Read all the data in the file\n",
    "file_data = file.read().strip()\n",
    "\n",
    "# Split by each line\n",
    "file_data = file_data.split(\"\\n\")\n",
    "\n",
    "print(file_data)\n",
    "# ===================================================================================================================="
   ]
  },
  {
   "cell_type": "markdown",
   "metadata": {},
   "source": [
    "## Helper functions"
   ]
  },
  {
   "cell_type": "code",
   "execution_count": 4,
   "metadata": {},
   "outputs": [
    {
     "ename": "KeyboardInterrupt",
     "evalue": "",
     "output_type": "error",
     "traceback": [
      "\u001b[1;31m---------------------------------------------------------------------------\u001b[0m",
      "\u001b[1;31mKeyboardInterrupt\u001b[0m                         Traceback (most recent call last)",
      "\u001b[1;32mC:\\Users\\PETERO~1\\AppData\\Local\\Temp/ipykernel_21904/2923399424.py\u001b[0m in \u001b[0;36m<module>\u001b[1;34m\u001b[0m\n\u001b[0;32m     89\u001b[0m     \u001b[1;34m\"###############\"\u001b[0m\u001b[1;33m\u001b[0m\u001b[1;33m\u001b[0m\u001b[0m\n\u001b[0;32m     90\u001b[0m ]\n\u001b[1;32m---> 91\u001b[1;33m \u001b[0mprint\u001b[0m\u001b[1;33m(\u001b[0m\u001b[1;34mf\"Total cheats that save at least 100 picoseconds: {find_cheats(racetrack)}\"\u001b[0m\u001b[1;33m)\u001b[0m\u001b[1;33m\u001b[0m\u001b[1;33m\u001b[0m\u001b[0m\n\u001b[0m",
      "\u001b[1;32mC:\\Users\\PETERO~1\\AppData\\Local\\Temp/ipykernel_21904/2923399424.py\u001b[0m in \u001b[0;36mfind_cheats\u001b[1;34m(racetrack)\u001b[0m\n\u001b[0;32m     14\u001b[0m \u001b[1;33m\u001b[0m\u001b[0m\n\u001b[0;32m     15\u001b[0m     \u001b[1;31m# Find all possible cheats and group them by the amount of time they save\u001b[0m\u001b[1;33m\u001b[0m\u001b[1;33m\u001b[0m\u001b[0m\n\u001b[1;32m---> 16\u001b[1;33m     \u001b[0mcheats\u001b[0m \u001b[1;33m=\u001b[0m \u001b[0mbfs_cheats\u001b[0m\u001b[1;33m(\u001b[0m\u001b[0mracetrack\u001b[0m\u001b[1;33m,\u001b[0m \u001b[0mstart\u001b[0m\u001b[1;33m,\u001b[0m \u001b[0mend\u001b[0m\u001b[1;33m,\u001b[0m \u001b[0mshortest_path\u001b[0m\u001b[1;33m)\u001b[0m\u001b[1;33m\u001b[0m\u001b[1;33m\u001b[0m\u001b[0m\n\u001b[0m\u001b[0;32m     17\u001b[0m \u001b[1;33m\u001b[0m\u001b[0m\n\u001b[0;32m     18\u001b[0m     \u001b[1;31m# Group cheats by the amount of time they save\u001b[0m\u001b[1;33m\u001b[0m\u001b[1;33m\u001b[0m\u001b[0m\n",
      "\u001b[1;32mC:\\Users\\PETERO~1\\AppData\\Local\\Temp/ipykernel_21904/2923399424.py\u001b[0m in \u001b[0;36mbfs_cheats\u001b[1;34m(racetrack, start, end, shortest_path)\u001b[0m\n\u001b[0;32m     60\u001b[0m                 \u001b[0mnx\u001b[0m\u001b[1;33m,\u001b[0m \u001b[0mny\u001b[0m \u001b[1;33m=\u001b[0m \u001b[0mx\u001b[0m \u001b[1;33m+\u001b[0m \u001b[0mdx\u001b[0m\u001b[1;33m,\u001b[0m \u001b[0my\u001b[0m \u001b[1;33m+\u001b[0m \u001b[0mdy\u001b[0m\u001b[1;33m\u001b[0m\u001b[1;33m\u001b[0m\u001b[0m\n\u001b[0;32m     61\u001b[0m                 \u001b[1;32mif\u001b[0m \u001b[1;33m(\u001b[0m\u001b[1;36m0\u001b[0m \u001b[1;33m<=\u001b[0m \u001b[0mnx\u001b[0m \u001b[1;33m<\u001b[0m \u001b[0mlen\u001b[0m\u001b[1;33m(\u001b[0m\u001b[0mracetrack\u001b[0m\u001b[1;33m)\u001b[0m \u001b[1;32mand\u001b[0m \u001b[1;36m0\u001b[0m \u001b[1;33m<=\u001b[0m \u001b[0mny\u001b[0m \u001b[1;33m<\u001b[0m \u001b[0mlen\u001b[0m\u001b[1;33m(\u001b[0m\u001b[0mracetrack\u001b[0m\u001b[1;33m[\u001b[0m\u001b[0mnx\u001b[0m\u001b[1;33m]\u001b[0m\u001b[1;33m)\u001b[0m\u001b[1;33m)\u001b[0m\u001b[1;33m:\u001b[0m\u001b[1;33m\u001b[0m\u001b[1;33m\u001b[0m\u001b[0m\n\u001b[1;32m---> 62\u001b[1;33m                     \u001b[1;32mif\u001b[0m \u001b[0mracetrack\u001b[0m\u001b[1;33m[\u001b[0m\u001b[0mnx\u001b[0m\u001b[1;33m]\u001b[0m\u001b[1;33m[\u001b[0m\u001b[0mny\u001b[0m\u001b[1;33m]\u001b[0m \u001b[1;33m==\u001b[0m \u001b[1;34m'.'\u001b[0m \u001b[1;32mand\u001b[0m \u001b[1;33m(\u001b[0m\u001b[0mnx\u001b[0m\u001b[1;33m,\u001b[0m \u001b[0mny\u001b[0m\u001b[1;33m)\u001b[0m \u001b[1;32mnot\u001b[0m \u001b[1;32min\u001b[0m \u001b[0mvisited\u001b[0m\u001b[1;33m:\u001b[0m\u001b[1;33m\u001b[0m\u001b[1;33m\u001b[0m\u001b[0m\n\u001b[0m\u001b[0;32m     63\u001b[0m                         \u001b[0mqueue\u001b[0m\u001b[1;33m.\u001b[0m\u001b[0mappend\u001b[0m\u001b[1;33m(\u001b[0m\u001b[1;33m(\u001b[0m\u001b[1;33m(\u001b[0m\u001b[0mnx\u001b[0m\u001b[1;33m,\u001b[0m \u001b[0mny\u001b[0m\u001b[1;33m)\u001b[0m\u001b[1;33m,\u001b[0m \u001b[0mdist\u001b[0m \u001b[1;33m+\u001b[0m \u001b[1;36m1\u001b[0m\u001b[1;33m,\u001b[0m \u001b[0mcheat_start\u001b[0m\u001b[1;33m)\u001b[0m\u001b[1;33m)\u001b[0m\u001b[1;33m\u001b[0m\u001b[1;33m\u001b[0m\u001b[0m\n\u001b[0;32m     64\u001b[0m                         \u001b[0mvisited\u001b[0m\u001b[1;33m.\u001b[0m\u001b[0madd\u001b[0m\u001b[1;33m(\u001b[0m\u001b[1;33m(\u001b[0m\u001b[0mnx\u001b[0m\u001b[1;33m,\u001b[0m \u001b[0mny\u001b[0m\u001b[1;33m)\u001b[0m\u001b[1;33m)\u001b[0m\u001b[1;33m\u001b[0m\u001b[1;33m\u001b[0m\u001b[0m\n",
      "\u001b[1;31mKeyboardInterrupt\u001b[0m: "
     ]
    }
   ],
   "source": [
    "from collections import deque, defaultdict\n",
    "\n",
    "def find_cheats(racetrack):\n",
    "    # Find the start and end positions\n",
    "    for i in range(len(racetrack)):\n",
    "        for j in range(len(racetrack[i])):\n",
    "            if racetrack[i][j] == 'S':\n",
    "                start = (i, j)\n",
    "            elif racetrack[i][j] == 'E':\n",
    "                end = (i, j)\n",
    "\n",
    "    # Find the shortest path between the start and end positions\n",
    "    shortest_path = bfs(racetrack, start, end)\n",
    "\n",
    "    # Find all possible cheats and group them by the amount of time they save\n",
    "    cheats = bfs_cheats(racetrack, start, end, shortest_path)\n",
    "\n",
    "    # Group cheats by the amount of time they save\n",
    "    cheat_groups = defaultdict(int)\n",
    "    for cheat in cheats:\n",
    "        cheat_start, cheat_end = cheat\n",
    "        cheat_dist = bfs(racetrack, cheat_start, cheat_end)\n",
    "        if cheat_dist is not None:\n",
    "            time_saved = shortest_path - cheat_dist\n",
    "            cheat_groups[time_saved] += 1\n",
    "\n",
    "    # Print the results in the specified format\n",
    "    for time_saved, count in sorted(cheat_groups.items(), reverse=True):\n",
    "        print(f\"There are {count} cheats that save {time_saved} picoseconds\")\n",
    "\n",
    "    # Return the total number of cheats that save at least 100 picoseconds\n",
    "    return sum(count for time_saved, count in cheat_groups.items())\n",
    "\n",
    "def bfs(racetrack, start, end):\n",
    "    queue = deque([(start, 0)])\n",
    "    visited = set([start])\n",
    "    while queue:\n",
    "        (x, y), dist = queue.popleft()\n",
    "        if (x, y) == end:\n",
    "            return dist\n",
    "        for dx, dy in [(-1, 0), (1, 0), (0, -1), (0, 1)]:\n",
    "            nx, ny = x + dx, y + dy\n",
    "            if (0 <= nx < len(racetrack) and 0 <= ny < len(racetrack[nx]) and\n",
    "                    racetrack[nx][ny] != '#' and (nx, ny) not in visited):\n",
    "                queue.append(((nx, ny), dist + 1))\n",
    "                visited.add((nx, ny))\n",
    "\n",
    "def bfs_cheats(racetrack, start, end, shortest_path):\n",
    "    queue = deque([(start, 0, None)])\n",
    "    visited = set([start])\n",
    "    cheats = set()\n",
    "    while queue:\n",
    "        (x, y), dist, cheat_start = queue.popleft()\n",
    "        if (x, y) == end:\n",
    "            if cheat_start is not None:\n",
    "                cheat_end = (x, y)\n",
    "                cheats.add((cheat_start, cheat_end))\n",
    "        else:\n",
    "            for dx, dy in [(-1, 0), (1, 0), (0, -1), (0, 1)]:\n",
    "                nx, ny = x + dx, y + dy\n",
    "                if (0 <= nx < len(racetrack) and 0 <= ny < len(racetrack[nx])):\n",
    "                    if racetrack[nx][ny] == '.' and (nx, ny) not in visited:\n",
    "                        queue.append(((nx, ny), dist + 1, cheat_start))\n",
    "                        visited.add((nx, ny))\n",
    "                    elif racetrack[nx][ny] == '#' and cheat_start is None:\n",
    "                        queue.append(((nx, ny), dist + 1, (x, y)))\n",
    "                        visited.add((nx, ny))\n",
    "                    elif racetrack[nx][ny] == '#' and cheat_start is not None:\n",
    "                        queue.append(((nx, ny), dist + 1, cheat_start))\n",
    "                        visited.add((nx, ny))\n",
    "    return cheats\n",
    "\n",
    "# Example usage:\n",
    "racetrack = [\n",
    "    \"###############\",\n",
    "    \"#...#...#.....#\",\n",
    "    \"#.#.#.#.#.###.#\",\n",
    "    \"#S#...#.#.#...#\",\n",
    "    \"#######.#.#.###\",\n",
    "    \"#######.#.#...#\",\n",
    "    \"#######.#.###.#\",\n",
    "    \"###..E#...#...#\",\n",
    "    \"###.#######.###\",\n",
    "    \"#...###...#...#\",\n",
    "    \"#.#####.#.###.#\",\n",
    "    \"#.#...#.#.#...#\",\n",
    "    \"#.#.#.#.#.#.###\",\n",
    "    \"#...#...#...###\",\n",
    "    \"###############\"\n",
    "]\n",
    "print(f\"Total cheats that save at least 100 picoseconds: {find_cheats(racetrack)}\")"
   ]
  },
  {
   "cell_type": "code",
   "execution_count": 32,
   "metadata": {},
   "outputs": [],
   "source": [
    "# ===================================================================================================================="
   ]
  },
  {
   "cell_type": "markdown",
   "metadata": {},
   "source": [
    "## Part 1"
   ]
  },
  {
   "cell_type": "code",
   "execution_count": null,
   "metadata": {},
   "outputs": [],
   "source": [
    "# *** [PART 1] ***\n",
    "# ! PROBLEM: When a program runs through the racetrack, it starts at the start ('S') position.\n",
    "# - It is allowed to move UDLR; EACH such move takes 1 picosecond. \n",
    "# - Goal = to reach the END ('E') position as quickly as possible.\n",
    "# - NOTE: Because there is only a single path from the start to the end and the programs all go the same speed, the races used to be pretty boring. To make things more interesting, they introduced a new rule to the races: programs are allowed to *cheat* with the following *strict* rules:\n",
    "#   - Exactly ONCE during a race, a program may disable collision for up to 2 picoseconds. This allows the program to pass through walls as if they were regular tracks.\n",
    "#   - At the end of the cheat, the program must be back on NORMAL track again; otherwise, it will receive a segmentation fault and get disqualified.\n",
    "#   - Each cheat has a distinct START position (the position where the cheat is activated, just before the first move that is allowed to go through walls) and END position - cheats are uniquely identified by their START position and END position.\n",
    "# ! TODO: You aren't sure what the conditions of the racetrack will be like, so to give yourself as many options as possible, therefore you'll need a list of the best cheats. Calculate how many cheats would save you at least 100 picoseconds.\n",
    "# ====================================================================================================================\n",
    "# ! Create a deep (independent) copy of the data, such that changes made to the copy do not affect the original data to still test/re-run in Part 1/2 with the correct INITIAL (and not modified) data\n",
    "# - NOTE: Not using a deep copy will modify the original data after running Part 1/2, therefore incorrect output will be calculated.\n",
    "var = copy.deepcopy(file_data)\n",
    "\n",
    "\n",
    "\n",
    "# ===================================================================================================================="
   ]
  },
  {
   "cell_type": "markdown",
   "metadata": {},
   "source": [
    "## Part 2"
   ]
  },
  {
   "cell_type": "code",
   "execution_count": null,
   "metadata": {},
   "outputs": [],
   "source": [
    "# *** [PART 2] ***\n",
    "# ! PROBLEM: xxx\n",
    "# ! TODO: xxx\n",
    "#====================================================================================================================\n",
    "# ! Create a deep (independent) copy of the data, such that changes made to the copy do not affect the original data to still test/re-run Part in 1/2 with the correct INITIAL (and not modified) data\n",
    "# - NOTE: Not using a deep copy will modify the original data after running Part 1/2, therefore incorrect output will be calculated.\n",
    "var = copy.deepcopy(file_data)\n",
    "\n"
   ]
  },
  {
   "cell_type": "code",
   "execution_count": null,
   "metadata": {},
   "outputs": [],
   "source": []
  }
 ],
 "metadata": {
  "kernelspec": {
   "display_name": "base",
   "language": "python",
   "name": "python3"
  },
  "language_info": {
   "codemirror_mode": {
    "name": "ipython",
    "version": 3
   },
   "file_extension": ".py",
   "mimetype": "text/x-python",
   "name": "python",
   "nbconvert_exporter": "python",
   "pygments_lexer": "ipython3",
   "version": "3.9.7"
  }
 },
 "nbformat": 4,
 "nbformat_minor": 2
}
