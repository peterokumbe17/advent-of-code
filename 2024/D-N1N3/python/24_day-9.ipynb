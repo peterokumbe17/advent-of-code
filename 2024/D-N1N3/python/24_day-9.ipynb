{
 "cells": [
  {
   "cell_type": "markdown",
   "metadata": {},
   "source": [
    "# Day 9: Disk Fragmenter"
   ]
  },
  {
   "cell_type": "markdown",
   "metadata": {},
   "source": [
    "## Import libraries"
   ]
  },
  {
   "cell_type": "code",
   "execution_count": 2,
   "metadata": {},
   "outputs": [],
   "source": [
    "import copy"
   ]
  },
  {
   "cell_type": "markdown",
   "metadata": {},
   "source": [
    "## Import data"
   ]
  },
  {
   "cell_type": "code",
   "execution_count": null,
   "metadata": {},
   "outputs": [],
   "source": [
    "# *** [IMPORT DATA] ***\n",
    "# NOTE: In the given puzzle input:\n",
    "# - A single string line that represents a disk map.\n",
    "# - The disk map uses a dense format to represent the layout of files and free space on the disk.\n",
    "# - The digits alternate between indicating the *length of a file* and the *length of free space*.\n",
    "# - E.g. A disk map = '12345' represents: 1-block file; 2 blocks of free space; 3-block file; 4-blocks of free space; 5-block file.\n",
    "# =====================================================================================================================\n",
    "# ! Open the file for reading mode (= default mode if the mode is not specified)\n",
    "file = open(\"../data/24_day-9_input.txt\", \"r\") \n",
    "\n",
    "# Read all the data in the file\n",
    "file_data = file.read().strip()\n",
    "\n",
    "print(file_data)\n",
    "# ===================================================================================================================="
   ]
  },
  {
   "cell_type": "markdown",
   "metadata": {},
   "source": [
    "## Helper functions"
   ]
  },
  {
   "cell_type": "code",
   "execution_count": null,
   "metadata": {},
   "outputs": [],
   "source": [
    "def rearrange_disk_map(s):\n",
    "    left = 0  # Start from the beginning of the string\n",
    "    right = len(s) - 1  # Start from the end of the string\n",
    "\n",
    "    while left < right:\n",
    "        # If the current character is a '.', find the first number from the right\n",
    "        if s[left] == '.':\n",
    "            # Traverse from the right to find the first number\n",
    "            while right > left and s[right] == '.':\n",
    "                right -= 1\n",
    "                \n",
    "            # Swap the '.' with the number\n",
    "            if right > left:\n",
    "                s[left], s[right] = s[right], s[left]\n",
    "                right -= 1\n",
    "\n",
    "        left += 1 # END_WHILE\n",
    "\n",
    "    # Return the rearranged string\n",
    "    return s"
   ]
  },
  {
   "cell_type": "code",
   "execution_count": null,
   "metadata": {},
   "outputs": [],
   "source": [
    "def count_num_free_spaces_before_file(s, start):\n",
    "    # Find the index of the next '.' after the start position\n",
    "    dot_index = s.find('.', start)\n",
    "    \n",
    "    # If no '.' is found, return 0\n",
    "    if dot_index == -1:\n",
    "        return 0\n",
    "    \n",
    "    # Find the index of the next digit after the '.' \n",
    "    next_digit_index = dot_index + 1\n",
    "    while next_digit_index < len(s) and not s[next_digit_index].isdigit():\n",
    "        next_digit_index += 1\n",
    "    \n",
    "    # If no digit is found, return 0\n",
    "    if next_digit_index == len(s):\n",
    "        return 0\n",
    "    \n",
    "    # Return the number of '.' between the start position and the next digit\n",
    "    return s.count('.', start, next_digit_index)\n",
    "\n",
    "# # Test the function\n",
    "# s = '00...111...2...333.44.5555.6666.777.888899'\n",
    "# print(count_num_free_spaces_before_file(s, 0))  # Output: 3\n",
    "# print(count_num_free_spaces_before_file(s, 5))  # Output: 3\n",
    "# print(count_num_free_spaces_before_file(s, 15))  # Output: 1"
   ]
  },
  {
   "cell_type": "code",
   "execution_count": null,
   "metadata": {},
   "outputs": [
    {
     "name": "stdout",
     "output_type": "stream",
     "text": [
      "5555\n",
      "8888\n",
      "99\n"
     ]
    }
   ],
   "source": [
    "def get_file_block(s, num):\n",
    "    # Find the last occurrence of the number in the string\n",
    "    last_occurrence_index = s.rfind(str(num))\n",
    "    \n",
    "    # If the number is not found, return an empty string\n",
    "    if last_occurrence_index == -1:\n",
    "        return ''\n",
    "    \n",
    "    # Find the start index of the substring sequence\n",
    "    start_index = last_occurrence_index\n",
    "    while start_index > 0 and s[start_index-1] == str(num):\n",
    "        start_index -= 1\n",
    "    \n",
    "    # Extract the substring sequence\n",
    "    substring_sequence = s[start_index:last_occurrence_index+1]\n",
    "    \n",
    "    return substring_sequence\n",
    "\n",
    "# # Test the function\n",
    "# s = '00...111...2...333.44.5555.6666.777.888899'\n",
    "# print(get_file_block(s, 5))  # Output: '5555'\n",
    "# print(get_file_block(s, 8))  # Output: '8888'\n",
    "# print(get_file_block(s, 9))  # Output: '9'"
   ]
  },
  {
   "cell_type": "code",
   "execution_count": null,
   "metadata": {},
   "outputs": [],
   "source": [
    "def rearrange_disk_map_p2(s):\n",
    "    left = 0  # Start from the beginning of the string\n",
    "    right = len(s) - 1  # Start from the end of the string\n",
    "\n",
    "    while left < right:\n",
    "        # TODO: If the current character is a '.', calculate the total number of '.' before the next number and then find the first file block from the right (E.g. '999')\n",
    "        # TODO: Q: How can I check for a seq of the same number in a string array list?\n",
    "        if s[left] == '.':\n",
    "            # Traverse from the right to find the first file block\n",
    "            while right > left and s[right] == '.':\n",
    "                right -= 1\n",
    "                \n",
    "            numLeftSpaceBlock = count_num_free_spaces_before_file(s, left)\n",
    "            rightFileBlock = get_file_block(s, int(s[right])) # s[right] = the single digit of the current rightmost number in the string\n",
    "            \n",
    "            # TODO: Swap the entire left space block ('.') with the entire right file block\n",
    "            if right > left:\n",
    "                s[left], s[right] = s[right], s[left]\n",
    "                right -= 1\n",
    "        \n",
    "        left += 1 #END_WHILE\n",
    "\n",
    "    # Return the rearranged string\n",
    "    return s"
   ]
  },
  {
   "cell_type": "markdown",
   "metadata": {},
   "source": [
    "## Part 1"
   ]
  },
  {
   "cell_type": "code",
   "execution_count": null,
   "metadata": {},
   "outputs": [],
   "source": [
    "# *** [PART 1] ***\n",
    "# ! PROBLEM: The amphipod would like to move file blocks *one at a time* from the END of the disk to the LEFTMOST free space block (until there are no gaps remaining between file blocks - see examples on website).\n",
    "# - Each file on disk also has an ID number based on the *order* of the files as they appear BEFORE they are rearranged, starting with ID 0.\n",
    "# - E.g. A disk map '12345' has 3 files: 1-block file (ID 0); 3-block file (ID 1); 5-block file (ID 2).\n",
    "# - - 'x' ID digits are used to represent EACH block (where 'x' = file block number) & '.' = free space.\n",
    "# - E.g. A disk map '12345' becomes '0..111....22222' after rearrangement.\n",
    "# - TODO: Calculate the resulting filesystem checksum of the RE-ARRANGED & MOVED disk map: Add up the result of multiplying each of the blocks' position with the file ID number it contains.\n",
    "# - E.g. '0099811188827773336446555566...' = '(0 * 0 = 0) + (1 * 0 = 0) + (2 * 9 = 18) + (3 * 9 = 27) + (4 * 8 = 32) + ... ' (Multiply array item idx by value)\n",
    "# ====================================================================================================================\n",
    "# ! Create a deep (independent) copy of the data, such that changes made to the copy do not affect the original data to still test/re-run Part 1/2 with the correct INITIAL (and not modified) data\n",
    "# - NOTE: Not using a deep copy will modify the original data after running Part 1/2, therefore no correct output will be calculated in repeated runs.\n",
    "disk_map = copy.deepcopy(file_data)\n",
    "arrTransformedDiskMap = []\n",
    "rearrangedDiskMap = ''\n",
    "blockCounter = 0\n",
    "checkSum = 0\n",
    "\n",
    "for i in range(len(disk_map)):\n",
    "    if i % 2 == 0: # If the index is even (i.e., we're looking at a block)\n",
    "        for j in range(int(disk_map[i])): #'x' ID digits are used to represent EACH block (where 'x' = file block number)\n",
    "            # NOTE: DO NOT use 'transformedDiskMap +=' because if 'blockCounter' number > 1 digit, then when transform string to a list, it will break up all numbers in the string into singluar digits (E.g. '10' => '1','0'), therefore append each number AS A WHOLE into an array list\n",
    "            arrTransformedDiskMap.append(str(blockCounter))\n",
    "            \n",
    "        blockCounter += 1\n",
    "    elif i % 2 != 0: # If the index is odd (i.e., we're looking at a free space)\n",
    "        for j in range(int(disk_map[i])):\n",
    "            arrTransformedDiskMap.append('.') # Append '.' as many times as the CURRENT free space number\n",
    "\n",
    "\"\"\" Re-arrange transformed disk map \"\"\"\n",
    "# Move file blocks (ID numbers) from the end of the disk to the leftmost free space block (until there are no gaps remaining between file blocks)\n",
    "rearrangedDiskMap = rearrange_disk_map(arrTransformedDiskMap)\n",
    "# print(rearrangedDiskMap)\n",
    "\n",
    "for i in range(len(rearrangedDiskMap)):\n",
    "    if rearrangedDiskMap[i] != '.':\n",
    "        checkSum += (i * int(rearrangedDiskMap[i]))\n",
    "\n",
    "print(\"Filesystem checksum (Part 1):\", checkSum)\n",
    "# ===================================================================================================================="
   ]
  },
  {
   "cell_type": "markdown",
   "metadata": {},
   "source": [
    "## Part 2"
   ]
  },
  {
   "cell_type": "code",
   "execution_count": null,
   "metadata": {},
   "outputs": [],
   "source": [
    "# *** [PART 2] ***\n",
    "# ! PROBLEM: Upon completion, two things immediately become clear. First, the disk definitely has a lot more contiguous free space, just like the amphipod hoped. Second, the computer is running much more slowly! Maybe introducing all of that file system fragmentation was a bad idea?\n",
    "# - TODO: Rather than moving individual blocks, compact disk files by moving WHOLE files instead.\n",
    "# - Attempt to move *whole files* to the *leftmost span* of free space blocks that could fit the file.\n",
    "# - Attempt to move each file *exactly once* in order of *decreasing file ID number*, starting with the file with the *highest file ID number*.\n",
    "# - If there is no span of free space to the left of a file that is large enough to fit the file, the file does not move.\n",
    "#====================================================================================================================\n",
    "# ! Create a deep (independent) copy of the data, such that changes made to the copy do not affect the original data to still test/re-run Part 1/2 with the correct INITIAL (and not modified) data\n",
    "# - NOTE: Not using a deep copy will modify the original data after running Part 1/2, therefore no correct output will be calculated in repeated runs.\n",
    "disk_map = copy.deepcopy(file_data)\n",
    "arrTransformedDiskMap_p2 = []\n",
    "rearrangedDiskMap_p2 = ''\n",
    "blockCounter_p2 = 0\n",
    "checkSum_p2 = 0\n",
    "\n",
    "for i in range(len(disk_map)):\n",
    "    if i % 2 == 0: # If the index is even (i.e., we're looking at a block)\n",
    "        for j in range(int(disk_map[i])): #'x' ID digits are used to represent EACH block (where 'x' = file block number)\n",
    "            # NOTE: DO NOT use 'transformedDiskMap +=' because if 'blockCounter' number > 1 digit, then when transform string to a list, it will break up all numbers in the string into singluar digits (E.g. '10' => '1','0'), therefore append each number AS A WHOLE into an array list\n",
    "            arrTransformedDiskMap_p2.append(str(blockCounter_p2))\n",
    "            \n",
    "        blockCounter_p2 += 1\n",
    "    elif i % 2 != 0: # If the index is odd (i.e., we're looking at a free space)\n",
    "        for j in range(int(disk_map[i])):\n",
    "            arrTransformedDiskMap_p2.append('.') # Append '.' as many times as the CURRENT free space number\n",
    "\n",
    "\"\"\" Re-arrange transformed disk map \"\"\"\n",
    "# Move file blocks (ID numbers) from the end of the disk to the leftmost free space block (until there are no gaps remaining between file blocks)\n",
    "rearrangedDiskMap_p2 = rearrange_disk_map_p2(arrTransformedDiskMap_p2)\n",
    "# print(rearrangedDiskMap_p2)\n",
    "\n",
    "for i in range(len(rearrangedDiskMap_p2)):\n",
    "    if rearrangedDiskMap_p2[i] != '.':\n",
    "        checkSum_p2 += (i * int(rearrangedDiskMap_p2[i]))\n",
    "\n",
    "print(\"Filesystem checksum (Part 2):\", checkSum_p2)\n",
    "\n",
    "\n",
    "\n",
    "# # Test the function\n",
    "# input_string = '00...111...2...333.44.5555.6666.777.888899'\n",
    "# expected_output = '00992111777.44.333....5555.6666.....8888..'\n",
    "\n",
    "# output = swap_dot_with_digits(input_string)\n",
    "# print(\"Output:\", output)\n",
    "# print(\"Matches expected output:\", output == expected_output)\n",
    "\n"
   ]
  },
  {
   "cell_type": "code",
   "execution_count": null,
   "metadata": {},
   "outputs": [],
   "source": []
  }
 ],
 "metadata": {
  "kernelspec": {
   "display_name": "Python 3",
   "language": "python",
   "name": "python3"
  },
  "language_info": {
   "codemirror_mode": {
    "name": "ipython",
    "version": 3
   },
   "file_extension": ".py",
   "mimetype": "text/x-python",
   "name": "python",
   "nbconvert_exporter": "python",
   "pygments_lexer": "ipython3",
   "version": "3.12.4"
  }
 },
 "nbformat": 4,
 "nbformat_minor": 2
}
