{
 "cells": [
  {
   "cell_type": "markdown",
   "metadata": {},
   "source": [
    "# Day 9: Disk Fragmenter"
   ]
  },
  {
   "cell_type": "markdown",
   "metadata": {},
   "source": [
    "## Import libraries"
   ]
  },
  {
   "cell_type": "code",
   "execution_count": 1,
   "metadata": {},
   "outputs": [],
   "source": [
    "import copy"
   ]
  },
  {
   "cell_type": "markdown",
   "metadata": {},
   "source": [
    "## Import data"
   ]
  },
  {
   "cell_type": "code",
   "execution_count": 13,
   "metadata": {},
   "outputs": [
    {
     "name": "stdout",
     "output_type": "stream",
     "text": [
      "2333133121414131402\n"
     ]
    }
   ],
   "source": [
    "# *** [IMPORT DATA] ***\n",
    "# NOTE: In the given puzzle input:\n",
    "# - A single string line that represents a disk map.\n",
    "# - The disk map uses a dense format to represent the layout of files and free space on the disk.\n",
    "# - The digits alternate between indicating the *length of a file* and the *length of free space*.\n",
    "# - E.g. A disk map = '12345' represents: 1-block file; 2 blocks of free space; 3-block file; 4-blocks of free space; 5-block file.\n",
    "# =====================================================================================================================\n",
    "# ! Open the file for reading mode (= default mode if the mode is not specified)\n",
    "file = open(\"../data/24_day-9_input-test.txt\", \"r\") \n",
    "\n",
    "# Read all the data in the file\n",
    "file_data = file.read().strip()\n",
    "\n",
    "print(file_data)\n",
    "# ===================================================================================================================="
   ]
  },
  {
   "cell_type": "markdown",
   "metadata": {},
   "source": [
    "## Helper functions"
   ]
  },
  {
   "cell_type": "code",
   "execution_count": null,
   "metadata": {},
   "outputs": [],
   "source": []
  },
  {
   "cell_type": "markdown",
   "metadata": {},
   "source": [
    "## Part 1"
   ]
  },
  {
   "cell_type": "code",
   "execution_count": 32,
   "metadata": {},
   "outputs": [
    {
     "name": "stdout",
     "output_type": "stream",
     "text": [
      "135\n",
      "0..111....22222\n"
     ]
    }
   ],
   "source": [
    "# *** [PART 1] ***\n",
    "# ! PROBLEM: The amphipod would like to move file blocks *one at a time* from the END of the disk to the LEFTMOST free space block (until there are no gaps remaining between file blocks - see examples on website).\n",
    "# - Each file on disk also has an ID number based on the *order* of the files as they appear BEFORE they are rearranged, starting with ID 0.\n",
    "# - E.g. A disk map '12345' has 3 files: 1-block file (ID 0); 3-block file (ID 1); 5-block file (ID 2).\n",
    "# - - 'x' ID digits are used to represent EACH block (where 'x' = file block number) & '.' = free space.\n",
    "# - E.g. A disk map '12345' becomes '0..111....22222' after rearrangement.\n",
    "# - TODO: Calculate the resulting filesystem checksum of the RE-ARRANGED & MOVED disk map: Add up the result of multiplying each of the blocks' position with the file ID number it contains.\n",
    "# - E.g. '0099811188827773336446555566...' = '(0 * 0 = 0) + (1 * 0 = 0) + (2 * 9 = 18) + (3 * 9 = 27) + (4 * 8 = 32) + ... ' (Multiply array item idx by value)\n",
    "# ====================================================================================================================\n",
    "file_data = '12345'\n",
    "arrBlocks = file_data[::2] # Every 2nd number in the disk map string (starting from the FIRST number)\n",
    "arrFreeSpaces = file_data[1::2] # Every 2nd number in the disk map string (starting from the SECOND number)\n",
    "\n",
    "print(arrBlocks)\n",
    "# print(arrFreeSpaces)\n",
    "\n",
    "# Build the resulting string\n",
    "rearrangedDiskMap = ''\n",
    "blockCounter = 0\n",
    "\n",
    "for i in range(len(file_data)):\n",
    "    if i % 2 == 0: # If the index is even (i.e., we're looking at a block)\n",
    "        for j in range(int(file_data[i])): #'x' ID digits are used to represent EACH block (where 'x' = file block number)\n",
    "            rearrangedDiskMap += str(blockCounter)\n",
    "        blockCounter += 1\n",
    "    elif i % 2 != 0: # If the index is odd (i.e., we're looking at a free space)\n",
    "        for j in range(int(file_data[i])): # \n",
    "            rearrangedDiskMap += '.'\n",
    "\n",
    "print(rearrangedDiskMap)\n",
    "\n",
    "# def compact_disk_simulation(initial_string):\n",
    "#     # Convert the string into a list for easy manipulation\n",
    "#     disk = list(initial_string)\n",
    "#     rows = [initial_string]  # Store each step as a new row\n",
    "\n",
    "#     while True:\n",
    "#         moved = False\n",
    "#         for i in range(len(disk) - 1, 0, -1):  # Traverse from right to left\n",
    "#             if disk[i] != '.' and disk[i - 1] == '.':\n",
    "#                 # Move the file block left\n",
    "#                 disk[i - 1], disk[i] = disk[i], '.'\n",
    "#                 moved = True\n",
    "\n",
    "#         # Add the new state to the rows\n",
    "#         if moved:\n",
    "#             rows.append(\"\".join(disk))\n",
    "#         else:\n",
    "#             break  # Stop when no blocks are moved\n",
    "\n",
    "#     return rows\n",
    "\n",
    "\n",
    "# # Example usage\n",
    "# initial_string = rearrangedDiskMap\n",
    "# result = compact_disk_simulation(initial_string)\n",
    "\n",
    "# # Print each step\n",
    "# for line in result:\n",
    "#     print(line)\n",
    "\n",
    "\n",
    "# print(rearrangedDiskMap)\n",
    "# ===================================================================================================================="
   ]
  },
  {
   "cell_type": "markdown",
   "metadata": {},
   "source": [
    "## Part 2"
   ]
  },
  {
   "cell_type": "code",
   "execution_count": null,
   "metadata": {},
   "outputs": [],
   "source": [
    "# *** [PART 2] ***\n",
    "# ! PROBLEM: xxx\n",
    "# - TODO: xxx\n",
    "#====================================================================================================================\n",
    "\n"
   ]
  },
  {
   "cell_type": "code",
   "execution_count": null,
   "metadata": {},
   "outputs": [],
   "source": []
  }
 ],
 "metadata": {
  "kernelspec": {
   "display_name": "base",
   "language": "python",
   "name": "python3"
  },
  "language_info": {
   "codemirror_mode": {
    "name": "ipython",
    "version": 3
   },
   "file_extension": ".py",
   "mimetype": "text/x-python",
   "name": "python",
   "nbconvert_exporter": "python",
   "pygments_lexer": "ipython3",
   "version": "3.9.7"
  }
 },
 "nbformat": 4,
 "nbformat_minor": 2
}
