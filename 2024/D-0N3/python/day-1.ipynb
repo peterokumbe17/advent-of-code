{
 "cells": [
  {
   "cell_type": "markdown",
   "metadata": {},
   "source": [
    "# Day 1: Historian Hysteria"
   ]
  },
  {
   "cell_type": "markdown",
   "metadata": {},
   "source": [
    "## Import data"
   ]
  },
  {
   "cell_type": "code",
   "execution_count": 13,
   "metadata": {},
   "outputs": [
    {
     "name": "stdout",
     "output_type": "stream",
     "text": [
      "Column 1 (L): [1, 2, 3, 3, 3, 4]\n",
      "Column 2 (R): [3, 3, 3, 4, 5, 9]\n"
     ]
    }
   ],
   "source": [
    "# *** [IMPORT DATA] ***\n",
    "# =====================================================================================================================\n",
    "import re\n",
    "\n",
    "lColumn = [] # int array var to store list of numbers in left column of text file\n",
    "rColumn = [] # int array var to store list of numbers in right column of text file\n",
    "\n",
    "# ! Open the file for reading mode (= default mode if the mode is not specified)\n",
    "# file = open(\"../data/day-1-input_test.txt\", \"r\")\n",
    "\n",
    "# ! Read through EACH line in the text file\n",
    "with open(\"../data/day-1-input_test.txt\", \"r\") as file:\n",
    "    for line in file:\n",
    "        line = line.strip()\n",
    "        # Split each line (by tab separation) into two values\n",
    "        num1, num2 = line.split()\n",
    "        lColumn.append(int(num1))  # Convert to integers and store in column1\n",
    "        rColumn.append(int(num2))  # Convert to integers and store in column2\n",
    "\n",
    "file.close()\n",
    "\n",
    "# Sort the arrays\n",
    "lColumn.sort()\n",
    "rColumn.sort()\n",
    "\n",
    "# Output the sorted arrays\n",
    "print(\"Column 1 (L):\", lColumn)\n",
    "print(\"Column 2 (R):\", rColumn)\n"
   ]
  },
  {
   "cell_type": "code",
   "execution_count": 1,
   "metadata": {},
   "outputs": [],
   "source": [
    "# *** [PART 1] ***\n",
    "# ! PROBLEM: Lists of 2 historian groups are NOT similar\n",
    "# - Maybe the lists are only off by a small amount - to find out, we need to pair up the numbers & measure how far apart they are.\n",
    "# - TASK: Pair the {1st, 2nd, 3rd, ...} SMALLEST number in the L list with the {1st, 2nd, 3rd, ...} SMALLEST number in the R list.\n",
    "#   - Within EACH pair, figure out *how far apart* the 2 numbers are from one another.\n",
    "#     - E.g. If pair #3 (L) with #7 (R), then the distance apart between them = 4 (vice versa).\n",
    "#   - Then add up all the distances between EACH pair to get the *total distance*.\n",
    "# ---------------------------------------------------------------------------------------------------------------------\n",
    "totalDistance = 0 # int var to store the total distance between all pairings\n",
    "\n",
    "## START CODE HERE ##\n",
    "# for line in arrFileData:\n",
    "\n",
    "## END CODE HERE ##"
   ]
  },
  {
   "cell_type": "code",
   "execution_count": null,
   "metadata": {},
   "outputs": [],
   "source": []
  }
 ],
 "metadata": {
  "kernelspec": {
   "display_name": "base",
   "language": "python",
   "name": "python3"
  },
  "language_info": {
   "codemirror_mode": {
    "name": "ipython",
    "version": 3
   },
   "file_extension": ".py",
   "mimetype": "text/x-python",
   "name": "python",
   "nbconvert_exporter": "python",
   "pygments_lexer": "ipython3",
   "version": "3.9.7"
  }
 },
 "nbformat": 4,
 "nbformat_minor": 2
}
