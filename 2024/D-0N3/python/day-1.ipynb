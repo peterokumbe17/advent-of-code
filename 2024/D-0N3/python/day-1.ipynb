{
 "cells": [
  {
   "cell_type": "markdown",
   "metadata": {},
   "source": [
    "# Day 1: Historian Hysteria"
   ]
  },
  {
   "cell_type": "markdown",
   "metadata": {},
   "source": [
    "## Import data"
   ]
  },
  {
   "cell_type": "code",
   "execution_count": null,
   "metadata": {},
   "outputs": [],
   "source": [
    "# *** [IMPORT DATA] ***\n",
    "# =====================================================================================================================\n",
    "import re\n",
    "\n",
    "lColumn = [] # int array var to store list of numbers in left column of text file\n",
    "rColumn = [] # int array var to store list of numbers in right column of text file\n",
    "\n",
    "# ! Open the file for reading mode (= default mode if the mode is not specified)\n",
    "file = open(\"../data/day-1-input.txt\", \"r\")\n",
    "\n",
    "# ! Read through EACH line in the text file\n",
    "for line in file:\n",
    "    line = line.strip()\n",
    "    # Split each line (by space separation) into two values\n",
    "    num1, num2 = line.split()\n",
    "    lColumn.append(int(num1))  # Convert to integers and store in column1\n",
    "    rColumn.append(int(num2))  # Convert to integers and store in column2\n",
    "\n",
    "file.close()\n",
    "\n",
    "# Sort the arrays\n",
    "lColumn.sort()\n",
    "rColumn.sort()\n",
    "\n",
    "# Output the sorted arrays\n",
    "print(\"Column 1 (L):\", lColumn)\n",
    "print(\"Column 2 (R):\", rColumn)\n"
   ]
  },
  {
   "cell_type": "markdown",
   "metadata": {},
   "source": [
    "## Part 1"
   ]
  },
  {
   "cell_type": "code",
   "execution_count": null,
   "metadata": {},
   "outputs": [],
   "source": [
    "# *** [PART 1] ***\n",
    "# ! PROBLEM: Lists of 2 historian groups are NOT similar\n",
    "# - Maybe the lists are only off by a small amount - to find out, we need to pair up the numbers & measure how far apart they are.\n",
    "# - TASK: Pair the {1st, 2nd, 3rd, ...} SMALLEST number in the L list with the {1st, 2nd, 3rd, ...} SMALLEST number in the R list.\n",
    "#   - Within EACH pair, figure out *how far apart* the 2 numbers are from one another.\n",
    "#     - E.g. If pair #3 (L) with #7 (R), then the distance apart between them = 4 (vice versa).\n",
    "#   - Then add up all the distances between EACH pair to get the *total distance*.\n",
    "# ---------------------------------------------------------------------------------------------------------------------\n",
    "totalDistance = 0 # int var to store the total distance between all pairings\n",
    "pairDistances = [] # int array var to store the distances between EACH pairing of numbers between the 2 columns\n",
    "counter = 0\n",
    "\n",
    "# Calculate distance between each pairings\n",
    "for lNum in lColumn:\n",
    "    distance = 0\n",
    "    rNum = rColumn[counter]\n",
    "\n",
    "    if lNum < rNum:\n",
    "        distance = rNum - lNum\n",
    "    else:\n",
    "        distance = lNum - rNum\n",
    "    \n",
    "    pairDistances.append(distance)\n",
    "\n",
    "    counter += 1\n",
    "\n",
    "# Calculate total distance between all pairings\n",
    "totalDistance = sum(pairDistances)\n",
    "\n",
    "print(pairDistances)\n",
    "print(\"Total distance:\", totalDistance)\n",
    "\n",
    "# ===================================================================================================================="
   ]
  },
  {
   "cell_type": "markdown",
   "metadata": {},
   "source": [
    "## Part 2"
   ]
  },
  {
   "cell_type": "code",
   "execution_count": null,
   "metadata": {},
   "outputs": [],
   "source": [
    "# *** [PART 1] ***\n",
    "# ! PROBLEM: This time, you'll need to figure out exactly *how often* EACH number from the LEFT list appears in the RIGHT list.\n",
    "# - Calculate a *total similarity score* by adding up EACH number in the LEFT list after multiplying EACH number by the *number of times* that it appears in the RIGHT list.\n",
    "# ---------------------------------------------------------------------------------------------------------------------\n",
    "from collections import Counter\n",
    "\n",
    "totalSimilarityScore = 0\n",
    "lColumnSimilarityScores = [] # int array var to store similarity scores of EACH number in the LEFT column\n",
    "\n",
    "# ! Calculate similarity scores of EACH number in the LEFT column\n",
    "# Count the number of times that EACH number in the RIGHT column appears in the same RIGHT column\n",
    "counter = Counter(rColumn)\n",
    "\n",
    "for num in lColumn:\n",
    "    # func 'counter.get(x)' returns the number of occurrences of the number 'x'; 0 = default return value\n",
    "    similarityScore = num * counter.get(num, 0)\n",
    "    #print(num, '\\t', similarityScore)\n",
    "    lColumnSimilarityScores.append(similarityScore)\n",
    "\n",
    "totalSimilarityScore = sum(lColumnSimilarityScores)\n",
    "\n",
    "print(lColumnSimilarityScores)\n",
    "print(totalSimilarityScore)"
   ]
  }
 ],
 "metadata": {
  "kernelspec": {
   "display_name": "base",
   "language": "python",
   "name": "python3"
  },
  "language_info": {
   "codemirror_mode": {
    "name": "ipython",
    "version": 3
   },
   "file_extension": ".py",
   "mimetype": "text/x-python",
   "name": "python",
   "nbconvert_exporter": "python",
   "pygments_lexer": "ipython3",
   "version": "3.9.7"
  }
 },
 "nbformat": 4,
 "nbformat_minor": 2
}
