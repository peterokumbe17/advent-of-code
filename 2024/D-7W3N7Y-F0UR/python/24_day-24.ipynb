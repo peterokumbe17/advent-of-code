{
 "cells": [
  {
   "cell_type": "markdown",
   "metadata": {},
   "source": [
    "# Day 24: Crossed Wires"
   ]
  },
  {
   "cell_type": "markdown",
   "metadata": {},
   "source": [
    "## Import libraries"
   ]
  },
  {
   "cell_type": "code",
   "execution_count": 1,
   "metadata": {},
   "outputs": [],
   "source": [
    "import copy"
   ]
  },
  {
   "cell_type": "markdown",
   "metadata": {},
   "source": [
    "## Import data"
   ]
  },
  {
   "cell_type": "code",
   "execution_count": 6,
   "metadata": {},
   "outputs": [
    {
     "name": "stdout",
     "output_type": "stream",
     "text": [
      "['x00: 1\\nx01: 0\\nx02: 1\\nx03: 1\\nx04: 0\\ny00: 1\\ny01: 1\\ny02: 1\\ny03: 1\\ny04: 1', 'ntg XOR fgs -> mjb\\ny02 OR x01 -> tnw\\nkwq OR kpj -> z05\\nx00 OR x03 -> fst\\ntgd XOR rvg -> z01\\nvdt OR tnw -> bfw\\nbfw AND frj -> z10\\nffh OR nrd -> bqk\\ny00 AND y03 -> djm\\ny03 OR y00 -> psh\\nbqk OR frj -> z08\\ntnw OR fst -> frj\\ngnj AND tgd -> z11\\nbfw XOR mjb -> z00\\nx03 OR x00 -> vdt\\ngnj AND wpb -> z02\\nx04 AND y00 -> kjc\\ndjm OR pbm -> qhw\\nnrd AND vdt -> hwm\\nkjc AND fst -> rvg\\ny04 OR y02 -> fgs\\ny01 AND x02 -> pbm\\nntg OR kjc -> kwq\\npsh XOR fgs -> tgd\\nqhw XOR tgd -> z09\\npbm OR djm -> kpj\\nx03 XOR y03 -> ffh\\nx00 XOR y04 -> ntg\\nbfw OR bqk -> z06\\nnrd XOR fgs -> wpb\\nfrj XOR qhw -> z04\\nbqk OR frj -> z07\\ny03 OR x01 -> nrd\\nhwm AND bqk -> z03\\ntgd XOR rvg -> z12\\ntnw OR pbm -> gnj']\n"
     ]
    }
   ],
   "source": [
    "# *** [IMPORT DATA] ***\n",
    "# NOTE: In the given puzzle input:\n",
    "# - 2 sections separated by an empty space (\\n\\n).\n",
    "# - First section: Contains a list of wires with EACH of their initial wire output values.\n",
    "# - Second section: Contains a list of boolean LOGIC gates, the *input* wires connected to EACH gate (AND, OR, XOR) and the *output* wire.\n",
    "# ====================================================================================================================\n",
    "# ! Open the file for reading mode (= default mode if the mode is not specified)\n",
    "file = open(\"../data/24_day-24_input-test.txt\", \"r\") \n",
    "\n",
    "# Read all the data in the file\n",
    "file_data = file.read().strip()\n",
    "\n",
    "# Split by empty space\n",
    "file_data = file_data.split(\"\\n\\n\")\n",
    "\n",
    "print(file_data)\n",
    "# ===================================================================================================================="
   ]
  },
  {
   "cell_type": "markdown",
   "metadata": {},
   "source": [
    "## Helper functions"
   ]
  },
  {
   "cell_type": "code",
   "execution_count": 9,
   "metadata": {},
   "outputs": [],
   "source": []
  },
  {
   "cell_type": "code",
   "execution_count": 16,
   "metadata": {},
   "outputs": [],
   "source": [
    "\n",
    "# ===================================================================================================================="
   ]
  },
  {
   "cell_type": "markdown",
   "metadata": {},
   "source": [
    "## Part 1"
   ]
  },
  {
   "cell_type": "code",
   "execution_count": null,
   "metadata": {},
   "outputs": [],
   "source": [
    "# *** [PART 1] ***\n",
    "# ! PROBLEM: You and The Historians arrive at the edge of a large grove somewhere in the jungle. After the last incident, the Elves installed a small device that monitors the fruit. While The Historians search the grove, one of them asks if you can take a look at the monitoring device; apparently, it's been malfunctioning recently. The device seems to be trying to produce a number through some boolean LOGIC gates. EACH gate has 2 inputs and 1 output. The gates all operate on values that are either true (1) or false (0).\n",
    "# - AND: TRUE (1) if BOTH inputs = TRUE (1); else FALSE (0).\n",
    "# - OR: TRUE (1) if ANY input = TRUE (1); else FALSE (0).\n",
    "# - XOR: TRUE (1) if ONE input = TRUE (1); else FALSE (0) -> E.g. 1(0) XOR 1(0) = 0.\n",
    "# ! TODO: Ultimately, the system is trying to produce a number by combining the bits on ALL wires starting with 'z'. Simulate the system of gates and wires. What decimal number does it output from the combined bits of the output wires starting with 'z'?\n",
    "# ====================================================================================================================\n",
    "# ! Create a deep (independent) copy of the data, such that changes made to the copy do not affect the original data to still test/re-run in Part 1/2 with the correct INITIAL (and not modified) data\n",
    "# - NOTE: Not using a deep copy will modify the original data after running Part 1/2, therefore incorrect output will be calculated.\n",
    "var = copy.deepcopy(file_data)\n",
    "\n",
    "\n",
    "# ===================================================================================================================="
   ]
  },
  {
   "cell_type": "markdown",
   "metadata": {},
   "source": [
    "## Part 2"
   ]
  },
  {
   "cell_type": "code",
   "execution_count": null,
   "metadata": {},
   "outputs": [],
   "source": [
    "# *** [PART 2] ***\n",
    "# ! PROBLEM: xxx\n",
    "# ! TODO: xxx\n",
    "#====================================================================================================================\n",
    "# ! Create a deep (independent) copy of the data, such that changes made to the copy do not affect the original data to still test/re-run Part in 1/2 with the correct INITIAL (and not modified) data\n",
    "# - NOTE: Not using a deep copy will modify the original data after running Part 1/2, therefore incorrect output will be calculated.\n",
    "var = copy.deepcopy(file_data)\n",
    "\n"
   ]
  },
  {
   "cell_type": "code",
   "execution_count": null,
   "metadata": {},
   "outputs": [],
   "source": []
  }
 ],
 "metadata": {
  "kernelspec": {
   "display_name": "Python 3",
   "language": "python",
   "name": "python3"
  },
  "language_info": {
   "codemirror_mode": {
    "name": "ipython",
    "version": 3
   },
   "file_extension": ".py",
   "mimetype": "text/x-python",
   "name": "python",
   "nbconvert_exporter": "python",
   "pygments_lexer": "ipython3",
   "version": "3.12.4"
  }
 },
 "nbformat": 4,
 "nbformat_minor": 2
}
