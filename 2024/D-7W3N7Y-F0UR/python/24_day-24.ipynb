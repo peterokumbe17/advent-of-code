{
 "cells": [
  {
   "cell_type": "markdown",
   "metadata": {},
   "source": [
    "# Day 24: Crossed Wires"
   ]
  },
  {
   "cell_type": "markdown",
   "metadata": {},
   "source": [
    "## Import libraries"
   ]
  },
  {
   "cell_type": "code",
   "execution_count": 1,
   "metadata": {},
   "outputs": [],
   "source": [
    "import copy"
   ]
  },
  {
   "cell_type": "markdown",
   "metadata": {},
   "source": [
    "## Import data"
   ]
  },
  {
   "cell_type": "code",
   "execution_count": 6,
   "metadata": {},
   "outputs": [
    {
     "name": "stdout",
     "output_type": "stream",
     "text": [
      "['x00: 1\\nx01: 0\\nx02: 1\\nx03: 1\\nx04: 0\\ny00: 1\\ny01: 1\\ny02: 1\\ny03: 1\\ny04: 1', 'ntg XOR fgs -> mjb\\ny02 OR x01 -> tnw\\nkwq OR kpj -> z05\\nx00 OR x03 -> fst\\ntgd XOR rvg -> z01\\nvdt OR tnw -> bfw\\nbfw AND frj -> z10\\nffh OR nrd -> bqk\\ny00 AND y03 -> djm\\ny03 OR y00 -> psh\\nbqk OR frj -> z08\\ntnw OR fst -> frj\\ngnj AND tgd -> z11\\nbfw XOR mjb -> z00\\nx03 OR x00 -> vdt\\ngnj AND wpb -> z02\\nx04 AND y00 -> kjc\\ndjm OR pbm -> qhw\\nnrd AND vdt -> hwm\\nkjc AND fst -> rvg\\ny04 OR y02 -> fgs\\ny01 AND x02 -> pbm\\nntg OR kjc -> kwq\\npsh XOR fgs -> tgd\\nqhw XOR tgd -> z09\\npbm OR djm -> kpj\\nx03 XOR y03 -> ffh\\nx00 XOR y04 -> ntg\\nbfw OR bqk -> z06\\nnrd XOR fgs -> wpb\\nfrj XOR qhw -> z04\\nbqk OR frj -> z07\\ny03 OR x01 -> nrd\\nhwm AND bqk -> z03\\ntgd XOR rvg -> z12\\ntnw OR pbm -> gnj']\n"
     ]
    }
   ],
   "source": [
    "# *** [IMPORT DATA] ***\n",
    "# NOTE: In the given puzzle input:\n",
    "# - 2 sections separated by an empty space (\\n\\n).\n",
    "# - First section: Contains a list of wires with EACH of their initial wire output values.\n",
    "# - Second section: Contains a list of boolean LOGIC gates, the *input* wires connected to EACH gate (AND, OR, XOR) and the *output* wire.\n",
    "# ====================================================================================================================\n",
    "# ! Open the file for reading mode (= default mode if the mode is not specified)\n",
    "file = open(\"../data/24_day-24_input-test.txt\", \"r\") \n",
    "\n",
    "# Read all the data in the file\n",
    "file_data = file.read().strip()\n",
    "\n",
    "# Split by empty space\n",
    "file_data = file_data.split(\"\\n\\n\")\n",
    "\n",
    "print(file_data)\n",
    "# ===================================================================================================================="
   ]
  },
  {
   "cell_type": "markdown",
   "metadata": {},
   "source": [
    "## Helper functions"
   ]
  },
  {
   "cell_type": "code",
   "execution_count": 10,
   "metadata": {},
   "outputs": [
    {
     "name": "stdout",
     "output_type": "stream",
     "text": [
      "180\n"
     ]
    }
   ],
   "source": [
    "def simulate_gates(wire_values, gates):\n",
    "    \"\"\"\n",
    "    Simulate the system of gates and wires.\n",
    "\n",
    "    Args:\n",
    "    wire_values (dict): A dictionary of initial wire values.\n",
    "    gates (list): A list of gate operations.\n",
    "\n",
    "    Returns:\n",
    "    int: The decimal number output on the wires starting with z.\n",
    "    \"\"\"\n",
    "    # Create a dictionary to store the values of all wires\n",
    "    all_wires = wire_values.copy()\n",
    "\n",
    "    # Define the gate operations\n",
    "    gate_operations = {\n",
    "        'AND': lambda x, y: x & y,\n",
    "        'OR': lambda x, y: x | y,\n",
    "        'XOR': lambda x, y: x ^ y\n",
    "    }\n",
    "\n",
    "    # Simulate the gates\n",
    "    for gate in gates:\n",
    "        # Parse the gate operation\n",
    "        gate_parts = gate.split()\n",
    "        gate_operation = gate_parts[1]\n",
    "        input_wire1 = gate_parts[0]\n",
    "        input_wire2 = gate_parts[2]\n",
    "        output_wire = gate_parts[4]\n",
    "\n",
    "        # Get the values of the input wires\n",
    "        input_value1 = all_wires.get(input_wire1, 0)\n",
    "        input_value2 = all_wires.get(input_wire2, 0)\n",
    "\n",
    "        # Perform the gate operation\n",
    "        output_value = gate_operations[gate_operation](input_value1, input_value2)\n",
    "\n",
    "        # Store the output value\n",
    "        all_wires[output_wire] = output_value\n",
    "\n",
    "    # Get the values of the wires starting with z\n",
    "    z_wires = [wire for wire in all_wires if wire.startswith('z')]\n",
    "    z_wires.sort()\n",
    "\n",
    "    # Convert the binary number to decimal\n",
    "    decimal_number = 0\n",
    "    for i, wire in enumerate(z_wires):\n",
    "        decimal_number += all_wires[wire] * (2 ** (len(z_wires) - 1 - i))\n",
    "\n",
    "    return decimal_number\n",
    "\n",
    "\n",
    "# Example usage\n",
    "wire_values = {\n",
    "    'x00': 1,\n",
    "    'x01': 0,\n",
    "    'x02': 1,\n",
    "    'x03': 1,\n",
    "    'x04': 0,\n",
    "    'y00': 1,\n",
    "    'y01': 1,\n",
    "    'y02': 1,\n",
    "    'y03': 1,\n",
    "    'y04': 1\n",
    "}\n",
    "\n",
    "gates = [\n",
    "    'ntg XOR fgs -> mjb',\n",
    "    'y02 OR x01 -> tnw',\n",
    "    'kwq OR kpj -> z05',\n",
    "    'x00 OR x03 -> fst',\n",
    "    'tgd XOR rvg -> z01',\n",
    "    'vdt OR tnw -> bfw',\n",
    "    'bfw AND frj -> z10',\n",
    "    'ffh OR nrd -> bqk',\n",
    "    'y00 AND y03 -> djm',\n",
    "    'y03 OR y00 -> psh',\n",
    "    'bqk OR frj -> z08',\n",
    "    'tnw OR fst -> frj',\n",
    "    'gnj AND tgd -> z11',\n",
    "    'bfw XOR mjb -> z00',\n",
    "    'x03 OR x00 -> vdt',\n",
    "    'gnj AND wpb -> z02',\n",
    "    'x04 AND y00 -> kjc',\n",
    "    'djm OR pbm -> qhw',\n",
    "    'nrd AND vdt -> hwm',\n",
    "    'kjc AND fst -> rvg',\n",
    "    'y04 OR y02 -> fgs',\n",
    "    'y01 AND x02 -> pbm',\n",
    "    'ntg OR kjc -> kwq',\n",
    "    'psh XOR fgs -> tgd',\n",
    "    'qhw XOR tgd -> z09',\n",
    "    'pbm OR djm -> kpj',\n",
    "    'x03 XOR y03 -> ffh',\n",
    "    'x00 XOR y04 -> ntg',\n",
    "    'bfw OR bqk -> z06',\n",
    "    'nrd XOR fgs -> wpb',\n",
    "    'frj XOR qhw -> z04',\n",
    "    'bqk OR frj -> z07',\n",
    "    'y03 OR x01 -> nrd',\n",
    "    'hwm AND bqk -> z03',\n",
    "    'tgd XOR rvg -> z12',\n",
    "    'tnw OR pbm -> gnj'\n",
    "]\n",
    "\n",
    "decimal_number = simulate_gates(wire_values, gates)\n",
    "print(decimal_number)"
   ]
  },
  {
   "cell_type": "code",
   "execution_count": 16,
   "metadata": {},
   "outputs": [],
   "source": [
    "\n",
    "# ===================================================================================================================="
   ]
  },
  {
   "cell_type": "markdown",
   "metadata": {},
   "source": [
    "## Part 1"
   ]
  },
  {
   "cell_type": "code",
   "execution_count": 8,
   "metadata": {},
   "outputs": [
    {
     "name": "stdout",
     "output_type": "stream",
     "text": [
      "['ntg XOR fgs -> mjb', 'y02 OR x01 -> tnw', 'kwq OR kpj -> z05', 'x00 OR x03 -> fst', 'tgd XOR rvg -> z01', 'vdt OR tnw -> bfw', 'bfw AND frj -> z10', 'ffh OR nrd -> bqk', 'y00 AND y03 -> djm', 'y03 OR y00 -> psh', 'bqk OR frj -> z08', 'tnw OR fst -> frj', 'gnj AND tgd -> z11', 'bfw XOR mjb -> z00', 'x03 OR x00 -> vdt', 'gnj AND wpb -> z02', 'x04 AND y00 -> kjc', 'djm OR pbm -> qhw', 'nrd AND vdt -> hwm', 'kjc AND fst -> rvg', 'y04 OR y02 -> fgs', 'y01 AND x02 -> pbm', 'ntg OR kjc -> kwq', 'psh XOR fgs -> tgd', 'qhw XOR tgd -> z09', 'pbm OR djm -> kpj', 'x03 XOR y03 -> ffh', 'x00 XOR y04 -> ntg', 'bfw OR bqk -> z06', 'nrd XOR fgs -> wpb', 'frj XOR qhw -> z04', 'bqk OR frj -> z07', 'y03 OR x01 -> nrd', 'hwm AND bqk -> z03', 'tgd XOR rvg -> z12', 'tnw OR pbm -> gnj']\n"
     ]
    }
   ],
   "source": [
    "# *** [PART 1] ***\n",
    "# ! PROBLEM: You and The Historians arrive at the edge of a large grove somewhere in the jungle. After the last incident, the Elves installed a small device that monitors the fruit. While The Historians search the grove, one of them asks if you can take a look at the monitoring device; apparently, it's been malfunctioning recently. The device seems to be trying to produce a number through some boolean LOGIC gates. EACH gate has 2 inputs and 1 output. The gates all operate on values that are either true (1) or false (0).\n",
    "# - AND: TRUE (1) if BOTH inputs = TRUE (1); else FALSE (0).\n",
    "# - OR: TRUE (1) if ANY input = TRUE (1); else FALSE (0).\n",
    "# - XOR: TRUE (1) if ONE input = TRUE (1); else FALSE (0) -> E.g. 1(0) XOR 1(0) = 0.\n",
    "# ! TODO: Ultimately, the system is trying to produce a number by combining the bits on ALL wires starting with 'z'. Simulate the system of gates and wires. What decimal number does it output from the combined bits of the output wires starting with 'z'?\n",
    "# ====================================================================================================================\n",
    "# ! Create a deep (independent) copy of the data, such that changes made to the copy do not affect the original data to still test/re-run in Part 1/2 with the correct INITIAL (and not modified) data\n",
    "# - NOTE: Not using a deep copy will modify the original data after running Part 1/2, therefore incorrect output will be calculated.\n",
    "logicGates = copy.deepcopy(file_data)\n",
    "\n",
    "inputWireValues = logicGates[0].split(\"\\n\")\n",
    "outputWireGates = logicGates[1].split(\"\\n\")\n",
    "\n",
    "# ===================================================================================================================="
   ]
  },
  {
   "cell_type": "markdown",
   "metadata": {},
   "source": [
    "## Part 2"
   ]
  },
  {
   "cell_type": "code",
   "execution_count": null,
   "metadata": {},
   "outputs": [],
   "source": [
    "# *** [PART 2] ***\n",
    "# ! PROBLEM: xxx\n",
    "# ! TODO: xxx\n",
    "#====================================================================================================================\n",
    "# ! Create a deep (independent) copy of the data, such that changes made to the copy do not affect the original data to still test/re-run Part in 1/2 with the correct INITIAL (and not modified) data\n",
    "# - NOTE: Not using a deep copy will modify the original data after running Part 1/2, therefore incorrect output will be calculated.\n",
    "var = copy.deepcopy(file_data)\n",
    "\n"
   ]
  },
  {
   "cell_type": "code",
   "execution_count": null,
   "metadata": {},
   "outputs": [],
   "source": []
  }
 ],
 "metadata": {
  "kernelspec": {
   "display_name": "Python 3",
   "language": "python",
   "name": "python3"
  },
  "language_info": {
   "codemirror_mode": {
    "name": "ipython",
    "version": 3
   },
   "file_extension": ".py",
   "mimetype": "text/x-python",
   "name": "python",
   "nbconvert_exporter": "python",
   "pygments_lexer": "ipython3",
   "version": "3.12.4"
  }
 },
 "nbformat": 4,
 "nbformat_minor": 2
}
