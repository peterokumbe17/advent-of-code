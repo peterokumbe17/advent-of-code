{
 "cells": [
  {
   "cell_type": "markdown",
   "metadata": {},
   "source": [
    "# Day 24: Crossed Wires"
   ]
  },
  {
   "cell_type": "markdown",
   "metadata": {},
   "source": [
    "## Import libraries"
   ]
  },
  {
   "cell_type": "code",
   "execution_count": 4,
   "metadata": {},
   "outputs": [],
   "source": [
    "import copy"
   ]
  },
  {
   "cell_type": "markdown",
   "metadata": {},
   "source": [
    "## Import data"
   ]
  },
  {
   "cell_type": "code",
   "execution_count": 54,
   "metadata": {},
   "outputs": [
    {
     "name": "stdout",
     "output_type": "stream",
     "text": [
      "['x00: 1\\nx01: 1\\nx02: 0\\nx03: 0\\nx04: 0\\nx05: 1\\nx06: 0\\nx07: 1\\nx08: 1\\nx09: 0\\nx10: 1\\nx11: 0\\nx12: 0\\nx13: 1\\nx14: 1\\nx15: 1\\nx16: 1\\nx17: 0\\nx18: 0\\nx19: 1\\nx20: 1\\nx21: 1\\nx22: 0\\nx23: 1\\nx24: 1\\nx25: 0\\nx26: 0\\nx27: 1\\nx28: 0\\nx29: 1\\nx30: 0\\nx31: 1\\nx32: 1\\nx33: 1\\nx34: 0\\nx35: 1\\nx36: 1\\nx37: 0\\nx38: 1\\nx39: 1\\nx40: 1\\nx41: 0\\nx42: 0\\nx43: 1\\nx44: 1\\ny00: 1\\ny01: 0\\ny02: 1\\ny03: 1\\ny04: 0\\ny05: 0\\ny06: 1\\ny07: 1\\ny08: 0\\ny09: 1\\ny10: 1\\ny11: 1\\ny12: 1\\ny13: 1\\ny14: 1\\ny15: 1\\ny16: 1\\ny17: 1\\ny18: 1\\ny19: 1\\ny20: 1\\ny21: 1\\ny22: 1\\ny23: 1\\ny24: 0\\ny25: 0\\ny26: 1\\ny27: 1\\ny28: 1\\ny29: 0\\ny30: 1\\ny31: 1\\ny32: 0\\ny33: 0\\ny34: 1\\ny35: 0\\ny36: 1\\ny37: 1\\ny38: 0\\ny39: 1\\ny40: 1\\ny41: 0\\ny42: 1\\ny43: 0\\ny44: 1', 'y30 AND x30 -> nww\\nvbw AND qhp -> smg\\nmwj OR pmq -> ngj\\nx19 AND y19 -> wrc\\nhnt XOR wnj -> z13\\ndsb XOR rgt -> z41\\nhqg OR cff -> fkm\\ntsw XOR vst -> z25\\nx14 AND y14 -> smm\\nnpr OR jnh -> fhw\\nstg AND trp -> fmk\\ny05 AND x05 -> rkt\\ny22 AND x22 -> gsg\\nftt AND mcb -> wmd\\nngq AND cgm -> vdw\\nkpt AND prr -> rdt\\nrqf XOR grt -> z33\\nx24 XOR y24 -> nkc\\nhbq OR twj -> hkt\\nrkt OR ckj -> wts\\nx04 AND y04 -> pmq\\ny16 AND x16 -> bpn\\nx08 XOR y08 -> prr\\nkmk XOR qvw -> z09\\njwd OR ssg -> cgm\\nmdm OR cwb -> hsf\\ny03 XOR x03 -> thv\\njdb OR btb -> kpt\\nkvp AND pcv -> jnh\\nfff OR pgr -> tmk\\nhkt XOR qrn -> z34\\nntr XOR gcc -> bfq\\ny37 XOR x37 -> ngq\\ncbj AND fnf -> pnj\\nbtw OR gsg -> kvp\\ncbj XOR fnf -> z26\\nscv XOR mbp -> z20\\nhhd AND qrt -> spj\\ny20 XOR x20 -> mbp\\ny00 XOR x00 -> z00\\nswn AND jkm -> tbg\\nkps OR wvq -> wgm\\nx43 AND y43 -> dcp\\ntfj XOR bcg -> z44\\nx06 XOR y06 -> vrh\\ny21 XOR x21 -> gbs\\nx04 XOR y04 -> stt\\nx44 AND y44 -> fnd\\nmkj OR rdt -> qvw\\nnvc XOR tgd -> z11\\nhkt AND qrn -> qdd\\nwts XOR vrh -> z06\\nhdg XOR qpj -> z16\\nngj AND pqj -> ckj\\nx21 AND y21 -> pgr\\ny22 XOR x22 -> svq\\ny39 AND x39 -> bng\\ny11 AND x11 -> tst\\nkqm OR vdw -> vvr\\ny15 XOR x15 -> nhg\\nrfw AND qnw -> wvq\\nx18 XOR y18 -> jss\\njmh AND pfb -> nts\\nfmk OR dbr -> wnj\\ny14 XOR x14 -> nmb\\ngrt AND rqf -> hbq\\nrrb OR dpj -> mdg\\njcb OR pnj -> gcc\\ntst OR jnn -> stg\\ny43 XOR x43 -> jtb\\nx10 AND y10 -> vrj\\ny36 XOR x36 -> rfv\\njss AND mdg -> z18\\nwvn XOR trw -> z10\\ny03 AND x03 -> bfs\\nvrh AND wts -> mcs\\nhnv OR rbm -> bdp\\ny31 AND x31 -> z31\\ny26 XOR x26 -> fnf\\nx08 AND y08 -> mkj\\ny34 AND x34 -> gck\\nx35 XOR y35 -> qnw\\nwnj AND hnt -> qdw\\ny32 XOR x32 -> vbw\\ny25 XOR x25 -> tsw\\nx34 XOR y34 -> qrn\\ny05 XOR x05 -> pqj\\nckp OR wbt -> hdg\\ngcc AND ntr -> pph\\ndnr OR nhq -> rgt\\ndhg OR bpn -> pch\\nvrj OR cvp -> nvc\\npbr XOR pch -> z17\\nx23 XOR y23 -> pcv\\nfqh XOR ctc -> hkh\\ny40 AND x40 -> dnr\\nx13 XOR y13 -> hnt\\nfkm AND hvb -> hnv\\ny28 XOR x28 -> mkq\\nhrh OR vtn -> swn\\nstg XOR trp -> z12\\nnkc AND fhw -> ngb\\nngj XOR pqj -> z05\\nx33 AND y33 -> twj\\nqdd OR gck -> rfw\\nswp XOR fcs -> z07\\nrfv AND wgm -> jwd\\nfnd OR scp -> z45\\nvbm XOR qqb -> z40\\nx13 AND y13 -> mkh\\nsvq AND tmk -> btw\\npbr AND pch -> rrb\\nhsf XOR bng -> z39\\nx32 AND y32 -> nwj\\nx40 XOR y40 -> qqb\\ny38 AND x38 -> cwb\\nfhw XOR nkc -> z24\\nkpt XOR prr -> z08\\ny17 AND x17 -> dpj\\nswn XOR jkm -> z42\\nvbm AND qqb -> nhq\\npfb XOR jmh -> z19\\nvvr AND crj -> mdm\\ny02 XOR x02 -> hvb\\nmkh OR qdw -> vsd\\nmdg XOR jss -> hmt\\nx36 AND y36 -> ssg\\ncsh OR smm -> prp\\ny20 AND x20 -> jqj\\ny29 XOR x29 -> ftt\\ny24 AND x24 -> krb\\nvsd XOR nmb -> z14\\nx07 XOR y07 -> fcs\\nx37 AND y37 -> kqm\\ny10 XOR x10 -> wvn\\nnhg XOR prp -> z15\\nwgm XOR rfv -> z36\\nngb OR krb -> vst\\nnww OR spj -> ctc\\nqvw AND kmk -> qfq\\nmcb XOR ftt -> z29\\nstt AND cmh -> mwj\\nprp AND nhg -> ckp\\ny12 XOR x12 -> trp\\ny23 AND x23 -> npr\\nnts OR wrc -> scv\\njtb XOR bkf -> z43\\nmbp AND scv -> tpm\\nx01 XOR y01 -> sgt\\nmcs OR jwh -> swp\\nmkq XOR bfq -> z28\\nfqh AND ctc -> rjt\\nrfw XOR qnw -> z35\\nx11 XOR y11 -> tgd\\nthv AND bdp -> rvq\\ny06 AND x06 -> jwh\\ny18 AND x18 -> jcr\\ntpm OR jqj -> pdc\\nstt XOR cmh -> z04\\nx01 AND y01 -> hqg\\nqfq OR spq -> trw\\nfkm XOR hvb -> z02\\nx41 XOR y41 -> dsb\\nx02 AND y02 -> rbm\\npdc XOR gbs -> z21\\nbfs OR rvq -> cmh\\nhdg AND qpj -> dhg\\nx31 XOR y31 -> fqh\\nvst AND tsw -> jgn\\ny17 XOR x17 -> pbr\\ny16 XOR x16 -> qpj\\nhmt OR jcr -> pfb\\ny15 AND x15 -> wbt\\nkvp XOR pcv -> z23\\nx39 XOR y39 -> fjp\\ny26 AND x26 -> jcb\\nx44 XOR y44 -> bcg\\nx42 AND y42 -> jfp\\ny07 AND x07 -> btb\\ntgd AND nvc -> jnn\\nnwj OR smg -> grt\\nfcs AND swp -> jdb\\nvgg OR pph -> z27\\ncrj XOR vvr -> z38\\ntrw AND wvn -> cvp\\ndcp OR dmk -> tfj\\nbdp XOR thv -> z03\\ny33 XOR x33 -> rqf\\nhkh OR rjt -> qhp\\ngbs AND pdc -> fff\\nsvq XOR tmk -> z22\\nx19 XOR y19 -> jmh\\ntfj AND bcg -> scp\\ny35 AND x35 -> kps\\nqfw OR pms -> mcb\\ny09 AND x09 -> spq\\nvsd AND nmb -> csh\\ny30 XOR x30 -> qrt\\nrjr XOR sgt -> z01\\nngq XOR cgm -> z37\\nrjr AND sgt -> cff\\ntbg OR jfp -> bkf\\nrgt AND dsb -> vtn\\nx27 AND y27 -> vgg\\njtb AND bkf -> dmk\\ny42 XOR x42 -> jkm\\nx28 AND y28 -> qfw\\nwmd OR bsk -> hhd\\nbng AND hsf -> tkf\\ny09 XOR x09 -> kmk\\nqhp XOR vbw -> z32\\nhcp OR jgn -> cbj\\ny12 AND x12 -> dbr\\ny00 AND x00 -> rjr\\ny38 XOR x38 -> crj\\ny41 AND x41 -> hrh\\ny29 AND x29 -> bsk\\ntkf OR fjp -> vbm\\nqrt XOR hhd -> z30\\ny25 AND x25 -> hcp\\nbfq AND mkq -> pms\\nx27 XOR y27 -> ntr']\n"
     ]
    }
   ],
   "source": [
    "# *** [IMPORT DATA] ***\n",
    "# NOTE: In the given puzzle input:\n",
    "# - 2 sections separated by an empty space (\\n\\n).\n",
    "# - First section: Contains a list of wires with EACH of their initial wire output values.\n",
    "# - Second section: Contains a list of boolean LOGIC gates, the *input* wires connected to EACH gate (AND, OR, XOR) and the *output* wire.\n",
    "# ====================================================================================================================\n",
    "# ! Open the file for reading mode (= default mode if the mode is not specified)\n",
    "file = open(\"../data/24_day-24_input.txt\", \"r\") \n",
    "\n",
    "# Read all the data in the file\n",
    "file_data = file.read().strip()\n",
    "\n",
    "# Split by empty space\n",
    "file_data = file_data.split(\"\\n\\n\")\n",
    "\n",
    "print(file_data)\n",
    "# ===================================================================================================================="
   ]
  },
  {
   "cell_type": "markdown",
   "metadata": {},
   "source": [
    "## Helper functions"
   ]
  },
  {
   "cell_type": "code",
   "execution_count": 56,
   "metadata": {},
   "outputs": [],
   "source": [
    "def simulate_gates(wire_values, gates): # THIS FUNCTION IS NOT COMPLETE !!! Still testing ... this code is annoying !!!\n",
    "    \"\"\"\n",
    "    Simulate the system of gates and wires.\n",
    "\n",
    "    Args:\n",
    "    - wire_values (dict): A dictionary of initial wire values.\n",
    "    - gates (list): A list of gate operations.\n",
    "\n",
    "    Returns:\n",
    "    - int: The decimal number output on the wires starting with z.\n",
    "    \"\"\"\n",
    "    # Create a dictionary to store the values of all wires\n",
    "    all_wires = wire_values.copy()\n",
    "\n",
    "    # Define the gate operations\n",
    "    gate_operations = {\n",
    "        'AND': lambda x, y: x & y,\n",
    "        'OR': lambda x, y: x | y,\n",
    "        'XOR': lambda x, y: x ^ y\n",
    "    }\n",
    "\n",
    "    ''' Simulate the gates '''\n",
    "    # - NOTE: Not ALL gates will be able to produce output wire values in this INITIAL simulation of calculating gate output values, since some input wires do not have initial values.\n",
    "    # - NOTE ALL input wires without initial input values are given a value of 'None' in this simulation.\n",
    "    # - NOTE: This simulation runs and populates the 'all_wires' dictionary list with initial output wire values (some with values = 'None') until ALL gate output values != None.\n",
    "    numPure = 0 # Int var to store count of the number of 'pure' gate output values (!= None).\n",
    "\n",
    "    #z_wires = [wire for wire in all_wires if wire.startswith('z')]\n",
    "    #print(\"z:\", len(z_wires))\n",
    "\n",
    "    while numPure < len(gates):\n",
    "        for gate in gates:\n",
    "            # Parse the gate operation\n",
    "            gate_parts = gate.split(\" \")\n",
    "            gate_operation = gate_parts[1]\n",
    "            input_wire1 = gate_parts[0]\n",
    "            input_wire2 = gate_parts[2]\n",
    "            output_wire = gate_parts[4]\n",
    "\n",
    "            # Get the values of the input wires\n",
    "            input_value1 = all_wires.get(input_wire1, None)\n",
    "            input_value2 = all_wires.get(input_wire2, None)\n",
    "\n",
    "            # IF in the CURRENT logic gate operation, input wire1 && input wire2's values are != 99\n",
    "            if input_value1 != None and input_value2 != None:\n",
    "                numPure += 1\n",
    "\n",
    "                # Perform the gate operation\n",
    "                output_value = gate_operations[gate_operation](input_value1, input_value2)\n",
    "\n",
    "                # Store the output value\n",
    "                all_wires[output_wire] = output_value\n",
    "            else:\n",
    "                all_wires[output_wire] = None\n",
    "\n",
    "        if numPure == len(gates): # while loop break condition\n",
    "            break\n",
    "        else:\n",
    "            numPure = 0 # reset\n",
    "\n",
    "    # Get the values of the wires starting with z\n",
    "    z_wires = [wire for wire in all_wires if wire.startswith('z')]\n",
    "    z_wires.sort()\n",
    "    #print(z_wires)\n",
    "\n",
    "    # Build the binary number string\n",
    "    decimal_number = ''\n",
    "\n",
    "    for wire in z_wires:\n",
    "        #print(wire, all_wires[wire])\n",
    "        decimal_number += str(all_wires[wire])\n",
    "\n",
    "    # ! Convert the binary number to decimal\n",
    "    # - NOTE: Reverse the built binary number string before converting to decimal\n",
    "    decimal_number = int(decimal_number[::-1], 2)\n",
    "\n",
    "    return decimal_number"
   ]
  },
  {
   "cell_type": "code",
   "execution_count": 57,
   "metadata": {},
   "outputs": [],
   "source": [
    "\n",
    "# ===================================================================================================================="
   ]
  },
  {
   "cell_type": "markdown",
   "metadata": {},
   "source": [
    "## Part 1"
   ]
  },
  {
   "cell_type": "code",
   "execution_count": 58,
   "metadata": {},
   "outputs": [
    {
     "name": "stdout",
     "output_type": "stream",
     "text": [
      "Decimal number of combined 'z' wire bits (PART 1): 51745744348272\n"
     ]
    }
   ],
   "source": [
    "# *** [PART 1] ***\n",
    "# ! PROBLEM: You and The Historians arrive at the edge of a large grove somewhere in the jungle. After the last incident, the Elves installed a small device that monitors the fruit. While The Historians search the grove, one of them asks if you can take a look at the monitoring device; apparently, it's been malfunctioning recently. The device seems to be trying to produce a number through some boolean LOGIC gates. EACH gate has 2 inputs and 1 output. The gates all operate on values that are either true (1) or false (0).\n",
    "# - AND: TRUE (1) if BOTH inputs = TRUE (1); else FALSE (0).\n",
    "# - OR: TRUE (1) if ANY input = TRUE (1); else FALSE (0).\n",
    "# - XOR: TRUE (1) if ONE input = TRUE (1); else FALSE (0) -> E.g. 1(0) XOR 1(0) = 0.\n",
    "# ! TODO: Ultimately, the system is trying to produce a number by combining the bits on ALL wires starting with 'z'. Simulate the system of gates and wires. What decimal number does it output from the combined bits of the output wires starting with 'z'?\n",
    "# ====================================================================================================================\n",
    "# ! Create a deep (independent) copy of the data, such that changes made to the copy do not affect the original data to still test/re-run in Part 1/2 with the correct INITIAL (and not modified) data\n",
    "# - NOTE: Not using a deep copy will modify the original data after running Part 1/2, therefore incorrect output will be calculated.\n",
    "logicGates = copy.deepcopy(file_data)\n",
    "\n",
    "arrInputWireValues = logicGates[0].split(\"\\n\")\n",
    "outputWireGates = logicGates[1].split(\"\\n\")\n",
    "\n",
    "# Convert list to dict\n",
    "dictInputWireValues = {}\n",
    "\n",
    "for item in arrInputWireValues:\n",
    "    key, value = item.split(': ')\n",
    "    dictInputWireValues[key] = int(value)\n",
    "\n",
    "# print(dictInputWireValues)\n",
    "\n",
    "decimalNumber = simulate_gates(dictInputWireValues, outputWireGates)\n",
    "\n",
    "# print(decimalNumber)\n",
    "\n",
    "print(\"Decimal number of combined 'z' wire bits (PART 1):\", decimalNumber)\n",
    "# ===================================================================================================================="
   ]
  },
  {
   "cell_type": "markdown",
   "metadata": {},
   "source": [
    "## Part 2"
   ]
  },
  {
   "cell_type": "code",
   "execution_count": null,
   "metadata": {},
   "outputs": [],
   "source": [
    "# *** [PART 2] ***\n",
    "# ! PROBLEM: xxx add notes here ...\n",
    "# ! TODO: xxx\n",
    "#====================================================================================================================\n",
    "# ! Create a deep (independent) copy of the data, such that changes made to the copy do not affect the original data to still test/re-run Part in 1/2 with the correct INITIAL (and not modified) data\n",
    "# - NOTE: Not using a deep copy will modify the original data after running Part 1/2, therefore incorrect output will be calculated.\n",
    "var = copy.deepcopy(file_data)\n",
    "\n"
   ]
  },
  {
   "cell_type": "code",
   "execution_count": null,
   "metadata": {},
   "outputs": [],
   "source": []
  }
 ],
 "metadata": {
  "kernelspec": {
   "display_name": "base",
   "language": "python",
   "name": "python3"
  },
  "language_info": {
   "codemirror_mode": {
    "name": "ipython",
    "version": 3
   },
   "file_extension": ".py",
   "mimetype": "text/x-python",
   "name": "python",
   "nbconvert_exporter": "python",
   "pygments_lexer": "ipython3",
   "version": "3.9.7"
  }
 },
 "nbformat": 4,
 "nbformat_minor": 2
}
