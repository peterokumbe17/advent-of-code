{
 "cells": [
  {
   "cell_type": "markdown",
   "metadata": {},
   "source": [
    "# Day 19: Linen Layout"
   ]
  },
  {
   "cell_type": "markdown",
   "metadata": {},
   "source": [
    "## Import libraries"
   ]
  },
  {
   "cell_type": "code",
   "execution_count": 4,
   "metadata": {},
   "outputs": [],
   "source": [
    "import copy\n",
    "# from functools import lru_cache"
   ]
  },
  {
   "cell_type": "markdown",
   "metadata": {},
   "source": [
    "## Import data"
   ]
  },
  {
   "cell_type": "code",
   "execution_count": 27,
   "metadata": {},
   "outputs": [
    {
     "name": "stdout",
     "output_type": "stream",
     "text": [
      "['guw, wg, gwuw, wwb, bbu, rug, grw, gubw, buwr, rgrbb, grwg, ubgwgw, wug, rgrbg, wb, uwubr, uggbubg, uuru, bwwbgwr, brwggrgg, urbgrr, wrrgu, bgr, rb, rgw, rwgw, wruub, rbrw, rrwb, brbw, gbbr, gub, bbg, uwwgr, wbbwwrr, rrg, rwwu, wbwg, bb, gg, rrbbg, wgur, rgrwru, uwgbuw, rbu, bwg, urbuug, wrubbb, uwrg, rrgbwgb, wwwwbg, wrw, bwbb, wwr, g, wggw, bwrbg, wuwrubu, wbrrwgrr, uwgguggw, bwrw, wwrg, wbwuurb, urg, gwrgr, gwr, rwrrgb, wuu, gru, uwuubgr, urwwuuw, uub, bgw, ruwugu, wggrwbu, ugu, uwwguu, uugg, guu, rbuwbgrw, brrg, rgu, bgrgw, wwg, rgggr, bug, uww, wrrw, rbw, wwuub, ww, bg, rbbrurg, wuw, wrrruuwb, wbrrbww, buwwr, urwr, wwug, rrb, wbgg, rub, bwurw, wwwbrr, rgr, ugrw, uuwrg, uwrgw, rwu, grbb, gurrgw, ggbrrw, ubrw, ubwrbw, w, ugrwb, wrwu, bwrggu, uwg, wr, rrwubu, wwubgu, wbr, wrrrrb, ug, wrbg, wuwb, gbrg, brg, rrbgu, bbwr, wbb, buwu, rw, bw, grrwg, brbg, wrrwww, bgugwr, bubw, brugugw, urgw, gwru, wrbu, r, gbgbu, wrrr, wruwurbu, buruur, ubg, rbbbbb, rrw, rrrr, gugrgb, wgbbbww, brb, gbg, rggu, gugbrrwu, ggu, wrg, urbw, rbr, guggg, ruugur, bbr, bgu, ubw, gbgugb, uwrguug, wbwwb, rwwb, uuub, rwwwg, wbrugrug, ggg, bub, uwr, ubugrw, urru, wgugu, ggubuuug, bur, gwgur, urgrubub, rgbb, ugb, rgurru, wbwu, bgg, rwr, gggug, rur, rwrgb, uu, uwu, grb, wrguw, wuwu, rugb, rbugb, grrug, bgwrw, buuggru, b, urwbbrb, rbrubr, rgb, wbbb, rrr, ruu, brbrg, uwbwwu, brw, wbuugwb, gbbw, gbwu, ugr, uwb, br, rr, wbw, rrrbb, gwwrugb, uuw, wwuuwru, grrbg, rwwubwb, uuurbrw, gbu, wgrbbwu, ggw, rwbr, urwuu, urggw, ubrrru, gugbgbg, rgwb, rurw, ugrb, wwwgr, gbbubuu, rwbbg, bgbruu, rwgbu, wbgr, wrb, bubbu, urwg, urugw, rwg, wgbbbw, gwggggu, urb, bubb, bubruw, ruwb, bguu, wbggb, gww, rrwgr, buuw, gbgbgg, rru, gbrw, gwuru, wwwwwbr, gbru, wggrr, wwu, uug, rrwbwg, uurw, bbgbbb, gwu, uubg, gbb, buurrbg, www, rwwuu, ggbbr, gbrwugg, rgwg, wubbu, gubbgw, ub, ggugr, bruw, bgbbbbb, bbrb, bwbgrur, gr, gur, ubu, rbrb, gwbrrb, ruwwuuug, brr, bruu, uur, bwgb, wub, bwb, bbrgrgwb, gwwuw, wur, wguw, gwbugbg, gbbbbwr, ururb, uw, urrg, uwuw, wbg, buug, wgwbr, ruwr, ru, gbr, ruw, wgrwr, urr, ugbwuwgw, bggrgw, wru, ggurbw, brguwrru, gbwb, rwubr, grurgr, gwruu, rrgg, wuwg, rg, rrwbb, ubbrwg, rbg, bwr, ggr, gwbwu, wuurrw, wbbburgg, brgbgb, bgrwg, urgb, wuubb, ugg, wbrgwu, rbuurbuw, wgr, rgrr, grrwuw, uugu, grg, rbrrwbww, burgg, ubrur, gwwgug, wrwgbru, rbgr, gbw, bgbbb, wgb, bgwub, guubrg, uru, ubgr, uuggg, rwb, bwbg, bwu, gug, uugrugw, rgww, wbbgrr, bgwwurw, wgu, bubu, wrwwrw, uuwgbw, rrrwu, ruuwww, bu, wu, rbggbg, bbubrrw, urwgww, rrgwr, guwgrrwg, bbb, gwg, rwwg, gguu, bwgwrg, wruu, grbw, wwgb, buurw, wgw, gwb, wbugu, urwu, ggb, buuuw, wbggr, wgwgw, ubr, ggur, bgb, brggr, bwbrr, bbbubw, uuu, grgb, wgwww, buggrrg, grr, ggurbu, wbu, rggbbur, buu, brgrgbg, guurgwbb, brubru, bwuub, rbrru, gwgwb, gb, wruw, bww, buw, wrr, ubgg, rrugu, rbb, gwrw, wbwbbwb, ugw, ubb, bwwuu, gw, bru, bugwr, wwburw, gwwr, wrugrugw, brrwbw', 'urwwuwuwbbuugugggrubwrbruwbrwuwgrgbuurrrurbbrrr\\ngbrgrgbwgrwbguuuurrggwwrrrwbwwrrbugugugrrugugbrgbbbbgg\\nurwbbwbrwgrrwubrbwwgwwrbgwuuugubgubggrgbgu\\nwrwuwubuwwggurwgruurgrububuuubbuuwuwbrrrrwgwrb\\nuguwurbruwrwuwwwuwbugrbwwburwguruugwrbgwwbgruurbububbgwgub\\nrrugwubgurgrrbgwrbggbrbwurbrrrwugurrrwrrwbwg\\nuwgguuwrggguwrwrbgrugrrgbugrggwrbgbwburbugguwub\\nwuwwurwbuwbubwgrugrbwuwrrwugwwgrwguurwbruwrgbwgb\\nurwwwwgrurrrurbwurrguuubwrubwgbwgubwwbugrwbrbgbgwwrbbruuugb\\nubrrwrrubwrguwgwruwbgwwrwbbwgwbuwrwubrubwruw\\nwbggwrrugruubwugwbruwbuwrggrrrgbwbwguguwbgbgggb\\nbbburbgwrrubggbrbwruburgwbgbrgurrrrrwgubgrbwwgbuugbrrbbr\\nbrwrgwgrbbwbgurbuwuururwgbbguwbgwgrgrbgbguwuubbbwggruwru\\nbrgbbuwwbrbuubgwgrrugurwwwguurbrrgrgbwbrbrbbuuruuwgrbbug\\nwbuwbubrgwbguubrwwwbbbgubgwbbrrbugwrbbuurwrgbrwru\\nwgggbbgrbuwgwrugruggurrrrwrrbbuuggugwgrwguugbrwbwrguwrwu\\nrbbuwbbwwwuwuwgwuburuugwruuwbbrubruruwbwgbbwguurrrrrwgw\\nurwwguuwbugwbburwwrurbwbwgwgbuburwbwrwgwwugrwurwbgg\\nurwbrgwrgrbwgburugrwbwuggwwruuruuurruuwbbuurg\\ngbwwuugwgwbrrgbuggbubrburrgbgbgwrbubuurwgwwrrwurwuuww\\ngugugwwbrwwbrwrruburuurrrgwbrrwgrrwurbwwgurgrgrubbugugg\\ngwgwbuggggubbrgbbbbgrgggbggguwbrgbwguwubruw\\nurwwbruruwwgbubuubbwruwbrbbwurwgwbrrbubwbbggwguw\\nurwbgrguubuwrrggwbwubrgbwwbuuurwrwgrrrwurbugbwgruggrwwrbwgg\\ngwwwbruwrwrurgwuuwburggbwubugwuubrrburbbugurruurbuw\\nurwbrrwbgguuuguruugwbgggwuuubbuwgguggwubbuwrgguuuubwgbw\\nubrruuurgwwwrgugburuuguwrbwugrrgbruubwwgbwgrubbguuruuu\\nurwbgrggugbwbuuggggbwwbuuuwrugwurguwurugwgbgbwwwugbrrgbrurru\\nwugwrubbwgbrubuwwwggwwbubuuwrrbrgwuwbrbuuggu\\ngruwwrwbgrruurbwbugwurwwrrwwubuuubrggbbbgrbguu\\nwguggbubuurwwrrguugurwwwggrbuububgbrrwubbugur\\ngrwugbwgrrgrwgwrwurbbrbuwugwgwbugrgwbgurggwbrbru\\nurwwwuggbrwwburggbbwrrurgguwwgruwgwruwrwwwurgguruuugwrgug\\nugugwbggwggbguwwgubrwrggubbrrgubbuggwwrbubgbwbwubwwwbbbw\\nurwbubwwurrwugbgwbrbgubbguruwrrbrgubruwwrggbwburwbbbruw\\nurwbuwwwgrwubrurburbrwuwggwuguuwruwuugwrgggggrwurugrwbbrgrww\\nurwwrgrgugwwgrggwwgrgguggbbuguguwgbrubwgwbrugwgwwggruuuw\\nwbugbrwggrwwbwrurggrguururrgbuwrrbugwbugbwwbbbbbrr\\nurwwwrwgrruwwgbbrgrbbgggugbrwrgwrubuurrrgbwrrrbb\\nburwbwbbuwrwwrbbgrbgbbggggbwuwbbubwbrbbuwubbbbru\\nurwbbrrbbwbgurgbbgubugrrbgggbbbwbubgbggugwuuwrwbgwbw\\nurwwrruggbgbwbrubguubbruggbugrbgubrwwrwubwruwwb\\nurwwbugwuwuburuwbubuguwubgggbbbgwgugrbrrr\\nbbruwgwrwugwugrrrbwbrrugbrgubwwwggwgwgwuwubuugwgruuurw\\nurwwgguurwgbuuwgubwbrrurgwwrbwubwuugrwrugwuwuwwwgwuru\\nurwwrubugbbwbgrugwwugwwbbuwrwrwuwuuuwwguggwrwbwrrbrb\\nurwbgugrgwgwubbwuwrwuuuuwbggwugbubwwrbwrbggwwgu\\nurwbwrgbwgrwgbbbgggrurrwrggubrwububbbugwbrbu\\nugrwwbbuurwrwguugrrrrurbwbgubbruuggrgbgruugwwg\\nubugbbuwwrwugwwbgurbwgruguubwrwbgbgwwubuwgubwubggrguguu\\nurwbuwrgwrwbwwbbrwwbwbrwuugwuuwugrrrwwurbbrgrugrr\\nurwwrrgbrwwrgwrgubbguurgwbbubburruwgrgbgguwuruugrgbwrbwur\\nbburrwgugwuuwwgwwrruuguruwwrgbbbgrrrugururrrrbugg\\nrrrugwwuurggrururggwrwwuwugubrwbrbwubgbwwwwggwburwbruw\\nrrrgwguwwwbbbgubbuuuuwwwwrbgwgbbggguruuubwwggubggrr\\nwgrggwwrwwbwuurrbgwurguwgburubgguugwrwgwgggbbbbgg\\nrrrrurrwuwgwuguwubwgguubbggbgrrggbwgguurgburbwgwruguuw\\nuubrwrgguwuuuwbrwwbbuurgrwrbgggbugwuwwrbugubwgw\\nurwwbugwrbwbrrgbrrbbgwwrbubrgubrbgggbrgbrgwg\\nuurgbggrgbgbguuwggrburwrgggrbrbgwuubggrwrbbgububggggrrbuwb\\nugrgwggrbruwuguwwggrwbrugrugwwgbwgwbrbgrrubggrbguuw\\nurwbwurgbuuurbbwuuurggbrrgbbwruubuwwgbwbgbrbbrg\\nurwwgrugrwburrbrgbgwrrgrrbwugbrwbuwwgwwwbrww\\nurwwuwrrruuwbgbbuggguuuwgruruwgrbbgugbbwwggbgg\\ngwgbwurgbguugwguuwubbgggrbgbbugugwuguwbruuwggrwgwrbgurwubw\\nbwbgbrggguugururrrubwgwrubrgwbwrwuugbbguuurgbrggbrw\\nrbbrwrwgrbuugwwgbbbwbbwwbuuugggurggrurwgurww\\nurwbuburrgwwurugbuuubrwurbuwuguwrbuwbbbgwugru\\ngrbrrwbwwwguwgbwbwgwbwurgwruubbwgbbruurrbwwubuu\\ngbbrrrggbgurggbbggbgbgubbwbbwbbbbbuugrwbwwrwu\\nurwwbubrwrggbbwrwurrubruuwrugrugwwugwbwrrrw\\nrbggbwwuguruwbubwuugbguwbruwurrbrurrbgbbbwwrbrbrrbwgrr\\nurwbbwrrrwwrbrugurgrbuwwggggurugwurubgwwuuguu\\nggwrburruwbbrgurrrrubugbgrbrruuwrugubbguru\\nurwwbwwgwuruggrbgbwwbrwurbgbgbbbgrbbgburwbgguwrwbb\\nuurwurbwbrwwugwwbrwggruubbuuwrwubbrubwgwuuuwbbubbrwgw\\nuugwgurwrubwwrguubgbrbrburrwgubbruwuguwgggruuugbub\\nurwbbrwubwgwbrwwurbggbubrgubbbgrbruggrbrubgggugbwwguwwwbu\\nwwbgrrgguggurwbbwbrwrgbrubbrwuubwgggbuggrgbwbgwbr\\nurwwburrgbgbrwgburgrgbbgbgrbrbbbrgrgwwbgr\\nurwwrbubwuwwguwguwgguggwbbrgrrwgugwwwrgbwruwbuwuwgurwwwrr\\nurwwrwguuwgguwbgrwguurbbrrwbbgruwrwwrbrurbbbu\\nurgbwwbburgwbuwgbrggbrrbrrubugbuuururbwbrubwuubbwbwgwuuw\\nurwbwgrbrrbubbwwbgwrrbwgwwruubwgburwgrgbgr\\nwbgwubuwrbbbwuggbgwwrubwggbbrrbbgbrgubugbrbugguwgugbggu\\nuurbrwugbwwgrugbwubrwrburwruwurbubrgbgugwbwgggu\\nrwwwruurbuuwrwrwbggrwuuguuubwguuuggguruuwurruwuggrbg\\nrrburwgbbbbwgbrgbwrgubguuuuruwruurgugwgrbgbrurbgbubugrg\\nurwbrbrruwrbwbuwugwwgguwbwrburgurrrbggugbwwwgwwwguwb\\nurwbwwbuuwwuurbwgggbwrrrwgbuuuwuggbbubbgwbrb\\nugrrgggwbburuwubbrrrwbbgbgbggrwurbgwruguugwrwwuubrbwu\\nrbbuwggrgwbrurugwwugbgrwwuwrubuwgrgbbubwuwbrwrgru\\nurwbrgurbubrrwrbrrbbrwbwrurbbrgwruuwbuuurgwrgugwu\\nurwwuugurruugwuwruwrrgbbuugwgrguwggrubbgrwguu\\nwuwurbuwuwwwrwbrrrgwwwurgrugrrwuuugwrurgrurwwbg\\nurwwgwbbgbbuwbbwwgbgwrwubwbgrbrgbuguuwgurrrrwgbggw\\nurwbbuubbwrrbugbrrwugwbwrwwgugububrgrgbwr\\ngrbggwwrgwrwbuwubgrbbbggwgrwbrbrwuwgburrrbuwwbwgu\\nbbbuwrrwruggrruurgrgwwgurgurgubwruurbugrrbuguu\\nurwbbrrrbwburruggbrrbwguwwwuwuwrgurbwubuubruruggguuuu\\nwrrbrwwuruurbwwurrggwgrgruwrruurwuwrwgrwuwrgwgu\\nbrwuwuurwbubwwrgggugggurbrruwgbggbbbgrurbgbwggrrwwww\\nrwwgbguguwgguggwguuuurgggwuwugwrgwbbbubgrbrbrwbrbugbbr\\nrwruubwbgwuwwbguwwggugguugurbgwwbbgrugwbbruubuugg\\nurwwgubugwwurgggwubwuubwrguwgrrwgwuwrbubguuwburrwbwbgb\\nruuwgwbbrugwuubgbwgbbburwwwrbuurbuwrbwrugwgrbbrbrrb\\nwugbruugugwrbrwubrwrwuwrbgbrggwbrubwuwbbuubwgr\\nurwwbwgrgurwrrgwwrubwwwbbbuwwbgbbgburrwbgwgrwgggugbbbwbwbrg\\ngwbwurbgwruwwuugwbwbwrwbgrrbwrbuuwwrbwrguwg\\nurwbubbbguwwggwbwwgrburgwwbgurggwguwgugbrrwuruwruwubrrwrwrg\\nurwbbuwwrggrbwurwrubwwwgrubggrbwgbwgggwrubbbggubuwbrgwgg\\nurwburwuwuuwrwrbggruruugrbwuubruwrgwrwwbrgbgbuwbwbwwru\\nurwwuuuwwugbrgugbgbubrwwwubbwrrrrwgwbgrruwrugwruwr\\nggugwbwrwwurgrbrrurwbgrbrwrbuuuguurrrgrbuwwuw\\nurwwgwwggrwgbwrwwgrrrguggrgwwwbgugrggwurrrguwuubbrugbbbw\\ngwgwuugbggwgbgwrrwbwubrbuurbwbubrubbruwgbrwbrgubgbrug\\ngggwrbuwuwrbwgwubuuwurgwwrwwbrrwbgbbbgbgwwgbwrrgbrggwrwu\\nurwwrgwruwwgggwwrbwgrubgububwurburuwgrwbbwwrg\\nurwwwwwbgbubrwrurwgwuwugrugrbwurgrrbgwwbbgrrgbgggurbuu\\nurwwgrububwbgwuwuwggubuuugubwbgrbuggbbgbbrggurugwu\\ngwbrwwbwwrbrwbbuurruurwwgwbrrbrwrurbbgbwrgrrgwb\\nurwbbbuwubwrgurrgburugurubbgrwrbrbrrbgrbrgguwbuwwb\\nurwwgbugbgrwrwubbgwrwwbwggwbuwbugbrrwrurgubgwugrgg\\nurwbwugwgbbuwwbwuubbrwbrgwurubrgbruugwugugwbbgwgrggruwurgbww\\ngbbwuggbrwuugbgwbggbrbrwbrwbrgrburbbguurrgbbrrgwgu\\nurwwurgwurrugbgbbuurrrrbgrbwrgbgrrrbugrrub\\nbugwgrururbbgurgwrwubrgggubwwgwrgbwrbruggwggbubugbbrgwgbb\\nuguwgrrbubbrurwwrwgubbgbgurwrrwgrgwuugbrgbgugbgguruwgr\\nurwwwgbwwugrugugrbugrbrbbburugbrwurwrwwrrrbbuu\\nurgurwwbbrbbugruguburrubbrubwwubggwwrrrrrgbggrbuwwubb\\nwbggurbguuububwrrrwrwbrrgbrbbbbbbburwurwgwwuuuwuubruu\\nwwrwgbbwbggbwwrbbbggrbbbrwgbgwuuwwrgrruguugrbguuuwb\\nuwubugbrbguurwrwbrgwbggbbgwugwuwbrwbwbgrwrrrgrg\\nrruuwbugrwugrggrwwbbwubwbbwuuuguwrgwwubguwugwwwwrgrbr\\nurwwuwbruuwurururruggwggruwwrguurrgwwrwwbw\\nurwwgbrwrubbuuburuwrubwbburuwgwburwgrubwburwrwb\\nbrbuwbuggguuuwgrwubbuurwrgwwrbbugruwwuubrugg\\nurwwubbuurrgwbubguugwbrwbggrbrggbugwrgugwgwuwuugwuwubuuubggr\\nurwbwgbgurbwrbgurbrrbwwgubbrugwbwrgwuburwbuggwwb\\nurwwugrggrbrbguwuubwbbwgbbwbgbuubrggburgwrbbbuuur\\nurwwrruurwwuuuguguuwwgguuburgurgwwuwuuuwbwbwurbuugrw\\nubbuguggwbwwwubrwbgurguwrubgrubrrrrwbrwugwbgbrrwugwub\\nguwgrbrrgrgruuwgwruuwwrrrwbggwwrrwgbuwuwrrgburwbrgrgwug\\nurwbrrugubbuugbbrugwrurrwuwwgrwgrruwwbguuwrwrurgrg\\nwgbrwuugwwurgbgbguubrwrwuwrbbbuuwbbbwbgbrrwwr\\ngrgbgggrbuurgwrggbggrwggrrgggwrurrwrrrwrgwbgrruuwbbruubwru\\nggrurwwbgwwgrwgrggrwgwugbwuwgwbbgrrwgrrgurrggubugwg\\nrbrbbbbwbugggubrruwwwwwgrgbrrwwuwgwuwguwguubg\\nurwwuwwuuubruggbwbbgrggrwgbwbuubuwwrgrbugbwrwwugubrgw\\nrurwwbbuuubbwrrburgwbgrrgwggurwuggbuggrbgubuubwbw\\nurwwruuwbuwrurbbwuguurwgrwgbgggbgwurwgubwuwwrurbugugrb\\nrrbbggwwguuruwrrwrbbwggbrwggrbbgrwbggrwgbubrg\\nwwuuwgbubwbuwgururururububrurgwgbwbwuuuuggbg\\nurwbwubuwggwbwgwrbrrwgrwruwwuuguggwwwwbubwwr\\nbbrwurwrugwwwruwwgwurrbgruurbrruggwrbuwbgrwggrugwrbb\\nurwwbuuwuruubwurrwbbubrurguwgbubrbbwwrrrrwbbguwuru\\nuwbrbrgrgbuurrrugbrgbrgrrrbwrrbrbggugggwuwgubrwu\\nggruwuuwrugbwrgwbbwrwwbwwwgwwwbrwbrbubwgbgwrb\\nbuwrwurbwrrurrbbgrrwbwwbrgguwgggrgrwbruubgwwwwbrbgwrgg\\nurwwbgwugubburgrwwwbbrgrrrburbgbrgugbwbrwru\\nurwbrgubrurrrbwgwggguggugbggguuwrbrbbbbbr\\nbuurwwrrwrwrrruuwbwbruwgrwuwurrrwwuwbuwrguggubbwb\\ngrbrbbugrgurggbrbbgbgggubgruuguugwwbrwgrbb\\nrgrugrwgrbwrrggwubbwrgrggbugbugwgburugrrgwbuugrr\\nuwruuwbwwwuwrwgbwrbwugururrbbbgwggrurbbgwwgrbbuuu\\nguugwbugbrrrbrbggbrgggubrbbuuuwgwgugwgbwubbruwurrgwrug\\nurwbgbuuuurgbruguwwgurbrgubbugwwwwggrrugwbrrgwuwwr\\nuwurwgrubugrguwbwgwwwrurrbwwururwuuuruwgggwgubguwrbrrrbrg\\nurwbbbrgrggrrgwrgbbrgwurgwuurgwrggwgubbbuuwbrrwguuwwwurgw\\nwuwrgguubburbbbrurgwurbbgwruubuggugrrwwwbwbrwrgbuuw\\ngbrwgurwubgrubgrbbbgrgrrurrggbbgrrubrguurwgb\\nrbbuwurgrwrwbwbrugurgburgwrwgrbgrgugrggwbgubrrggr\\nwwwbbgwrwwwwbwwbbbwuwuuggrgruwbbwgrubggwugrbuuurwrbwgbgwrg\\ngwwbubbrugwgrwwbbruwugwrbwwrwbubggrgugwgwgguugrrrbu\\nbggurwgrguwgrwuggrrwubugbugrurwbrgruwwwrbubwu\\nurwbgwubgbrbrwbbrubwwbrgggwgbwrrbrbwuwwgugruugru\\nrgbuuwbuuwrgwwbuwbbrgrugwburbwuubwbbwwuwggrurugrurbrwrgrgr\\nrgbggbwgwrwbwwgrbbuwgwgrbbgrgwurggwgrwgbuwwwwwwwwbg\\nurwbguwugwwrugugwwrbubbbgbuwgwbbwrgwggbbwgguwbwggrrguuuwwrgu\\nwuuuubruubgugbwwrwubrwrwurbuurwrbbwbgrubrbuuubrwwbgwrbwb\\nubgwububwwrrruwbuuururbuwwrbwwbbwwubrrwbrwgubbwbgbr\\nrugbrbrwrwuwurgurrrrwbbuurbgggbwurbwggbubr\\nurwwbrrwgrrgrgbuggwwgbruwbuguubbbwubrwrugr\\nwbbugwguuubgbwuwwgrbrwrbgubruugrburuggugwbb\\nubgurggbgbrbbuwrwggwrurgbuwrruggurgubwgwruwgub\\nurwwgruggbwgwbbbuubwggbwubbgrwguguwwwbbrgwugwgbgugwggb\\nurwwuuurbuurbuwurbruuubggwwugwuguugbwuuurw\\nurwwbuurugwrwuwrubwgbrrwubgwuuugbubuwgbbrgrgwwubwrbwwgrbur\\nurwwburrwrurwwbgbrubrrrwrrbruubgugwwgwwuubgburwg\\nurwbbbbgwuuwugwbbugrggbgurgurwrugrgruubgwuwurwrgb\\nurwwwwrburwggggbuwurrrbrurrrwwrbrgburugwuuubbggrrburubgubr\\nrugbgguguuuwwbrgbbbguubwwurbgbgrwuguwwrbruuww\\nurwbbuurrbuggbrbrrwuugurruuwububrbuuwuwwgwbwwgwugb\\ngwwrbgwbrrbrrguwrugbgrurugbuwbggrggrrggrubwwbbgrwrgguuguu\\nurwwurburrrbugwubuubwbgbuggrgggguubwbrugrugbrgwbruwuwu\\nuruurwbbbubrguuuwbrbbbwwwwrbbbuurrrwwrugrwggwuurw\\nurwwbgrgguwububggbruwggwrubwrugwururrrgugwg\\ngwwubbrgrgwbggbwwuugbrrbwbrgwbwrwuuggbbbubgwugwrrrgrugbgbw\\nurwwbgbburwbbrgrgwbwuwbgrrgbruubugbbrggurrgggburggg\\nurwwwgubruwrrurrgugbbbrrrbubgrwrbubwgwuwwbbgwrr\\nurwwgbbgbrrbugwguwubgbbbwwwgugrbgwurbrurrwbrbruwrb\\nrbrbbrwuurrwgrrrrgwwuugbwruuguuwubbwgubuuurgrbuuuwruuwggbu\\nrgwbwgwbrbgbuguuuwwruwubbrugbrwwggurugrbwwrwgrbwbwrgbrbr\\nrrwbrwgbubgrbwwgbrbrwrwwrgwbbrrgurrbwwrrbb\\nurwbgwrwrrgwgrrubbuwwbggwbwgwurgururgrgbggrwwg\\nurwwruuwgwgbgrrrurggbgguuururbgggubgwgbbgbrgwgbbuwguurrbu\\nurwwbrbuwbgrwwgrggbbrwwugguurggubwwrbgrwuubgubggrgugrr\\nbwuburrgwubugbbrugrurwubbwbwubgwbrgugwrwrugbuwubugruuugwr\\nurwbugwrbrggwbrbgwwrrwbbwuwbwwuugbwbwwrrrgubwubuurrwbgrwbuu\\nurwbburgbruurwubwbwrguwbbwwrwwwgguwgwrrwgurrbwrurburg\\nruwbbubrwggwuuwruugbgbbgbbwbwubgguuggwuwwrugwubwrr\\nwgrwbbrgrbwgurruggbbgbwruggwgruwgurgrbbwbuwwrwrububg\\nurwbwbubwuwrbwugbgbbuwbruuugrububwbbrrgburgwgbwruubugruuwrub\\nubgwruwrubwgrrbugbrubrggbuguwbbuwwrbrbbwgrgrurbwuw\\nurwwrbwwuwbuubggubwugrgrbrrwbwwwrggwwgwuwburuubbrgwwrbbuwg\\nwbbgwbggwwubrbwgbggruububggwruwbbwbwbwgrwurgwgrggbug\\nwrbbbgrurrrrwbbgrwgurgbbgguwuwwwgrwbbburggr\\nubbgggbrgurbguwgbbwubbgruugguubrwuggbrrwrbrbwgggwbubuwrwbb\\nwggugrruubwwwgubrwbrrubbuwggugrwgubgrgbrguugwgbggbwguw\\ngurgwwuububwrbbggguubuggggurrbrbbbrwgwugruwburbuugwbwurbrb\\nurwwbwurburuwwbgrbbbrurgggrrurwwugwubgwbuuwuwbrbbuguwbrwrbwb\\nurwbwrbbwbwgbgubwgurwugbwguggubuwuwgbuburwurbgwbuggurrgrb\\nurwwruuguggwbbuubuwwrrggbwururgwruugguwbuggurgbbwurwgubrrgww\\nurbrwwbwbbrwrgubugrwrbwgbubggbubwgubrbwgburwbrwb\\nurwwwwubwbbbrubuwrbrwubbbubbgbuwuwubgrbbbgrrrrgrbgb\\nbwubruwrwrrgbugguwgrguwbwrrbwbuggbwuguuwgguwgrgrbrgwbwbu\\nurwwbgrwwruburbbgbrbuugbrguwrruwrwrruguuggbuwuuuur\\nbugwwbwuuruwbwurgrwrbguurgbuburuurbwrwubrwuwbgg\\nrbuwubburguugrubbwrgggrrrwbwubgwgrruggbguububuguugwrgwuwwr\\nbgrguwgbwbubrrwbrwwwbgrbwwugrrwbrgbggurrbrbugurbuwbgb\\nurwburggbwbbubwubgbgrguwruwurwwbbrruwgrrbgrugg\\nuuuuwbbwguugrwrgrbuuwwwubrbwrurbbrubbbwubrwbwwrwbgbrgurg\\nwgbuubgggbbrurwgrrugwgrggbbuuwgrbrbwwrgwrwwgbwbbggbuwwgwgr\\ngubwwwubwbbrurgbguwurwburrrwbwgubrubgrbrrbuuwbb\\nrubbrgbuburguugburrubbuurugbgwguwuwbbbwrrbu\\nbbrugrrubwgrrrwrwuuwruugbbuwbgbuwbggubrbbgrbuuwurrgbuwgrr\\nuuburwwwurwbrwbrbwurbgubwgwguurbwgwbrbwugwrwbrbbuwruw\\nurwbgwwgbubbgbrgrwuwbrguwguwwbrwurwubwrgub\\nurwbgwuruburuwbggguggrwwgbrbgbuugbwuwgwwb\\nwuwwugwrbwrgrgrwuuubbgugwggruwwgguuuwbrugbwb\\nbguurgwwbrgwgbrgwgugwbgrwguguuurwrrurwggrw\\ngrrbuubwuuubuugururuugbrggrgugwrwrrrgbwbrwrwwrbug\\nwbrbgwuubbuwrbrwbwggurbgbruguggurwgbbrburwbrbubbbgwwbugw\\nrwrbwwgrruwwugwwbwrguurrbrbgggwwbrbrbgwwurgruwwgrbuwugw\\nurwwbbwgbwbrbuuwugbbwrrbggugbgrgrguwwugubggbrwwwubggw\\nurwbwbruuwbguwrbguwbbbwubrgrgururbgbrrwbgurwgwrrbbbrwbuuu\\nurwbwwwurggrbguurwbrrrrwuwgubbwgugggurrbuubwruwbwugggw\\nwgrbbwbuwgwguwrubggrrruugurrbguruuubgbuwrgbgggbbggrgrwuuu\\nwwwwuuwgruubbuwrwbgbggwuububbrubwruubrrgbr\\nurwbwggwbwgrbwwguuwbwrrgbgrbubruubwbgbuugubbrwgguguggb\\nrwwuurbubwurbbubwbggwugruwruugrggbwrugrbrbwrbgrwurwguguu\\nurwwwgwwwgrwrgggwrrbwbuuwuuuugurbbrrgruurbbbrbuurgbguwbgwr\\nurwwgrbuuuugruwgwbrgwrurwbgbgbguurgbwugb\\nwrguwbrrgrwbugbbbggrgbgwgbrwrugwruurububbwwwbwbwgru\\nbwbbuuwurubrwgrubwgbbbwgbggubgrrgbwuuuwuurgrrbr\\nbbgbruwbubwwubbwuwbuuubwruguwwgwbgwbruurrwwgguwgrg\\nwuwwgrrrwuubbugwwwbruwbwbwubuwbwugggbwwuururwuw\\nurwbwbgbbrwbuugwbwwggbbgrrurgrbbbuggwwuu\\nurwwwugwwgbggwwrbgbwguuuuugurwbgbrrbgbwrwbggwwbgrg\\nbbwwgwrwrwwbwrubuuburuwggwwwbbubbuwrbbuwwburrrubbwrbg\\nguubburuwrbbgwgrbbguurrbwgbguugrrrwrrbrubr\\nurwwruwggrubrrbwbwwwguubbbwrrbbwwrugrwbbwrrbugwuggguugbbbuw\\nrwgwrwggugrrwbgbuugrurubwwbwwubgggbbgbgggwrrgugrbw\\ngggugbrwbguwguwbrbgbwwwwgrgbggwrwgbruggrubwgr\\nurwwwguubuguwwurruuwwbwuwubuururugggugbubwrbbggwrugbrruuwbuw\\nurwwgwguwrwgwwwbwrubgwrrwbbbbbbrbubbruuwwguwrwwgr\\nuwgguwwrbbwbgubwwbbgbgbbbubuuugwbgrbgwguwwbbu\\nrrrubgrwuubrgugugrrubgggwwuuwurbwuwwrrrgwrguwurgwggrrrbb\\ngrgbgubbbbrurwbbbgrgwurrwgrwuwwbwgwgwubwbrgb\\nbwurwbuggwwwwwugbuubbbbrgurrwwbuwgrggugubbwgwrurrgwbwuuubr\\nurburwbbwbbuwubrwuwwggbrurwwrrwgbwwwugrrruuuug\\nrgurwwuwbbruubrbuggrrbubugwggwwgbrgbbwggru\\nurgurwbbuwuwbbbbrgwruubuwrbbwuubwuubugbrgwguwbw\\nurwbwgggbrgguubgbruwwurrgruubbubwuwgbbbrgwur\\nurwbbwbgrwgubgbwuwrururwbrgurrrggrgwwgwwbbgruwrrrbuugu\\nuurbbugrwuuuwuguwwbgwurbbbuuururrwrrwrggbgbuuwrrugubu\\nuuurubbgugrgwbwbggwbgwrbbrgrwrububwggrwguugbwbgwbg\\nwwgwwuuwgwgrwwbbgbbbgrgruwwwbwgbwrbwwgbburb\\nrgbuuwuwgrwugrrugrwuwbwrwbrurggubuwgrrrgbuwugwrbugb\\nurwwbbbguugugugwrbggwwurgwbbubgugubgrwugwgrrgbbgur\\nurwbbbgbubwrbwwbuuurwbwurbbwuwgrrwurgggugrbuwwurruubru\\nurwwrgbbwgwugguwrurwwbrgrgrrrrrrrrwubwggubub\\nbgrrrbrwwbrbrrrrgbrbwrrbrgrrwwuwwgwwwubrwbrgb\\nugrruwgrbrrbwrwuwrrwgbgugbrbguguggrbwgbrbrggwrbwggurr\\nwbgbrugruggbugwbgbuburwubgwrwrugbbrbrwgugg\\nbwgruggggwrwbuuwgbubrggggwubuubwubrguuguurub\\nurubgrruwrrrggwbgrrwugrbbuurgwurwwwrwuuuggbguwb\\nggurrgbbggurbrgrbgrwrgurwbbgbrrwrwggubuwuruuuwbwrbuuuubbgw\\nrwurrrbgbgrruwwguuwbwbwwrurggrrguguwwrbubrrugbwbg\\nrbrbrgwrgruburbbbuwbgwgbgrgrgrrgggbwrubuwbbrrgbw\\ngrwbwrugwguuubggggrgwrrwwwggbuuuguwbggwbubwbbrrbrggbwgbgb\\nuwwurgrguubrbbwrbwgubrbbuwbbggwugbwbgbbwgwgruruguwru\\ngwbggugbgrrgrbuwrbrwwrurwuuwrbbbwwwbgwrugrwwbgrurrrug\\nurwbgubguurgwrwbrwgubrwugrgbgwrwbrrwuwrbbgggrrw\\nurwwguugbuurrwugrrggbwgwgrbbrgbuuruubwbu\\ngurwugbrbwubwuwugbggwguggwwrburwuwguwwbuubbbuubwrguwguwr\\nububburubrrgggguwbwrrurrwwbuugbrwbgbbbugubrrbg\\nrbrbwrubgrgbgwwubwgwuuwgubbburwurrggbrguwrrgwurruubug\\nrrrbbwgrgurbbgrrururwrgrgrwrgwgrrrbwbbbubrgwubgggugwuuub\\nugwgbwrruurbugwwgwbrgbwwrwbruwgbrbrgurwgrbwb\\nurwwguugwbwbrrbbgrwgrwbwwrwbubbwurwbwgrbgubbuw\\nurburwwugguwgwrgruwrgwgbwwbrwgrrwrrrrrugwruurwurbubgww\\nurwbubwurrrgrrbgbwbgwrggugwrbuuuggurrgbwwrgrbbgggbuugwgugww\\ngrbbugwrbbuwurbgrrugwbbrwuwbgugrwwbggbrwubuurwbwuwgr\\nurwugrrurugwbgguwwgruruwbuugurwgbwwbgguwgrrwgw\\nrubgwuwbgrbwbrrwrbggguuruuubwwrubgbuwgguuburbrwguwuwrww\\nurwwubrgwwbwwbuubrrbuwwwugrgugwwugrbgubrubwrwr\\nguguuwuwrubuwrwuguwwrgbwrwrguwbgrwwbguurubuwuur\\nbbugrrbggrwrrbbwgbwbguuwuburbbruwrururuggwgbugbbbuwwrr\\nbrbbwrrrbwbwbwwrbbrbgbuugwbbrururrrruuwbruwrgbrubuu\\nrruwwwggwgrgrbwrbbwwwwgwbgurrwrurrgguwbbbu\\nurwbrwwwbbrruubgbbbrbbuuwgrwgubgbrwbburuurwrwrgubw\\nrbwgggrbgbwrgrbggrwrububwuugwwugrbubgrurguuwubgw\\nurwbuwbbbrrwrgrugggggrwrgugugwugbbwguubwwbbuugburgwugwwugr\\nwurwrbbrwwubgbwgwbubwubrgwwwrwgurwbugbuwrrgbbguuww\\nuwgbubgrgrbubgwbrbgwuwbuwgrurwbruuwbbburwbbuggugrgbb\\nurwbubrgrrururgwrbrrubrgwgggrwggbrgwbuurggbbggbwubgwuwg\\nbrrwuwwugugwggruurwuugbbrbruugrrwbugrwguwrwruuwwbrrurruuwr\\nrbbrggbgbwbgwbbbbubrgwgrrurrgrrwgubwgwgggwbbww\\nbbbugbwwwwuggbbwbuuuwuwrugwwrwwwrrgugrguuggwrur\\nurwwrwuwbbrbgrrrgwgugrugbrwggrggbrgubrurgurbrwbuwbgrurwubwu\\nurwbggwubwwbbuuwrbwwbrbrgrugubbwbbuurwubwggbwwwg\\nurwwwbbwrrugbuurbuwurrurgwwbgburbgggrwuuurubgbguggbgwr\\nurwbbguuggbgrwuwurrwggwgwruugbbwrrgbgurugurrrrub\\nurwwggrbuwbbgbggggwrwbbubbbwurgrububrrwuu\\ngbubuwuwgwrgbwbruruwwuuugwuggbgrbwbgbrrgbwgubu\\nurwwwuubgurrbrwbbrwbgrbgwguwrrgrrrgruugrgguwggguuwuubruwggu\\nrwwbrwuwugggrurwbrrwguuugggubuuugbwrwwuuuwbb\\nurwwbgwuwgrbbwgruwubbuggwgruubbrbgwburrurrwgrgbugr\\nurwwugbgrgbwgwuuwgrggruubbugguwwruruubbrugwb\\nwururugugguwwwwrggbgwwgrrgguwwrrbwuwwrrwwwbgwwrb\\ngrwgguwguwwrruwrbrwrrgwruwrwbgrwrubwwwuuwbbruuggwggg\\nurwbgrwrwbrwwbwbgbgbbuuwwrwugubugggbuurwbggrbgrugbwbruruu\\ngrguuwbugburbugbrggrwwbrruruwbbrgrgwrgbwuuwruruwbubu\\nuwwwuggwwuwgwgrruwrwuwbrugbbrrruuururrbrrbwbbuguruwrwuwu\\nurwbgbgrrrugwgrbbgugwguuwrwrrwbgguggggbbuubguubbugwrrrru\\nurwbbgggbbbubggwrubwuwuuguwwugubbrrrbuubuwrgrgwwgrbu\\nurwbubuwrgwbugwwuurrgggwuruwrrwrwgubgwwbrgbbw\\nwrrbrwubbwrbbuwubruurrbggbbrbbwrrburrbwwggrbw\\nurwwuubwugwrrgurrgbbwruwurbubuwbugwgbrugbrbuuwgrbwwbwgg\\nurwwbgwguruubrwgugbbrwgggwbbwrbruurbgbgwggbgbuwrbb\\nurwwugurwuggubbggwubgubggwubrbuuwrgubwbwubuuwwu\\nurwwgrgbbbwguurgrgburbbbbugubgwuuugugbrgrrbwurbubgru\\nwrgrrwwuggbwgrubgbwrrrrbwggruwwbggguwugrrgubrbguruwrb\\nurwbgwugrrrbrurrgbwgubgubbwbbgwbgwgurwrrwuruug\\nurwbbggguguuwrbrbwbgbbrbubgggbbuuurwbwggrubuugruugruru\\nurwbbguwwuggggruwwrbgbrguwubgrbwgbrwwwugurbugrrbrgruugggg\\nwwgwgwgubuwrrrubrrwguwbguguurugbbbguugbuuwgwubbw\\ngbgbgrggwbrwbbrgrgwwbwrbbuggugbrrwugwwwwwuuwrbbg\\nururrggwgwrguwgbwuubuwgrgbrrrwwwwbgwrbwwwrru\\nurwbbbbgrburbwurguwbbbguwwubgwwbrwrbwbrwgr\\nggrburugwrwrurgwrrbrgurrugubuuguwbwbbbrbrwrwu\\nwgwruurwbuurgguwbwugruwgbrugbgbbuuurgruwbwruurgw\\nurwbugwrgrbuwbwrbuuruuurrrwrruwwuuugrbubrrbbrrubwbuww\\nurwwrbgwrrbugrwwbbgwrugwggubbgwrwgggwrruwrgw\\nurwbgwbwrbrugrwwggubgbwwwrrrrbggruwbgurgrgrrwgwwr\\nbrugwwwrbbgbrwuwugbuwbbwurbwbbuuurubugbrrwggrrrwruww\\nrguubugrwbbbgurbbwgubrrbwbwubgwgwbbgubwrgubwugggruwrwrwuu\\nrrgubuwrbrrbwuwwuurgwbwwrgrrurgruwwuuruuwrgwbgbug\\nurwbrgwuwrbrrbgbuuwrgrgrwgburwgurubrrbrbubgbwbrurgrrgwgrgru\\nrgbbwwruwubrgwurrbbrugrbgrwgwrbwbwwwgbgwgubbggwwgbrbwbggu\\nrwugrbrbbwrwbggrrwgrurrrubgrggrruwrwrrrrugrgggbwr\\nugbgbrwurgugugrrwwwrbuuugugurbugbbuwgbbwgrbrbrrrrwgguwww\\ngggwgubggbuurbubuuurgguubrurgbbwbuwurbgwgwwrbuuur\\nurwwrubgbuuwruurwbububwrurrbrwugrgwbrrwwgurrubgbrruwrbu\\nbrbrbruubrwugwburruwgwrwbwruwgwugrgbwbbgwwgbuwubbr\\nbgwrwbrrwuwbguururgrwggwgbwbrgwbbgbbugrgurb\\nurwwugbrbbgrgbuwrwbrruwrwubwrbbbgrbgruurrrrrgwrwbgrrg\\nrwrbbwburwgwgrrgrrugwbubwuuuguggwbbwwurruruugw\\nbrwggrggwbrggrbuuurbgrrwuubrwrurwugbguuwgrgurguggbbgurgubw\\nurwwuwwgwbbguguubuuwggbgrrbuwgrwwgurwbwwurgrwuwuuw\\ngbbrbgbbbbrrurrwruugwrrrurrwrrwbwbwrgugbbrguwrruu\\nwggrwurggrggwuwwwbwugbgbbgubwuwgubwburrbuwwgbbbbwurr\\nbbuwbbbrrbrrruwbwbugwrrwruwrburbrbrgwrbbbuwubr\\nurwwrrrwgubburbugggrbbgrwwrbuwrrgrgwwugwgru\\nrgurrbgbbrbubwwugrgwbwurbbbgwbbbbburwbuwwubu\\nurwwgbwbbrgrugwburwwbuwbugugburuguuggguwggbrubuwguwrwwguwuu\\nurwwgubuuuubuwrgrburbbbrbbrgwbbgggwrgwgguugwbrw\\nrbgguurgwbbwbwbguuwwgwrubwwugrwuubwrbubgwbwggggubrgwrb\\nbguuguwwgwgwbgugbguwgwuwruwugguugbggbuuggwbb\\nrgggrrgwgrgguwbgburwwubgubgubgbuggrubbgbgrgbrggubwg\\nwgwrbwgruburrwbuwugwrubgguuuuubwwwrrggrrbruubwrwugbrbbgru\\nurwwugrbrgwrbuubbgwgugruguwuggrrwrwuuwbgwwurwuuwubugb\\nurwbrrugruwgrgwgguwrbbubuwuwuwrruuugbbgwbbbbuwbgwwwubgurbwrb\\nurwburwbrgrbgwuuwrruwurruuwrbgbgubwwwrwur\\nurwbwwruwbubbbbgwugbrbuwruuwwbgbbwwrurbbrbbwuub\\nurwbugubrgbbgubwguwuggrurgwwwwurrwgurguurggbw\\nwrububuwuugubwwguubburbggrrwgbrbrbrwgurbgwgbg\\nurwwwgbrbwrgrrrrwwgrbbgbrrruruuurbgrgubwbbburggurg\\nrwgbuwguuguuurubbrrrgwwgubgwrgrrwgurwrwgrb\\nruuurgubruuuwbggbbrrrrubbruwugwgggrburrrggr\\nwruguugwgguguurrrurgrbbrbgbwwuuuuwugwrrurg\\nwrugrugwgruwwbbrbwbrrruguubwbuwuuggbwgggwrbrrburuu\\nurwwguwuwwrwurgubbwruruwgrurbuwuguuugwbgwggbu\\nwbbbwrwugwrburwubwubwububwwrwrwrgrwwuwwwbruwbw\\nurwwbugwbgguuubrwbbuwwwggwugrwrwugugugguwwubgurgbb\\nurwwrgwbggrgwwrrugbuuwwbwwgbruwguwgwrgwrburbuguwurgwb\\nurwwbwurrrbwgbgruwrgrrrgurwuuwruugrbggrgrwww\\nwgbrwwrrrurrwuwbbwbrugurwrruubggbubguwrwrb\\nrwgrbwrgwwwgbwwrbwbgbrrubbbruwwwbrgrrrwbwrggrwgg']\n"
     ]
    }
   ],
   "source": [
    "# *** [IMPORT DATA] ***\n",
    "# NOTE: In the given puzzle input:\n",
    "# - FIRST line: Available towel patterns.\n",
    "# - Remaining lines after blank line: Desired designs to display.\n",
    "# =====================================================================================================================\n",
    "# ! Open the file for reading mode (= default mode if the mode is not specified)\n",
    "file = open(\"../data/24_day-19_input.txt\", \"r\") \n",
    "\n",
    "# Read all the data in the file\n",
    "file_data = file.read().strip()\n",
    "\n",
    "# Split by empty line\n",
    "file_data = file_data.split(\"\\n\\n\")\n",
    "\n",
    "print(file_data)\n",
    "# ===================================================================================================================="
   ]
  },
  {
   "cell_type": "markdown",
   "metadata": {},
   "source": [
    "## Helper functions"
   ]
  },
  {
   "cell_type": "code",
   "execution_count": null,
   "metadata": {},
   "outputs": [],
   "source": [
    "def count_possible_designs(towel_patterns, designs):\n",
    "    \"\"\"\n",
    "    Counts the number of possible designs that can be created using the given towel patterns.\n",
    "\n",
    "    Args:\n",
    "    - towel_patterns (list): A list of available towel patterns.\n",
    "    - designs (list): A list of desired designs.\n",
    "\n",
    "    Returns:\n",
    "    - int: The number of possible designs.\n",
    "    \"\"\"\n",
    "    # Create a set of towel patterns for efficient lookups\n",
    "    towel_patterns_set = set(towel_patterns)\n",
    "\n",
    "    def can_create_design(design):\n",
    "        \"\"\"\n",
    "        Checks if a design can be created using the available towel patterns.\n",
    "\n",
    "        Args:\n",
    "        - design (str): The design to check.\n",
    "\n",
    "        Returns:\n",
    "        - bool: True if the design can be created, False otherwise.\n",
    "        \"\"\"\n",
    "        i = 0\n",
    "        \n",
    "        while i < len(design):\n",
    "            for j in range(len(design), i, -1):\n",
    "                pattern = design[i:j]\n",
    "                if pattern in towel_patterns_set:\n",
    "                    i = j\n",
    "                    break\n",
    "            else:\n",
    "                return False\n",
    "        return True\n",
    "\n",
    "    # Count the number of possible designs\n",
    "    possible_designs = sum(1 for design in designs if can_create_design(design))\n",
    "\n",
    "    return possible_designs\n",
    "\n",
    "\n",
    "# # Example usage:\n",
    "# towel_patterns = [\"r\", \"wr\", \"b\", \"g\", \"bwu\", \"rb\", \"gb\", \"br\"]\n",
    "# designs = [\n",
    "#     \"brwrr\",\n",
    "#     \"bggr\",\n",
    "#     \"gbbr\",\n",
    "#     \"rrbgbr\",\n",
    "#     \"ubwu\",\n",
    "#     \"bwurrg\",\n",
    "#     \"brgr\",\n",
    "#     \"bbrgwb\",\n",
    "# ]\n",
    "\n",
    "# possible_designs = count_possible_designs(towel_patterns, designs)\n",
    "# print(\"Number of possible designs:\", possible_designs)"
   ]
  },
  {
   "cell_type": "code",
   "execution_count": 32,
   "metadata": {},
   "outputs": [],
   "source": [
    "# ===================================================================================================================="
   ]
  },
  {
   "cell_type": "markdown",
   "metadata": {},
   "source": [
    "## Part 1"
   ]
  },
  {
   "cell_type": "code",
   "execution_count": 30,
   "metadata": {},
   "outputs": [
    {
     "name": "stdout",
     "output_type": "stream",
     "text": [
      "Number of possible designs (PART 1): 193\n"
     ]
    }
   ],
   "source": [
    "# *** [PART 1] ***\n",
    "# ! PROBLEM: The Official Onsen Branding Expert has produced a list of designs - each a long sequence of stripe colors - that they would like to be able to display. You can use any towels that you want, but all of the towels' stripes must EXACTLY match the desired design.\n",
    "# - E.g. To display the design 'rgrgr', you could use 2 'rg' towels and then an 'r' towel, an 'rgr' towel and then a 'gr' towel, or even a single massive 'rgrgr' towel (assuming such towel patterns were actually available).\n",
    "# ! TODO: To get into the onsen as soon as possible, consult your list of towel patterns and desired designs carefully. Calculate the number of desired designs that are possible.\n",
    "# ====================================================================================================================\n",
    "# ! Create a deep (independent) copy of the data, such that changes made to the copy do not affect the original data to still test/re-run in Part 1/2 with the correct INITIAL (and not modified) data\n",
    "# - NOTE: Not using a deep copy will modify the original data after running Part 1/2, therefore incorrect output will be calculated.\n",
    "designs_full = copy.deepcopy(file_data)\n",
    "\n",
    "towelPatterns = designs_full[0].split(\",\")\n",
    "desiredDesigns = designs_full[1].split(\"\\n\")\n",
    "\n",
    "# Get ride of trailing spaces\n",
    "for i in range(len(towelPatterns)):\n",
    "    towelPatterns[i] = towelPatterns[i].strip()\n",
    "\n",
    "possibleDesigns = count_possible_designs(towelPatterns, desiredDesigns)\n",
    "\n",
    "print(\"Number of possible designs (PART 1):\", possibleDesigns)\n",
    "# ===================================================================================================================="
   ]
  },
  {
   "cell_type": "markdown",
   "metadata": {},
   "source": [
    "## Part 2"
   ]
  },
  {
   "cell_type": "code",
   "execution_count": null,
   "metadata": {},
   "outputs": [],
   "source": [
    "# *** [PART 2] ***\n",
    "# ! PROBLEM: xxx\n",
    "# ! TODO: xxx\n",
    "#====================================================================================================================\n",
    "# ! Create a deep (independent) copy of the data, such that changes made to the copy do not affect the original data to still test/re-run Part in 1/2 with the correct INITIAL (and not modified) data\n",
    "# - NOTE: Not using a deep copy will modify the original data after running Part 1/2, therefore incorrect output will be calculated.\n",
    "var = copy.deepcopy(file_data)\n",
    "\n"
   ]
  },
  {
   "cell_type": "code",
   "execution_count": null,
   "metadata": {},
   "outputs": [],
   "source": []
  }
 ],
 "metadata": {
  "kernelspec": {
   "display_name": "Python 3",
   "language": "python",
   "name": "python3"
  },
  "language_info": {
   "codemirror_mode": {
    "name": "ipython",
    "version": 3
   },
   "file_extension": ".py",
   "mimetype": "text/x-python",
   "name": "python",
   "nbconvert_exporter": "python",
   "pygments_lexer": "ipython3",
   "version": "3.12.4"
  }
 },
 "nbformat": 4,
 "nbformat_minor": 2
}
