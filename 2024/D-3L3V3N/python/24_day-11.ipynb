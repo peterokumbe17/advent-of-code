{
 "cells": [
  {
   "cell_type": "markdown",
   "metadata": {},
   "source": [
    "# Day 11: Plutonian Pebbles"
   ]
  },
  {
   "cell_type": "markdown",
   "metadata": {},
   "source": [
    "## Import libraries"
   ]
  },
  {
   "cell_type": "code",
   "execution_count": 2,
   "metadata": {},
   "outputs": [],
   "source": [
    "import copy\n",
    "from functools import lru_cache"
   ]
  },
  {
   "cell_type": "markdown",
   "metadata": {},
   "source": [
    "## Import data"
   ]
  },
  {
   "cell_type": "code",
   "execution_count": null,
   "metadata": {},
   "outputs": [],
   "source": [
    "# *** [IMPORT DATA] ***\n",
    "# NOTE: In the given puzzle input:\n",
    "# - A string list of stones (represented by numbers) in a straight line.\n",
    "# =====================================================================================================================\n",
    "# ! Open the file for reading mode (= default mode if the mode is not specified)\n",
    "file = open(\"../data/24_day-11_input.txt\", \"r\") \n",
    "\n",
    "# Read all the data in the file\n",
    "file_data = file.read().strip()\n",
    "\n",
    "file_data = file_data.split(\" \")\n",
    "\n",
    "# print(file_data)\n",
    "# ===================================================================================================================="
   ]
  },
  {
   "cell_type": "markdown",
   "metadata": {},
   "source": [
    "## Helper functions"
   ]
  },
  {
   "cell_type": "code",
   "execution_count": 14,
   "metadata": {},
   "outputs": [],
   "source": [
    "def change_numbers(numbers):\n",
    "    \"\"\"\n",
    "    Process a list of string numbers according to the following rules:\n",
    "    1. If the value is '0', replace it with '1'.\n",
    "    2. If the value has an even number of digits, split it into two numbers.\n",
    "    3. If the value does not meet the above conditions, multiply it by 2024.\n",
    "\n",
    "    Args:\n",
    "    - numbers (list): A list of string numbers.\n",
    "\n",
    "    Returns:\n",
    "    - list: The processed list of numbers.\n",
    "    \"\"\"\n",
    "    arrChangedNumbers = []\n",
    "\n",
    "    for num in numbers:\n",
    "        # Rule 1: Replace '0' with '1'\n",
    "        if num == '0':\n",
    "            arrChangedNumbers.append('1')\n",
    "        else:\n",
    "            # Rule 2: Split even-length numbers into two\n",
    "            if len(num) % 2 == 0:\n",
    "                half = len(num) // 2\n",
    "                num1, num2 = num[:half], num[half:]\n",
    "                # Remove leading zeros\n",
    "                num1, num2 = num1.lstrip('0') or '0', num2.lstrip('0') or '0'\n",
    "                arrChangedNumbers.extend([num1, num2])\n",
    "            else:\n",
    "                # Rule 3: Multiply by 2024\n",
    "                arrChangedNumbers.append(str(int(num) * 2024))\n",
    "    \n",
    "    return arrChangedNumbers"
   ]
  },
  {
   "cell_type": "code",
   "execution_count": 37,
   "metadata": {},
   "outputs": [],
   "source": [
    "@lru_cache(None)\n",
    "def calculate_growth(stone, remaining_blinks):\n",
    "    if remaining_blinks == 0:\n",
    "        return 1\n",
    "    \n",
    "    if stone == 0:\n",
    "        result = calculate_growth(1, remaining_blinks - 1)\n",
    "        \n",
    "        return result\n",
    "\n",
    "    elif len(str(stone)) % 2 == 0:\n",
    "        mid = len(str(stone)) // 2\n",
    "        left = int(str(stone)[:mid])\n",
    "        right = int(str(stone)[mid:])\n",
    "        result = calculate_growth(left, remaining_blinks - 1) + calculate_growth(right, remaining_blinks - 1)\n",
    "        \n",
    "        return result\n",
    "    else:\n",
    "        result = calculate_growth(stone * 2024, remaining_blinks - 1)\n",
    "        \n",
    "        return result\n",
    "# ===================================================================================================================="
   ]
  },
  {
   "cell_type": "markdown",
   "metadata": {},
   "source": [
    "## Part 1"
   ]
  },
  {
   "cell_type": "code",
   "execution_count": null,
   "metadata": {},
   "outputs": [],
   "source": [
    "# *** [PART 1] ***\n",
    "# ! PROBLEM: The ancient civilization on Pluto was known for its ability to manipulate spacetime, and while The Historians explore their infinite corridors, you've noticed a strange set of physics-defying stones. At first glance, they seem like normal stones: they're arranged in a perfectly *straight line*, and EACH stone has a *number* engraved on it. The strange part is that every time you BLINK, the stones CHANGE:\n",
    "# - If the stone is engraved with the number '0', it is replaced by a stone engraved with the number '1'.\n",
    "# - If the stone is engraved with a number that has an EVEN number of *digits*, it is REPLCAED by TWO stones. The LEFT half of the CURRENT stone's digits are engraved on the new left stone, and the RIGHT half of the digits are engraved on the new right stone. (NOTE: The new numbers don't keep extra leading zeroes: E.g. '1000' would become stones '10'(L) and '0'(R).)\n",
    "# - If none of the above rules apply, then the stone is REPLACED by a new stone = the old stone's number * 2024.\n",
    "# - NOTE: No matter how the stones CHANGE, their order is PRESERVED, and they stay on their perfectly straight line.\n",
    "# ! TODO: Consider the arrangement of stones in front of you (puzzle input). How many stones will you have after blinking 25 times?\n",
    "# ====================================================================================================================\n",
    "# ! Create a deep (independent) copy of the data, such that changes made to the copy do not affect the original data to still test/re-run Part 1/2 with the correct INITIAL (and not modified) data\n",
    "# - NOTE: Not using a deep copy will modify the original data after running Part 1/2, therefore no correct output will be calculated anymore.\n",
    "stones = copy.deepcopy(file_data)\n",
    "blink = 25\n",
    "\n",
    "# Change stones every time you blink\n",
    "for i in range(blink):\n",
    "    stones = change_numbers(stones)\n",
    "\n",
    "# Calculate the number of stones after x blinks\n",
    "sumStones = len(stones)\n",
    "\n",
    "# print(stones)\n",
    "\n",
    "print(\"Total number of stones after 25 blinks (PART 1):\", sumStones)\n",
    "# ===================================================================================================================="
   ]
  },
  {
   "cell_type": "markdown",
   "metadata": {},
   "source": [
    "## Part 2"
   ]
  },
  {
   "cell_type": "code",
   "execution_count": null,
   "metadata": {},
   "outputs": [],
   "source": [
    "# *** [PART 2] ***\n",
    "# ! PROBLEM: Same as Part 1.\n",
    "# ! TODO: Consider the arrangement of stones in front of you (puzzle input). How many stones will you have after blinking 75 times?\n",
    "#====================================================================================================================\n",
    "# ! Create a deep (independent) copy of the data, such that changes made to the copy do not affect the original data to still test/re-run Part 1/2 with the correct INITIAL (and not modified) data\n",
    "# - NOTE: Not using a deep copy will modify the original data after running Part 1/2, therefore no correct output will be calculated anymore.\n",
    "stones2 = copy.deepcopy(file_data)\n",
    "blink = 75\n",
    "sumStones2 = 0\n",
    "\n",
    "# # Change stones every time you blink\n",
    "# for i in range(blink):\n",
    "#     stones = change_numbers(stones)\n",
    "\n",
    "# # Calculate the number of stones after x blinks\n",
    "# sumStones = len(stones)\n",
    "\n",
    "for stone in map(int, stones2):\n",
    "    sumStones2 += calculate_growth(stone, blink)\n",
    "\n",
    "print(\"Total number of stones after 75 blinks (PART 2):\", sumStones2)"
   ]
  },
  {
   "cell_type": "code",
   "execution_count": null,
   "metadata": {},
   "outputs": [],
   "source": []
  }
 ],
 "metadata": {
  "kernelspec": {
   "display_name": "Python 3",
   "language": "python",
   "name": "python3"
  },
  "language_info": {
   "codemirror_mode": {
    "name": "ipython",
    "version": 3
   },
   "file_extension": ".py",
   "mimetype": "text/x-python",
   "name": "python",
   "nbconvert_exporter": "python",
   "pygments_lexer": "ipython3",
   "version": "3.12.4"
  }
 },
 "nbformat": 4,
 "nbformat_minor": 2
}
