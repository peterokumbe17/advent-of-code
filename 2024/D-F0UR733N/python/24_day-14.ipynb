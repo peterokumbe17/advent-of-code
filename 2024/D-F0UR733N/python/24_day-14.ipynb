{
 "cells": [
  {
   "cell_type": "markdown",
   "metadata": {},
   "source": [
    "# Day 14: Restroom Redoubt"
   ]
  },
  {
   "cell_type": "markdown",
   "metadata": {},
   "source": [
    "## Import libraries"
   ]
  },
  {
   "cell_type": "code",
   "execution_count": 31,
   "metadata": {},
   "outputs": [],
   "source": [
    "import copy\n",
    "# from functools import lru_cache"
   ]
  },
  {
   "cell_type": "markdown",
   "metadata": {},
   "source": [
    "## Import data"
   ]
  },
  {
   "cell_type": "code",
   "execution_count": null,
   "metadata": {},
   "outputs": [],
   "source": [
    "# *** [IMPORT DATA] ***\n",
    "# NOTE: In the given puzzle input:\n",
    "# - EACH line represents 1 robot.\n",
    "# - EACH robot has an initial current position (p) AND a velocity (v) for movements per second.\n",
    "# =====================================================================================================================\n",
    "# ! Open the file for reading mode (= default mode if the mode is not specified)\n",
    "file = open(\"../data/24_day-14_input-test.txt\", \"r\") \n",
    "\n",
    "# Read all the data in the file\n",
    "file_data = file.read().strip()\n",
    "\n",
    "# Split by claw machines\n",
    "file_data = file_data.split(\"\\n\\n\")\n",
    "\n",
    "print(file_data)\n",
    "# ===================================================================================================================="
   ]
  },
  {
   "cell_type": "markdown",
   "metadata": {},
   "source": [
    "## Helper functions"
   ]
  },
  {
   "cell_type": "code",
   "execution_count": 23,
   "metadata": {},
   "outputs": [],
   "source": []
  },
  {
   "cell_type": "code",
   "execution_count": 32,
   "metadata": {},
   "outputs": [],
   "source": [
    "# ===================================================================================================================="
   ]
  },
  {
   "cell_type": "markdown",
   "metadata": {},
   "source": [
    "## Part 1"
   ]
  },
  {
   "cell_type": "code",
   "execution_count": null,
   "metadata": {},
   "outputs": [],
   "source": [
    "# *** [PART 1] ***\n",
    "# ! PROBLEM: Each machine contains ONE prize: To win the prize, the claw must be positioned EXACTLY above the prize on BOTH the X and Y axes.\n",
    "# - Cost to push 'A': 3 tokens.\n",
    "# - Cost to push 'B': 1 token.\n",
    "# - EACH button moves the claw machine \"x\" times RIGHT & \"y\" times UP (forwards).\n",
    "# - E.g. Claw machine #1: the cheapest way to win the prize = pushing the A button 80x and the B button 40x. This would line up the claw along the prize's x-axis (because 80*{94} + 40*{22} = 8400) and y-axis (because 80*{34} + 40*{67} = 5400). Cost = (A presses = 80 * 3) + (B presses = 40 * 1) = 280.\n",
    "# ! TODO: Calculate the smallest number of tokens you would have to spend to win as many prizes as possible.\n",
    "# - NOTE: Winning a prize for a specific machine claw = finding a combination of A & B numbers that will line up the claw machine with the prize on both the X and Y axes. Adding the sum of tokens spent for EACH successful prize won = answer.\n",
    "# ====================================================================================================================\n",
    "# ! Create a deep (independent) copy of the data, such that changes made to the copy do not affect the original data to still test/re-run Part 1/2 with the correct INITIAL (and not modified) data\n",
    "# - NOTE: Not using a deep copy will modify the original data after running Part 1/2, therefore no correct output will be calculated anymore.\n",
    "claw_machines = copy.deepcopy(file_data)\n",
    "\n",
    "machines = []\n",
    "\n",
    "for machine in claw_machines:\n",
    "    # Separate \"Button A\"; \"Button B\"; \"Prize\" lines\n",
    "    lines = machine.splitlines()\n",
    "    \n",
    "    # Extract values from each line\n",
    "    button_a = lines[0].split(': ')[1]\n",
    "    button_b = lines[1].split(': ')[1]\n",
    "    prize = lines[2].split(': ')[1]\n",
    "    \n",
    "    # Parse the values\n",
    "    x_a = int(button_a.split(', ')[0].split('+')[1])\n",
    "    y_a = int(button_a.split(', ')[1].split('+')[1])\n",
    "    x_b = int(button_b.split(', ')[0].split('+')[1])\n",
    "    y_b = int(button_b.split(', ')[1].split('+')[1])\n",
    "    x_prize = int(prize.split(', ')[0].split('=')[1])\n",
    "    y_prize = int(prize.split(', ')[1].split('=')[1])\n",
    "    \n",
    "    # Append the tuple to the machines list\n",
    "    machines.append((x_a, y_a, x_b, y_b, x_prize, y_prize))\n",
    "\n",
    "#print(machines)\n",
    "\n",
    "totalTokens = claw_machine_prizes(machines)\n",
    "\n",
    "print(\"Fewest tokens needed to win as many prizes as possible (PART 1):\", totalTokens)\n",
    "# ===================================================================================================================="
   ]
  },
  {
   "cell_type": "markdown",
   "metadata": {},
   "source": [
    "## Part 2"
   ]
  },
  {
   "cell_type": "code",
   "execution_count": null,
   "metadata": {},
   "outputs": [],
   "source": [
    "# *** [PART 2] ***\n",
    "# ! PROBLEM: As you go to win the first prize, you discover that the claw is nowhere near where you expected it would be. Due to a unit conversion error in your measurements, the position of EVERY prize is actually 10000000000000 higher on both the X and Y axis!\n",
    "# ! TODO: Add 10000000000000 to the X and Y position of EVERY prize in EVERY machine and calculate the smallest number of tokens you would have to spend to win as many prizes as possible now.\n",
    "#====================================================================================================================\n",
    "# ! Create a deep (independent) copy of the data, such that changes made to the copy do not affect the original data to still test/re-run Part 1/2 with the correct INITIAL (and not modified) data\n",
    "# - NOTE: Not using a deep copy will modify the original data after running Part 1/2, therefore no correct output will be calculated anymore.\n",
    "claw_machines2 = copy.deepcopy(file_data)\n",
    "\n",
    "machines2 = []\n",
    "\n",
    "for machine in claw_machines2:\n",
    "    # Separate \"Button A\"; \"Button B\"; \"Prize\" lines\n",
    "    lines = machine.splitlines()\n",
    "    \n",
    "    # Extract values from each line\n",
    "    button_a = lines[0].split(': ')[1]\n",
    "    button_b = lines[1].split(': ')[1]\n",
    "    prize = lines[2].split(': ')[1]\n",
    "    \n",
    "    # Parse the values\n",
    "    x_a = int(button_a.split(', ')[0].split('+')[1])\n",
    "    y_a = int(button_a.split(', ')[1].split('+')[1])\n",
    "    x_b = int(button_b.split(', ')[0].split('+')[1])\n",
    "    y_b = int(button_b.split(', ')[1].split('+')[1])\n",
    "    x_prize = int(prize.split(', ')[0].split('=')[1]) + 10000000000000\n",
    "    y_prize = int(prize.split(', ')[1].split('=')[1]) + 10000000000000\n",
    "    \n",
    "    # Append the tuple to the machines list\n",
    "    machines2.append((x_a, y_a, x_b, y_b, x_prize, y_prize))\n",
    "\n",
    "print(machines2)\n",
    "\n",
    "totalTokens2 = claw_machine_prizes2(machines2)\n",
    "\n",
    "print(\"Fewest tokens needed to win as many prizes as possible (PART 2):\", totalTokens2)"
   ]
  },
  {
   "cell_type": "code",
   "execution_count": null,
   "metadata": {},
   "outputs": [],
   "source": []
  }
 ],
 "metadata": {
  "kernelspec": {
   "display_name": "base",
   "language": "python",
   "name": "python3"
  },
  "language_info": {
   "codemirror_mode": {
    "name": "ipython",
    "version": 3
   },
   "file_extension": ".py",
   "mimetype": "text/x-python",
   "name": "python",
   "nbconvert_exporter": "python",
   "pygments_lexer": "ipython3",
   "version": "3.9.7"
  }
 },
 "nbformat": 4,
 "nbformat_minor": 2
}
