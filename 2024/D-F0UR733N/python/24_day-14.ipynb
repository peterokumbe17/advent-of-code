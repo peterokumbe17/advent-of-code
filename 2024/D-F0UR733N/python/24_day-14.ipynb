{
 "cells": [
  {
   "cell_type": "markdown",
   "metadata": {},
   "source": [
    "# Day 14: Restroom Redoubt"
   ]
  },
  {
   "cell_type": "markdown",
   "metadata": {},
   "source": [
    "## Import libraries"
   ]
  },
  {
   "cell_type": "code",
   "execution_count": 11,
   "metadata": {},
   "outputs": [],
   "source": [
    "import copy\n",
    "# from functools import lru_cache"
   ]
  },
  {
   "cell_type": "markdown",
   "metadata": {},
   "source": [
    "## Import data"
   ]
  },
  {
   "cell_type": "code",
   "execution_count": 18,
   "metadata": {},
   "outputs": [
    {
     "name": "stdout",
     "output_type": "stream",
     "text": [
      "['p=0,4 v=3,-3', 'p=6,3 v=-1,-3', 'p=10,3 v=-1,2', 'p=2,0 v=2,-1', 'p=0,0 v=1,3', 'p=3,0 v=-2,-2', 'p=7,6 v=-1,-3', 'p=3,0 v=-1,-2', 'p=9,3 v=2,3', 'p=7,3 v=-1,2', 'p=2,4 v=2,-3', 'p=9,5 v=-3,-3']\n"
     ]
    }
   ],
   "source": [
    "# *** [IMPORT DATA] ***\n",
    "# NOTE: In the given puzzle input:\n",
    "# - EACH line represents 1 robot.\n",
    "# - EACH robot has an initial current position (p) AND a velocity (v) for movements per second.\n",
    "# =====================================================================================================================\n",
    "# ! Open the file for reading mode (= default mode if the mode is not specified)\n",
    "file = open(\"../data/24_day-14_input-test.txt\", \"r\") \n",
    "\n",
    "# Read all the data in the file\n",
    "file_data = file.read().strip()\n",
    "\n",
    "# Split by claw machines\n",
    "file_data = file_data.split(\"\\n\")\n",
    "\n",
    "print(file_data)\n",
    "# ===================================================================================================================="
   ]
  },
  {
   "cell_type": "markdown",
   "metadata": {},
   "source": [
    "## Helper functions"
   ]
  },
  {
   "cell_type": "code",
   "execution_count": 20,
   "metadata": {},
   "outputs": [],
   "source": [
    "def calculate_safety_factor(robot_positions):\n",
    "    \"\"\"\n",
    "    Calculate the safety factor of the robots after 100 seconds.\n",
    "\n",
    "    Args:\n",
    "    - robot_positions (list): A list of strings representing the initial positions and velocities of the robots.\n",
    "\n",
    "    Returns:\n",
    "    - int: The safety factor of the robots after 100 seconds.\n",
    "    \"\"\"\n",
    "\n",
    "    # Parse the robot positions and velocities\n",
    "    robots = []\n",
    "\n",
    "    for position in robot_positions:\n",
    "        p, v = position.split(' v=')\n",
    "        px, py = map(int, p[2:].split(','))\n",
    "        vx, vy = map(int, v.split(','))\n",
    "        robots.append((px, py, vx, vy))\n",
    "\n",
    "    # Simulate the robots for 100 seconds\n",
    "    # width, height = 101, 103 # !!! CHANGE !!!\n",
    "    width, height = 11, 7\n",
    "    \n",
    "    for _ in range(100):\n",
    "        for i in range(len(robots)):\n",
    "            px, py, vx, vy = robots[i]\n",
    "            px = (px + vx) % width\n",
    "            py = (py + vy) % height\n",
    "            robots[i] = (px, py, vx, vy)\n",
    "\n",
    "    # Count the number of robots in each quadrant\n",
    "    quadrants = [0, 0, 0, 0]\n",
    "\n",
    "    for px, py, _, _ in robots:\n",
    "        if px < width // 2 and py < height // 2:\n",
    "            quadrants[0] += 1\n",
    "        elif px >= width // 2 and py < height // 2:\n",
    "            quadrants[1] += 1\n",
    "        elif px < width // 2 and py >= height // 2:\n",
    "            quadrants[2] += 1\n",
    "        elif px >= width // 2 and py >= height // 2:\n",
    "            quadrants[3] += 1\n",
    "\n",
    "    # Calculate the safety factor\n",
    "    safety_factor = 1\n",
    "\n",
    "    for count in quadrants:\n",
    "        print(count)\n",
    "        safety_factor *= count\n",
    "\n",
    "    return safety_factor\n",
    "\n",
    "# Example usage:\n",
    "# robot_positions = [\n",
    "#     \"p=0,4 v=3,-3\",\n",
    "#     \"p=6,3 v=-1,-3\",\n",
    "#     \"p=10,3 v=-1,2\",\n",
    "#     \"p=2,0 v=2,-1\",\n",
    "#     \"p=0,0 v=1,3\",\n",
    "#     \"p=3,0 v=-2,-2\",\n",
    "#     \"p=7,6 v=-1,-3\",\n",
    "#     \"p=3,0 v=-1,-2\",\n",
    "#     \"p=9,3 v=2,3\",\n",
    "#     \"p=7,3 v=-1,2\",\n",
    "#     \"p=2,4 v=2,-3\",\n",
    "#     \"p=9,5 v=-3,-3\"\n",
    "# ]\n",
    "\n",
    "# print(calculate_safety_factor(robot_positions))"
   ]
  },
  {
   "cell_type": "code",
   "execution_count": 32,
   "metadata": {},
   "outputs": [],
   "source": [
    "# ===================================================================================================================="
   ]
  },
  {
   "cell_type": "markdown",
   "metadata": {},
   "source": [
    "## Part 1"
   ]
  },
  {
   "cell_type": "code",
   "execution_count": 21,
   "metadata": {},
   "outputs": [
    {
     "name": "stdout",
     "output_type": "stream",
     "text": [
      "1\n",
      "3\n",
      "6\n",
      "2\n",
      "36\n"
     ]
    }
   ],
   "source": [
    "# *** [PART 1] ***\n",
    "# ! PROBLEM: One of The Historians needs to use the bathroom; fortunately, you know there's a bathroom near an unvisited location on their list, and so you're all quickly teleported directly to the lobby of Easter Bunny Headquarters. Unfortunately, EBHQ seems to have \"improved\" bathroom security again after your last visit. The area outside the bathroom is swarming with robots!\n",
    "# - EACH robot's position in grid space = x (= number of tiles away from the LEFT wall = col),y (= number of tiles away from the TOP wall = row).\n",
    "# - EACH robot's velocity in grid space movements per second = x(col),y(row). +x = the robot is moving to the *right*; +y = the robot is moving *down*.\n",
    "# - NOTE: EACH robot can *teleport*: When a robot would run into an edge of the space they're in, they instead teleport to the OTHER side, effectively WRAPPING around the edges.\n",
    "# ! TODO: Get the Historians safely to the bathroom, avoiding the robots. Predict the motion of the robots in your list within a space which is 101 tiles wide and 103 tiles tall. What will the safety factor be after exactly 100 seconds have elapsed?\n",
    "# ====================================================================================================================\n",
    "# ! Create a deep (independent) copy of the data, such that changes made to the copy do not affect the original data to still test/re-run Part 1/2 with the correct INITIAL (and not modified) data\n",
    "# - NOTE: Not using a deep copy will modify the original data after running Part 1/2, therefore no correct output will be calculated anymore.\n",
    "robot_positions = copy.deepcopy(file_data)\n",
    "\n",
    "\n",
    "print(calculate_safety_factor(robot_positions))\n",
    "# ===================================================================================================================="
   ]
  },
  {
   "cell_type": "markdown",
   "metadata": {},
   "source": [
    "## Part 2"
   ]
  },
  {
   "cell_type": "code",
   "execution_count": null,
   "metadata": {},
   "outputs": [],
   "source": [
    "# *** [PART 2] ***\n",
    "# ! PROBLEM: xxx\n",
    "# ! TODO: xxx\n",
    "#====================================================================================================================\n",
    "# ! Create a deep (independent) copy of the data, such that changes made to the copy do not affect the original data to still test/re-run Part 1/2 with the correct INITIAL (and not modified) data\n",
    "# - NOTE: Not using a deep copy will modify the original data after running Part 1/2, therefore no correct output will be calculated anymore.\n",
    "var = copy.deepcopy(file_data)\n",
    "\n"
   ]
  },
  {
   "cell_type": "code",
   "execution_count": null,
   "metadata": {},
   "outputs": [],
   "source": []
  }
 ],
 "metadata": {
  "kernelspec": {
   "display_name": "Python 3",
   "language": "python",
   "name": "python3"
  },
  "language_info": {
   "codemirror_mode": {
    "name": "ipython",
    "version": 3
   },
   "file_extension": ".py",
   "mimetype": "text/x-python",
   "name": "python",
   "nbconvert_exporter": "python",
   "pygments_lexer": "ipython3",
   "version": "3.12.4"
  }
 },
 "nbformat": 4,
 "nbformat_minor": 2
}
