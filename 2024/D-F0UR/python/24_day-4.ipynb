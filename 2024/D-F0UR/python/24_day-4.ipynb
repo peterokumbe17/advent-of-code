{
 "cells": [
  {
   "cell_type": "markdown",
   "metadata": {},
   "source": [
    "# Day 4: Ceres Search"
   ]
  },
  {
   "cell_type": "markdown",
   "metadata": {},
   "source": [
    "## Import data"
   ]
  },
  {
   "cell_type": "code",
   "execution_count": 6,
   "metadata": {},
   "outputs": [
    {
     "name": "stdout",
     "output_type": "stream",
     "text": [
      "['MMMSXXMASM', 'MSAMXMSMSA', 'AMXSXMAAMM', 'MSAMASMSMX', 'XMASAMXAMM', 'XXAMMXXAMA', 'SMSMSASXSS', 'SAXAMASAAA', 'MAMMMXMMMM', 'MXMXAXMASX']\n"
     ]
    }
   ],
   "source": [
    "# *** [IMPORT DATA] ***\n",
    "# =====================================================================================================================\n",
    "import re\n",
    "\n",
    "# ! Open the file for reading mode (= default mode if the mode is not specified)\n",
    "file = open(\"../data/24_day-4_input-test.txt\", \"r\")\n",
    "\n",
    "# Read all the data in the file\n",
    "file_data = file.read()\n",
    "\n",
    "# Split the data read from the file by every new line encountered and store in an array list\n",
    "file_data = file_data.split('\\n')\n",
    "\n",
    "print(file_data)\n",
    "# ===================================================================================================================="
   ]
  },
  {
   "cell_type": "markdown",
   "metadata": {},
   "source": [
    "## Helper functions"
   ]
  },
  {
   "cell_type": "code",
   "execution_count": 12,
   "metadata": {},
   "outputs": [],
   "source": [
    "def find_horizontal(grid, word): # Finds horizontal matches\n",
    "    matches = []\n",
    "\n",
    "    for row in grid:\n",
    "        # L2R search:\n",
    "        # - Use re.finditer to find all occurrences of the word in the row\n",
    "        for match in re.finditer(word, row):\n",
    "            matches.append(match.start())\n",
    "\n",
    "    numMatches = sum(matches)\n",
    "\n",
    "    return numMatches"
   ]
  },
  {
   "cell_type": "code",
   "execution_count": 13,
   "metadata": {},
   "outputs": [],
   "source": [
    "def find_vertical(grid, word): # Finds vertical matches\n",
    "    matches = []\n",
    "    num_rows = len(grid)\n",
    "    num_cols = len(grid[0])\n",
    "\n",
    "    for col_index in range(num_cols):\n",
    "        column = ''.join(grid[row][col_index] for row in range(num_rows))\n",
    "        \n",
    "        # T2B search\n",
    "        for match in re.finditer(word, column):\n",
    "            matches.append(match.start())\n",
    "\n",
    "    numMatches = sum(matches)\n",
    "\n",
    "    return numMatches"
   ]
  },
  {
   "cell_type": "code",
   "execution_count": 14,
   "metadata": {},
   "outputs": [],
   "source": [
    "def find_diagonal(grid, word):\n",
    "    matches = []\n",
    "    num_rows = len(grid)\n",
    "    num_cols = len(grid[0])\n",
    "    max_diag = num_rows + num_cols - 1  # Total possible diagonals\n",
    "    \n",
    "    # Search diagonals from top-left to bottom-right\n",
    "    for diag in range(max_diag):\n",
    "        diag_string = ''\n",
    "        positions = []\n",
    "        \n",
    "        for row in range(num_rows):\n",
    "            col = diag - row\n",
    "\n",
    "            if 0 <= col < num_cols:\n",
    "                diag_string += grid[row][col]\n",
    "                positions.append((row, col))\n",
    "        \n",
    "        # Find matches in the diagonal string\n",
    "        for match in re.finditer(word, diag_string):\n",
    "            #start_index = match.start()\n",
    "            #row, col = positions[start_index]\n",
    "            matches.append(match.start())\n",
    "        \n",
    "        # Search bottom-right to top-left by reversing the diagonal string\n",
    "        reversed_diag_string = diag_string[::-1]\n",
    "\n",
    "        for match in re.finditer(word, reversed_diag_string):\n",
    "            #start_index = match.start()\n",
    "            #row, col = positions[len(positions) - start_index - len(word)]\n",
    "            matches.append(match.start())\n",
    "    \n",
    "    # Search diagonals from top-right to bottom-left\n",
    "    for diag in range(max_diag):\n",
    "        diag_string = ''\n",
    "        positions = []\n",
    "        \n",
    "        for row in range(num_rows):\n",
    "            col = row - diag\n",
    "\n",
    "            if 0 <= col < num_cols:\n",
    "                diag_string += grid[row][col]\n",
    "                positions.append((row, col))\n",
    "        \n",
    "        # Find matches in the diagonal string\n",
    "        for match in re.finditer(word, diag_string):\n",
    "            #start_index = match.start()\n",
    "            #row, col = positions[start_index]\n",
    "            matches.append(match.start())\n",
    "        \n",
    "        # Search bottom-left to top-right by reversing the diagonal string\n",
    "        reversed_diag_string = diag_string[::-1]\n",
    "\n",
    "        for match in re.finditer(word, reversed_diag_string):\n",
    "            #start_index = match.start()\n",
    "            #row, col = positions[len(positions) - start_index - len(word)]\n",
    "            matches.append(match.start())\n",
    "\n",
    "    sumMatches = sum(matches)\n",
    "    \n",
    "    return sumMatches"
   ]
  },
  {
   "cell_type": "markdown",
   "metadata": {},
   "source": [
    "## Part 1"
   ]
  },
  {
   "cell_type": "code",
   "execution_count": 15,
   "metadata": {},
   "outputs": [
    {
     "name": "stdout",
     "output_type": "stream",
     "text": [
      "199\n"
     ]
    }
   ],
   "source": [
    "# *** [PART 1] ***\n",
    "# ! PROBLEM: As the search for the Chief continues, a small Elf who lives on the station tugs on your shirt; she'd like to know if you could help her with her word search (your puzzle input). She only has to find one word: 'AssertionErrorXMAS'.\n",
    "# - TODO: Find all occurrences (horizontal, vertical, diagonal) of the word 'XMAS' (forwards & backwards) in the provided word search grid (puzzle input).\n",
    "# ====================================================================================================================\n",
    "# Define the words to search for\n",
    "words = [\"XMAS\", \"SAMX\"]\n",
    "sumMatches = 0\n",
    "\n",
    "for word in words:\n",
    "    sumMatches += find_horizontal(file_data, word)\n",
    "    sumMatches += find_vertical(file_data, word)\n",
    "\n",
    "sumMatches += find_diagonal(file_data, word[0])\n",
    "\n",
    "print(sumMatches)"
   ]
  },
  {
   "cell_type": "markdown",
   "metadata": {},
   "source": [
    "## Part 2"
   ]
  },
  {
   "cell_type": "code",
   "execution_count": null,
   "metadata": {},
   "outputs": [],
   "source": [
    "# *** [PART 2] ***\n",
    "# ! PROBLEM: xxx\n",
    "# - TODO: xxx\n",
    "# ---------------------------------------------------------------------------------------------------------------------\n"
   ]
  }
 ],
 "metadata": {
  "kernelspec": {
   "display_name": "base",
   "language": "python",
   "name": "python3"
  },
  "language_info": {
   "codemirror_mode": {
    "name": "ipython",
    "version": 3
   },
   "file_extension": ".py",
   "mimetype": "text/x-python",
   "name": "python",
   "nbconvert_exporter": "python",
   "pygments_lexer": "ipython3",
   "version": "3.9.7"
  }
 },
 "nbformat": 4,
 "nbformat_minor": 2
}
